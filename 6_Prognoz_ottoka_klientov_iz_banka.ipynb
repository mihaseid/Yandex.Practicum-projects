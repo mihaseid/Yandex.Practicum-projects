{
 "cells": [
  {
   "cell_type": "markdown",
   "metadata": {
    "toc": true
   },
   "source": [
    "<h1>Оглавление<span class=\"tocSkip\"></span></h1>\n",
    "<div class=\"toc\"><ul class=\"toc-item\"><li><span><a href=\"#Описание-и-задачи-проекта.\" data-toc-modified-id=\"Описание-и-задачи-проекта.-1\"><span class=\"toc-item-num\">1&nbsp;&nbsp;</span>Описание и задачи проекта.</a></span></li><li><span><a href=\"#Подготовка-данных.\" data-toc-modified-id=\"Подготовка-данных.-2\"><span class=\"toc-item-num\">2&nbsp;&nbsp;</span>Подготовка данных.</a></span><ul class=\"toc-item\"><li><span><a href=\"#Пропуски-в-данных.\" data-toc-modified-id=\"Пропуски-в-данных.-2.1\"><span class=\"toc-item-num\">2.1&nbsp;&nbsp;</span>Пропуски в данных.</a></span></li><li><span><a href=\"#Лишние-данные.\" data-toc-modified-id=\"Лишние-данные.-2.2\"><span class=\"toc-item-num\">2.2&nbsp;&nbsp;</span>Лишние данные.</a></span></li><li><span><a href=\"#Подготовка-признаков.-Кодирование.\" data-toc-modified-id=\"Подготовка-признаков.-Кодирование.-2.3\"><span class=\"toc-item-num\">2.3&nbsp;&nbsp;</span>Подготовка признаков. Кодирование.</a></span></li><li><span><a href=\"#Разделение-выборки.\" data-toc-modified-id=\"Разделение-выборки.-2.4\"><span class=\"toc-item-num\">2.4&nbsp;&nbsp;</span>Разделение выборки.</a></span></li><li><span><a href=\"#Разделение-признаков.\" data-toc-modified-id=\"Разделение-признаков.-2.5\"><span class=\"toc-item-num\">2.5&nbsp;&nbsp;</span>Разделение признаков.</a></span></li><li><span><a href=\"#Матрица-корреляций-признаков.\" data-toc-modified-id=\"Матрица-корреляций-признаков.-2.6\"><span class=\"toc-item-num\">2.6&nbsp;&nbsp;</span>Матрица корреляций признаков.</a></span></li><li><span><a href=\"#Проверка-распределений-на-&quot;нормальность&quot;.-Масштабирование.\" data-toc-modified-id=\"Проверка-распределений-на-&quot;нормальность&quot;.-Масштабирование.-2.7\"><span class=\"toc-item-num\">2.7&nbsp;&nbsp;</span>Проверка распределений на \"нормальность\". Масштабирование.</a></span></li></ul></li><li><span><a href=\"#Исследование-задачи\" data-toc-modified-id=\"Исследование-задачи-3\"><span class=\"toc-item-num\">3&nbsp;&nbsp;</span>Исследование задачи</a></span><ul class=\"toc-item\"><li><span><a href=\"#План-исследования.-Баланс-классов.\" data-toc-modified-id=\"План-исследования.-Баланс-классов.-3.1\"><span class=\"toc-item-num\">3.1&nbsp;&nbsp;</span>План исследования. Баланс классов.</a></span></li><li><span><a href=\"#Решающее-дерево-без-учёта-дисбаланса.-Подбор-глубины.\" data-toc-modified-id=\"Решающее-дерево-без-учёта-дисбаланса.-Подбор-глубины.-3.2\"><span class=\"toc-item-num\">3.2&nbsp;&nbsp;</span>Решающее дерево без учёта дисбаланса. Подбор глубины.</a></span></li><li><span><a href=\"#Случайный-лес-без-учёта-дисбаланса.-Подбор-глубины-и-количества-оценщиков.\" data-toc-modified-id=\"Случайный-лес-без-учёта-дисбаланса.-Подбор-глубины-и-количества-оценщиков.-3.3\"><span class=\"toc-item-num\">3.3&nbsp;&nbsp;</span>Случайный лес без учёта дисбаланса. Подбор глубины и количества оценщиков.</a></span></li><li><span><a href=\"#Логистическая-регрессия-без-учёта-дисбаланса.\" data-toc-modified-id=\"Логистическая-регрессия-без-учёта-дисбаланса.-3.4\"><span class=\"toc-item-num\">3.4&nbsp;&nbsp;</span>Логистическая регрессия без учёта дисбаланса.</a></span></li><li><span><a href=\"#Выбор-лучшей-модели-для-дальнейшей-работы.\" data-toc-modified-id=\"Выбор-лучшей-модели-для-дальнейшей-работы.-3.5\"><span class=\"toc-item-num\">3.5&nbsp;&nbsp;</span>Выбор лучшей модели для дальнейшей работы.</a></span></li></ul></li><li><span><a href=\"#Борьба-с-дисбалансом\" data-toc-modified-id=\"Борьба-с-дисбалансом-4\"><span class=\"toc-item-num\">4&nbsp;&nbsp;</span>Борьба с дисбалансом</a></span><ul class=\"toc-item\"><li><span><a href=\"#Взвешивание-классов.\" data-toc-modified-id=\"Взвешивание-классов.-4.1\"><span class=\"toc-item-num\">4.1&nbsp;&nbsp;</span>Взвешивание классов.</a></span></li><li><span><a href=\"#Увеличение-выборки.\" data-toc-modified-id=\"Увеличение-выборки.-4.2\"><span class=\"toc-item-num\">4.2&nbsp;&nbsp;</span>Увеличение выборки.</a></span></li><li><span><a href=\"#Уменьшение-выборки.\" data-toc-modified-id=\"Уменьшение-выборки.-4.3\"><span class=\"toc-item-num\">4.3&nbsp;&nbsp;</span>Уменьшение выборки.</a></span></li><li><span><a href=\"#Подбор-гиперпараметров-случайного-леса-с-учётом-дисбаланса-классов.\" data-toc-modified-id=\"Подбор-гиперпараметров-случайного-леса-с-учётом-дисбаланса-классов.-4.4\"><span class=\"toc-item-num\">4.4&nbsp;&nbsp;</span>Подбор гиперпараметров случайного леса с учётом дисбаланса классов.</a></span></li></ul></li><li><span><a href=\"#Тестирование-модели.\" data-toc-modified-id=\"Тестирование-модели.-5\"><span class=\"toc-item-num\">5&nbsp;&nbsp;</span>Тестирование модели.</a></span><ul class=\"toc-item\"><li><span><a href=\"#Сравнение-с-константной-моделью.\" data-toc-modified-id=\"Сравнение-с-константной-моделью.-5.1\"><span class=\"toc-item-num\">5.1&nbsp;&nbsp;</span>Сравнение с константной моделью.</a></span></li><li><span><a href=\"#ROC-кривая-для-тестовых-данных.\" data-toc-modified-id=\"ROC-кривая-для-тестовых-данных.-5.2\"><span class=\"toc-item-num\">5.2&nbsp;&nbsp;</span>ROC-кривая для тестовых данных.</a></span></li><li><span><a href=\"#Выводы.\" data-toc-modified-id=\"Выводы.-5.3\"><span class=\"toc-item-num\">5.3&nbsp;&nbsp;</span>Выводы.</a></span></li></ul></li></ul></div>"
   ]
  },
  {
   "cell_type": "markdown",
   "metadata": {},
   "source": [
    "# Отток клиентов"
   ]
  },
  {
   "cell_type": "markdown",
   "metadata": {},
   "source": [
    "## Описание и задачи проекта."
   ]
  },
  {
   "cell_type": "markdown",
   "metadata": {},
   "source": [
    "Из «Бета-Банка» стали уходить клиенты. Каждый месяц. Немного, но заметно. Банковские маркетологи посчитали: сохранять текущих клиентов дешевле, чем привлекать новых.\n",
    "\n",
    "Нужно спрогнозировать, уйдёт клиент из банка в ближайшее время или нет. Вам предоставлены исторические данные о поведении клиентов и расторжении договоров с банком. \n",
    "\n",
    "Постройте модель с предельно большим значением *F1*-меры. Чтобы сдать проект успешно, нужно довести метрику до 0.59. Проверьте *F1*-меру на тестовой выборке самостоятельно.\n",
    "\n",
    "Дополнительно измеряйте *AUC-ROC*, сравнивайте её значение с *F1*-мерой.\n",
    "\n",
    "Источник данных: [https://www.kaggle.com/barelydedicated/bank-customer-churn-modeling](https://www.kaggle.com/barelydedicated/bank-customer-churn-modeling)"
   ]
  },
  {
   "cell_type": "markdown",
   "metadata": {},
   "source": [
    "## Подготовка данных."
   ]
  },
  {
   "cell_type": "code",
   "execution_count": 1,
   "metadata": {},
   "outputs": [],
   "source": [
    "# Загрузка необходимых утилит и библиотек:\n",
    "import pandas as pd\n",
    "import numpy as np\n",
    "from sklearn.model_selection import train_test_split\n",
    "from sklearn.preprocessing import StandardScaler\n",
    "from sklearn.linear_model import LogisticRegression\n",
    "from sklearn.ensemble import RandomForestClassifier\n",
    "from sklearn.tree import DecisionTreeClassifier\n",
    "from sklearn.metrics import f1_score, roc_auc_score\n",
    "from sklearn.utils import shuffle\n",
    "from sklearn.metrics import roc_curve\n",
    "import matplotlib.pyplot as plt"
   ]
  },
  {
   "cell_type": "code",
   "execution_count": 2,
   "metadata": {
    "scrolled": true
   },
   "outputs": [
    {
     "data": {
      "text/html": [
       "<div>\n",
       "<style scoped>\n",
       "    .dataframe tbody tr th:only-of-type {\n",
       "        vertical-align: middle;\n",
       "    }\n",
       "\n",
       "    .dataframe tbody tr th {\n",
       "        vertical-align: top;\n",
       "    }\n",
       "\n",
       "    .dataframe thead th {\n",
       "        text-align: right;\n",
       "    }\n",
       "</style>\n",
       "<table border=\"1\" class=\"dataframe\">\n",
       "  <thead>\n",
       "    <tr style=\"text-align: right;\">\n",
       "      <th></th>\n",
       "      <th>RowNumber</th>\n",
       "      <th>CustomerId</th>\n",
       "      <th>Surname</th>\n",
       "      <th>CreditScore</th>\n",
       "      <th>Geography</th>\n",
       "      <th>Gender</th>\n",
       "      <th>Age</th>\n",
       "      <th>Tenure</th>\n",
       "      <th>Balance</th>\n",
       "      <th>NumOfProducts</th>\n",
       "      <th>HasCrCard</th>\n",
       "      <th>IsActiveMember</th>\n",
       "      <th>EstimatedSalary</th>\n",
       "      <th>Exited</th>\n",
       "    </tr>\n",
       "  </thead>\n",
       "  <tbody>\n",
       "    <tr>\n",
       "      <td>0</td>\n",
       "      <td>1</td>\n",
       "      <td>15634602</td>\n",
       "      <td>Hargrave</td>\n",
       "      <td>619</td>\n",
       "      <td>France</td>\n",
       "      <td>Female</td>\n",
       "      <td>42</td>\n",
       "      <td>2.0</td>\n",
       "      <td>0.00</td>\n",
       "      <td>1</td>\n",
       "      <td>1</td>\n",
       "      <td>1</td>\n",
       "      <td>101348.88</td>\n",
       "      <td>1</td>\n",
       "    </tr>\n",
       "    <tr>\n",
       "      <td>1</td>\n",
       "      <td>2</td>\n",
       "      <td>15647311</td>\n",
       "      <td>Hill</td>\n",
       "      <td>608</td>\n",
       "      <td>Spain</td>\n",
       "      <td>Female</td>\n",
       "      <td>41</td>\n",
       "      <td>1.0</td>\n",
       "      <td>83807.86</td>\n",
       "      <td>1</td>\n",
       "      <td>0</td>\n",
       "      <td>1</td>\n",
       "      <td>112542.58</td>\n",
       "      <td>0</td>\n",
       "    </tr>\n",
       "    <tr>\n",
       "      <td>2</td>\n",
       "      <td>3</td>\n",
       "      <td>15619304</td>\n",
       "      <td>Onio</td>\n",
       "      <td>502</td>\n",
       "      <td>France</td>\n",
       "      <td>Female</td>\n",
       "      <td>42</td>\n",
       "      <td>8.0</td>\n",
       "      <td>159660.80</td>\n",
       "      <td>3</td>\n",
       "      <td>1</td>\n",
       "      <td>0</td>\n",
       "      <td>113931.57</td>\n",
       "      <td>1</td>\n",
       "    </tr>\n",
       "    <tr>\n",
       "      <td>3</td>\n",
       "      <td>4</td>\n",
       "      <td>15701354</td>\n",
       "      <td>Boni</td>\n",
       "      <td>699</td>\n",
       "      <td>France</td>\n",
       "      <td>Female</td>\n",
       "      <td>39</td>\n",
       "      <td>1.0</td>\n",
       "      <td>0.00</td>\n",
       "      <td>2</td>\n",
       "      <td>0</td>\n",
       "      <td>0</td>\n",
       "      <td>93826.63</td>\n",
       "      <td>0</td>\n",
       "    </tr>\n",
       "    <tr>\n",
       "      <td>4</td>\n",
       "      <td>5</td>\n",
       "      <td>15737888</td>\n",
       "      <td>Mitchell</td>\n",
       "      <td>850</td>\n",
       "      <td>Spain</td>\n",
       "      <td>Female</td>\n",
       "      <td>43</td>\n",
       "      <td>2.0</td>\n",
       "      <td>125510.82</td>\n",
       "      <td>1</td>\n",
       "      <td>1</td>\n",
       "      <td>1</td>\n",
       "      <td>79084.10</td>\n",
       "      <td>0</td>\n",
       "    </tr>\n",
       "  </tbody>\n",
       "</table>\n",
       "</div>"
      ],
      "text/plain": [
       "   RowNumber  CustomerId   Surname  CreditScore Geography  Gender  Age  \\\n",
       "0          1    15634602  Hargrave          619    France  Female   42   \n",
       "1          2    15647311      Hill          608     Spain  Female   41   \n",
       "2          3    15619304      Onio          502    France  Female   42   \n",
       "3          4    15701354      Boni          699    France  Female   39   \n",
       "4          5    15737888  Mitchell          850     Spain  Female   43   \n",
       "\n",
       "   Tenure    Balance  NumOfProducts  HasCrCard  IsActiveMember  \\\n",
       "0     2.0       0.00              1          1               1   \n",
       "1     1.0   83807.86              1          0               1   \n",
       "2     8.0  159660.80              3          1               0   \n",
       "3     1.0       0.00              2          0               0   \n",
       "4     2.0  125510.82              1          1               1   \n",
       "\n",
       "   EstimatedSalary  Exited  \n",
       "0        101348.88       1  \n",
       "1        112542.58       0  \n",
       "2        113931.57       1  \n",
       "3         93826.63       0  \n",
       "4         79084.10       0  "
      ]
     },
     "metadata": {},
     "output_type": "display_data"
    },
    {
     "name": "stdout",
     "output_type": "stream",
     "text": [
      "<class 'pandas.core.frame.DataFrame'>\n",
      "RangeIndex: 10000 entries, 0 to 9999\n",
      "Data columns (total 14 columns):\n",
      "RowNumber          10000 non-null int64\n",
      "CustomerId         10000 non-null int64\n",
      "Surname            10000 non-null object\n",
      "CreditScore        10000 non-null int64\n",
      "Geography          10000 non-null object\n",
      "Gender             10000 non-null object\n",
      "Age                10000 non-null int64\n",
      "Tenure             9091 non-null float64\n",
      "Balance            10000 non-null float64\n",
      "NumOfProducts      10000 non-null int64\n",
      "HasCrCard          10000 non-null int64\n",
      "IsActiveMember     10000 non-null int64\n",
      "EstimatedSalary    10000 non-null float64\n",
      "Exited             10000 non-null int64\n",
      "dtypes: float64(3), int64(8), object(3)\n",
      "memory usage: 1.1+ MB\n"
     ]
    }
   ],
   "source": [
    "# Загружаем датасет, смотрим первые несколько строк и общую инфо:\n",
    "data = pd.read_csv('/datasets/Churn.csv')\n",
    "display(data.head())\n",
    "data.info()"
   ]
  },
  {
   "cell_type": "markdown",
   "metadata": {},
   "source": [
    "### Пропуски в данных."
   ]
  },
  {
   "cell_type": "markdown",
   "metadata": {},
   "source": [
    "У нас почти отсутствуют пропуски в данных, кроме одного столбца - с количеством недвижимости у клиента. Предположим, что эта информация не указана для этих клиентов по той простой причине, что недвижимости нет. Проставим нули на эти места, потому что удалять такой большой процент данных жалко."
   ]
  },
  {
   "cell_type": "code",
   "execution_count": 3,
   "metadata": {},
   "outputs": [],
   "source": [
    "data['Tenure'] = data['Tenure'].fillna(0)"
   ]
  },
  {
   "cell_type": "markdown",
   "metadata": {},
   "source": [
    "### Лишние данные."
   ]
  },
  {
   "cell_type": "markdown",
   "metadata": {},
   "source": [
    "Столбцы с индексом строки в данных, идентификаторами и фамилиями клиентов нам никак в обучении машины не помогут. Мы их в разведку не возьмём, удалим сейчас же."
   ]
  },
  {
   "cell_type": "code",
   "execution_count": 4,
   "metadata": {},
   "outputs": [],
   "source": [
    "data = data.drop((['RowNumber', 'Surname', 'CustomerId']), axis = 1)"
   ]
  },
  {
   "cell_type": "code",
   "execution_count": 5,
   "metadata": {},
   "outputs": [
    {
     "data": {
      "text/html": [
       "<div>\n",
       "<style scoped>\n",
       "    .dataframe tbody tr th:only-of-type {\n",
       "        vertical-align: middle;\n",
       "    }\n",
       "\n",
       "    .dataframe tbody tr th {\n",
       "        vertical-align: top;\n",
       "    }\n",
       "\n",
       "    .dataframe thead th {\n",
       "        text-align: right;\n",
       "    }\n",
       "</style>\n",
       "<table border=\"1\" class=\"dataframe\">\n",
       "  <thead>\n",
       "    <tr style=\"text-align: right;\">\n",
       "      <th></th>\n",
       "      <th>CreditScore</th>\n",
       "      <th>Geography</th>\n",
       "      <th>Gender</th>\n",
       "      <th>Age</th>\n",
       "      <th>Tenure</th>\n",
       "      <th>Balance</th>\n",
       "      <th>NumOfProducts</th>\n",
       "      <th>HasCrCard</th>\n",
       "      <th>IsActiveMember</th>\n",
       "      <th>EstimatedSalary</th>\n",
       "      <th>Exited</th>\n",
       "    </tr>\n",
       "  </thead>\n",
       "  <tbody>\n",
       "    <tr>\n",
       "      <td>0</td>\n",
       "      <td>619</td>\n",
       "      <td>France</td>\n",
       "      <td>Female</td>\n",
       "      <td>42</td>\n",
       "      <td>2.0</td>\n",
       "      <td>0.00</td>\n",
       "      <td>1</td>\n",
       "      <td>1</td>\n",
       "      <td>1</td>\n",
       "      <td>101348.88</td>\n",
       "      <td>1</td>\n",
       "    </tr>\n",
       "    <tr>\n",
       "      <td>1</td>\n",
       "      <td>608</td>\n",
       "      <td>Spain</td>\n",
       "      <td>Female</td>\n",
       "      <td>41</td>\n",
       "      <td>1.0</td>\n",
       "      <td>83807.86</td>\n",
       "      <td>1</td>\n",
       "      <td>0</td>\n",
       "      <td>1</td>\n",
       "      <td>112542.58</td>\n",
       "      <td>0</td>\n",
       "    </tr>\n",
       "    <tr>\n",
       "      <td>2</td>\n",
       "      <td>502</td>\n",
       "      <td>France</td>\n",
       "      <td>Female</td>\n",
       "      <td>42</td>\n",
       "      <td>8.0</td>\n",
       "      <td>159660.80</td>\n",
       "      <td>3</td>\n",
       "      <td>1</td>\n",
       "      <td>0</td>\n",
       "      <td>113931.57</td>\n",
       "      <td>1</td>\n",
       "    </tr>\n",
       "    <tr>\n",
       "      <td>3</td>\n",
       "      <td>699</td>\n",
       "      <td>France</td>\n",
       "      <td>Female</td>\n",
       "      <td>39</td>\n",
       "      <td>1.0</td>\n",
       "      <td>0.00</td>\n",
       "      <td>2</td>\n",
       "      <td>0</td>\n",
       "      <td>0</td>\n",
       "      <td>93826.63</td>\n",
       "      <td>0</td>\n",
       "    </tr>\n",
       "    <tr>\n",
       "      <td>4</td>\n",
       "      <td>850</td>\n",
       "      <td>Spain</td>\n",
       "      <td>Female</td>\n",
       "      <td>43</td>\n",
       "      <td>2.0</td>\n",
       "      <td>125510.82</td>\n",
       "      <td>1</td>\n",
       "      <td>1</td>\n",
       "      <td>1</td>\n",
       "      <td>79084.10</td>\n",
       "      <td>0</td>\n",
       "    </tr>\n",
       "  </tbody>\n",
       "</table>\n",
       "</div>"
      ],
      "text/plain": [
       "   CreditScore Geography  Gender  Age  Tenure    Balance  NumOfProducts  \\\n",
       "0          619    France  Female   42     2.0       0.00              1   \n",
       "1          608     Spain  Female   41     1.0   83807.86              1   \n",
       "2          502    France  Female   42     8.0  159660.80              3   \n",
       "3          699    France  Female   39     1.0       0.00              2   \n",
       "4          850     Spain  Female   43     2.0  125510.82              1   \n",
       "\n",
       "   HasCrCard  IsActiveMember  EstimatedSalary  Exited  \n",
       "0          1               1        101348.88       1  \n",
       "1          0               1        112542.58       0  \n",
       "2          1               0        113931.57       1  \n",
       "3          0               0         93826.63       0  \n",
       "4          1               1         79084.10       0  "
      ]
     },
     "execution_count": 5,
     "metadata": {},
     "output_type": "execute_result"
    }
   ],
   "source": [
    "data.head()"
   ]
  },
  {
   "cell_type": "markdown",
   "metadata": {},
   "source": [
    "### Подготовка признаков. Кодирование."
   ]
  },
  {
   "cell_type": "markdown",
   "metadata": {},
   "source": [
    "Все признаки, кроме двух, количественные. Мы можем привести два качественных признака к числовому варианту путём кодирования OHE. Сделаем это немедля. Не забудем про дамми-ловушку, уберём один из дамми-признаков."
   ]
  },
  {
   "cell_type": "code",
   "execution_count": 6,
   "metadata": {
    "scrolled": true
   },
   "outputs": [
    {
     "data": {
      "text/html": [
       "<div>\n",
       "<style scoped>\n",
       "    .dataframe tbody tr th:only-of-type {\n",
       "        vertical-align: middle;\n",
       "    }\n",
       "\n",
       "    .dataframe tbody tr th {\n",
       "        vertical-align: top;\n",
       "    }\n",
       "\n",
       "    .dataframe thead th {\n",
       "        text-align: right;\n",
       "    }\n",
       "</style>\n",
       "<table border=\"1\" class=\"dataframe\">\n",
       "  <thead>\n",
       "    <tr style=\"text-align: right;\">\n",
       "      <th></th>\n",
       "      <th>CreditScore</th>\n",
       "      <th>Age</th>\n",
       "      <th>Tenure</th>\n",
       "      <th>Balance</th>\n",
       "      <th>NumOfProducts</th>\n",
       "      <th>HasCrCard</th>\n",
       "      <th>IsActiveMember</th>\n",
       "      <th>EstimatedSalary</th>\n",
       "      <th>Exited</th>\n",
       "      <th>Geography_Germany</th>\n",
       "      <th>Geography_Spain</th>\n",
       "      <th>Gender_Male</th>\n",
       "    </tr>\n",
       "  </thead>\n",
       "  <tbody>\n",
       "    <tr>\n",
       "      <td>0</td>\n",
       "      <td>619</td>\n",
       "      <td>42</td>\n",
       "      <td>2.0</td>\n",
       "      <td>0.00</td>\n",
       "      <td>1</td>\n",
       "      <td>1</td>\n",
       "      <td>1</td>\n",
       "      <td>101348.88</td>\n",
       "      <td>1</td>\n",
       "      <td>0</td>\n",
       "      <td>0</td>\n",
       "      <td>0</td>\n",
       "    </tr>\n",
       "    <tr>\n",
       "      <td>1</td>\n",
       "      <td>608</td>\n",
       "      <td>41</td>\n",
       "      <td>1.0</td>\n",
       "      <td>83807.86</td>\n",
       "      <td>1</td>\n",
       "      <td>0</td>\n",
       "      <td>1</td>\n",
       "      <td>112542.58</td>\n",
       "      <td>0</td>\n",
       "      <td>0</td>\n",
       "      <td>1</td>\n",
       "      <td>0</td>\n",
       "    </tr>\n",
       "    <tr>\n",
       "      <td>2</td>\n",
       "      <td>502</td>\n",
       "      <td>42</td>\n",
       "      <td>8.0</td>\n",
       "      <td>159660.80</td>\n",
       "      <td>3</td>\n",
       "      <td>1</td>\n",
       "      <td>0</td>\n",
       "      <td>113931.57</td>\n",
       "      <td>1</td>\n",
       "      <td>0</td>\n",
       "      <td>0</td>\n",
       "      <td>0</td>\n",
       "    </tr>\n",
       "    <tr>\n",
       "      <td>3</td>\n",
       "      <td>699</td>\n",
       "      <td>39</td>\n",
       "      <td>1.0</td>\n",
       "      <td>0.00</td>\n",
       "      <td>2</td>\n",
       "      <td>0</td>\n",
       "      <td>0</td>\n",
       "      <td>93826.63</td>\n",
       "      <td>0</td>\n",
       "      <td>0</td>\n",
       "      <td>0</td>\n",
       "      <td>0</td>\n",
       "    </tr>\n",
       "    <tr>\n",
       "      <td>4</td>\n",
       "      <td>850</td>\n",
       "      <td>43</td>\n",
       "      <td>2.0</td>\n",
       "      <td>125510.82</td>\n",
       "      <td>1</td>\n",
       "      <td>1</td>\n",
       "      <td>1</td>\n",
       "      <td>79084.10</td>\n",
       "      <td>0</td>\n",
       "      <td>0</td>\n",
       "      <td>1</td>\n",
       "      <td>0</td>\n",
       "    </tr>\n",
       "  </tbody>\n",
       "</table>\n",
       "</div>"
      ],
      "text/plain": [
       "   CreditScore  Age  Tenure    Balance  NumOfProducts  HasCrCard  \\\n",
       "0          619   42     2.0       0.00              1          1   \n",
       "1          608   41     1.0   83807.86              1          0   \n",
       "2          502   42     8.0  159660.80              3          1   \n",
       "3          699   39     1.0       0.00              2          0   \n",
       "4          850   43     2.0  125510.82              1          1   \n",
       "\n",
       "   IsActiveMember  EstimatedSalary  Exited  Geography_Germany  \\\n",
       "0               1        101348.88       1                  0   \n",
       "1               1        112542.58       0                  0   \n",
       "2               0        113931.57       1                  0   \n",
       "3               0         93826.63       0                  0   \n",
       "4               1         79084.10       0                  0   \n",
       "\n",
       "   Geography_Spain  Gender_Male  \n",
       "0                0            0  \n",
       "1                1            0  \n",
       "2                0            0  \n",
       "3                0            0  \n",
       "4                1            0  "
      ]
     },
     "execution_count": 6,
     "metadata": {},
     "output_type": "execute_result"
    }
   ],
   "source": [
    "data_ohe = pd.get_dummies(data, drop_first=True)\n",
    "data_ohe.head()"
   ]
  },
  {
   "cell_type": "markdown",
   "metadata": {},
   "source": [
    "### Разделение выборки."
   ]
  },
  {
   "cell_type": "markdown",
   "metadata": {},
   "source": [
    "Тестовых данных отдельно нам не предоставлено, будем делить все имеющиеся данные на три части: обучающую, валидационную и тестовую выборки."
   ]
  },
  {
   "cell_type": "code",
   "execution_count": 7,
   "metadata": {
    "scrolled": true
   },
   "outputs": [
    {
     "name": "stdout",
     "output_type": "stream",
     "text": [
      "Размеры полученных выборок:\n",
      "\n",
      " Обучающая: (6000, 12) \n",
      " Валидационная: (2000, 12) \n",
      " Тестовая: (2000, 12)\n"
     ]
    }
   ],
   "source": [
    "# так как метод может разделить выборку только на две, применим его дважды:\n",
    "data_train, data_valid = train_test_split(data_ohe, test_size = 0.2, random_state=42)\n",
    "data_train, data_test = train_test_split(data_train, test_size = 0.25, random_state=42)\n",
    "\n",
    "print(\"Размеры полученных выборок:\")\n",
    "print('\\n', \"Обучающая:\", data_train.shape, '\\n',\n",
    "      \"Валидационная:\", data_valid.shape, '\\n',\n",
    "      \"Тестовая:\", data_test.shape)"
   ]
  },
  {
   "cell_type": "markdown",
   "metadata": {},
   "source": [
    "### Разделение признаков."
   ]
  },
  {
   "cell_type": "markdown",
   "metadata": {},
   "source": [
    "Настала пора отделить целевой признак от остальных. "
   ]
  },
  {
   "cell_type": "code",
   "execution_count": 8,
   "metadata": {},
   "outputs": [],
   "source": [
    "features_train = data_train.drop('Exited', axis=1)\n",
    "target_train = data_train['Exited']\n",
    "features_valid = data_valid.drop('Exited', axis=1)\n",
    "target_valid = data_valid['Exited']\n",
    "features_test = data_test.drop('Exited', axis=1)\n",
    "target_test = data_test['Exited']"
   ]
  },
  {
   "cell_type": "markdown",
   "metadata": {},
   "source": [
    "### Матрица корреляций признаков."
   ]
  },
  {
   "cell_type": "markdown",
   "metadata": {},
   "source": [
    "Посмотрим на всякий случай на матрицу корреляций признаков в обучающей выборке."
   ]
  },
  {
   "cell_type": "code",
   "execution_count": 9,
   "metadata": {},
   "outputs": [
    {
     "data": {
      "text/html": [
       "<style  type=\"text/css\" >\n",
       "    #T_5734a268_55e9_11ec_bd7d_02420a390821row0_col0 {\n",
       "            background-color:  #2d004b;\n",
       "            color:  #f1f1f1;\n",
       "        }    #T_5734a268_55e9_11ec_bd7d_02420a390821row0_col1 {\n",
       "            background-color:  #914507;\n",
       "            color:  #f1f1f1;\n",
       "        }    #T_5734a268_55e9_11ec_bd7d_02420a390821row0_col2 {\n",
       "            background-color:  #894108;\n",
       "            color:  #f1f1f1;\n",
       "        }    #T_5734a268_55e9_11ec_bd7d_02420a390821row0_col3 {\n",
       "            background-color:  #ed9936;\n",
       "            color:  #000000;\n",
       "        }    #T_5734a268_55e9_11ec_bd7d_02420a390821row0_col4 {\n",
       "            background-color:  #f0a03f;\n",
       "            color:  #000000;\n",
       "        }    #T_5734a268_55e9_11ec_bd7d_02420a390821row0_col5 {\n",
       "            background-color:  #813c08;\n",
       "            color:  #f1f1f1;\n",
       "        }    #T_5734a268_55e9_11ec_bd7d_02420a390821row0_col6 {\n",
       "            background-color:  #9a4a07;\n",
       "            color:  #f1f1f1;\n",
       "        }    #T_5734a268_55e9_11ec_bd7d_02420a390821row0_col7 {\n",
       "            background-color:  #833d08;\n",
       "            color:  #f1f1f1;\n",
       "        }    #T_5734a268_55e9_11ec_bd7d_02420a390821row0_col8 {\n",
       "            background-color:  #ef9e3c;\n",
       "            color:  #000000;\n",
       "        }    #T_5734a268_55e9_11ec_bd7d_02420a390821row0_col9 {\n",
       "            background-color:  #ef9e3c;\n",
       "            color:  #000000;\n",
       "        }    #T_5734a268_55e9_11ec_bd7d_02420a390821row0_col10 {\n",
       "            background-color:  #874008;\n",
       "            color:  #f1f1f1;\n",
       "        }    #T_5734a268_55e9_11ec_bd7d_02420a390821row1_col0 {\n",
       "            background-color:  #853e08;\n",
       "            color:  #f1f1f1;\n",
       "        }    #T_5734a268_55e9_11ec_bd7d_02420a390821row1_col1 {\n",
       "            background-color:  #2d004b;\n",
       "            color:  #f1f1f1;\n",
       "        }    #T_5734a268_55e9_11ec_bd7d_02420a390821row1_col2 {\n",
       "            background-color:  #8b4208;\n",
       "            color:  #f1f1f1;\n",
       "        }    #T_5734a268_55e9_11ec_bd7d_02420a390821row1_col3 {\n",
       "            background-color:  #f0a03f;\n",
       "            color:  #000000;\n",
       "        }    #T_5734a268_55e9_11ec_bd7d_02420a390821row1_col4 {\n",
       "            background-color:  #e18417;\n",
       "            color:  #000000;\n",
       "        }    #T_5734a268_55e9_11ec_bd7d_02420a390821row1_col5 {\n",
       "            background-color:  #7f3b08;\n",
       "            color:  #f1f1f1;\n",
       "        }    #T_5734a268_55e9_11ec_bd7d_02420a390821row1_col6 {\n",
       "            background-color:  #be630a;\n",
       "            color:  #000000;\n",
       "        }    #T_5734a268_55e9_11ec_bd7d_02420a390821row1_col7 {\n",
       "            background-color:  #833d08;\n",
       "            color:  #f1f1f1;\n",
       "        }    #T_5734a268_55e9_11ec_bd7d_02420a390821row1_col8 {\n",
       "            background-color:  #f7ac52;\n",
       "            color:  #000000;\n",
       "        }    #T_5734a268_55e9_11ec_bd7d_02420a390821row1_col9 {\n",
       "            background-color:  #ee9b39;\n",
       "            color:  #000000;\n",
       "        }    #T_5734a268_55e9_11ec_bd7d_02420a390821row1_col10 {\n",
       "            background-color:  #7f3b08;\n",
       "            color:  #f1f1f1;\n",
       "        }    #T_5734a268_55e9_11ec_bd7d_02420a390821row2_col0 {\n",
       "            background-color:  #813c08;\n",
       "            color:  #f1f1f1;\n",
       "        }    #T_5734a268_55e9_11ec_bd7d_02420a390821row2_col1 {\n",
       "            background-color:  #8f4407;\n",
       "            color:  #f1f1f1;\n",
       "        }    #T_5734a268_55e9_11ec_bd7d_02420a390821row2_col2 {\n",
       "            background-color:  #2d004b;\n",
       "            color:  #f1f1f1;\n",
       "        }    #T_5734a268_55e9_11ec_bd7d_02420a390821row2_col3 {\n",
       "            background-color:  #eb9733;\n",
       "            color:  #000000;\n",
       "        }    #T_5734a268_55e9_11ec_bd7d_02420a390821row2_col4 {\n",
       "            background-color:  #ea9530;\n",
       "            color:  #000000;\n",
       "        }    #T_5734a268_55e9_11ec_bd7d_02420a390821row2_col5 {\n",
       "            background-color:  #8f4407;\n",
       "            color:  #f1f1f1;\n",
       "        }    #T_5734a268_55e9_11ec_bd7d_02420a390821row2_col6 {\n",
       "            background-color:  #833d08;\n",
       "            color:  #f1f1f1;\n",
       "        }    #T_5734a268_55e9_11ec_bd7d_02420a390821row2_col7 {\n",
       "            background-color:  #914507;\n",
       "            color:  #f1f1f1;\n",
       "        }    #T_5734a268_55e9_11ec_bd7d_02420a390821row2_col8 {\n",
       "            background-color:  #f1a242;\n",
       "            color:  #000000;\n",
       "        }    #T_5734a268_55e9_11ec_bd7d_02420a390821row2_col9 {\n",
       "            background-color:  #ed9936;\n",
       "            color:  #000000;\n",
       "        }    #T_5734a268_55e9_11ec_bd7d_02420a390821row2_col10 {\n",
       "            background-color:  #8f4407;\n",
       "            color:  #f1f1f1;\n",
       "        }    #T_5734a268_55e9_11ec_bd7d_02420a390821row3_col0 {\n",
       "            background-color:  #8b4208;\n",
       "            color:  #f1f1f1;\n",
       "        }    #T_5734a268_55e9_11ec_bd7d_02420a390821row3_col1 {\n",
       "            background-color:  #9e4c07;\n",
       "            color:  #f1f1f1;\n",
       "        }    #T_5734a268_55e9_11ec_bd7d_02420a390821row3_col2 {\n",
       "            background-color:  #8f4407;\n",
       "            color:  #f1f1f1;\n",
       "        }    #T_5734a268_55e9_11ec_bd7d_02420a390821row3_col3 {\n",
       "            background-color:  #2d004b;\n",
       "            color:  #f1f1f1;\n",
       "        }    #T_5734a268_55e9_11ec_bd7d_02420a390821row3_col4 {\n",
       "            background-color:  #7f3b08;\n",
       "            color:  #f1f1f1;\n",
       "        }    #T_5734a268_55e9_11ec_bd7d_02420a390821row3_col5 {\n",
       "            background-color:  #833d08;\n",
       "            color:  #f1f1f1;\n",
       "        }    #T_5734a268_55e9_11ec_bd7d_02420a390821row3_col6 {\n",
       "            background-color:  #7f3b08;\n",
       "            color:  #f1f1f1;\n",
       "        }    #T_5734a268_55e9_11ec_bd7d_02420a390821row3_col7 {\n",
       "            background-color:  #8d4307;\n",
       "            color:  #f1f1f1;\n",
       "        }    #T_5734a268_55e9_11ec_bd7d_02420a390821row3_col8 {\n",
       "            background-color:  #e7e8f1;\n",
       "            color:  #000000;\n",
       "        }    #T_5734a268_55e9_11ec_bd7d_02420a390821row3_col9 {\n",
       "            background-color:  #c2660b;\n",
       "            color:  #000000;\n",
       "        }    #T_5734a268_55e9_11ec_bd7d_02420a390821row3_col10 {\n",
       "            background-color:  #954807;\n",
       "            color:  #f1f1f1;\n",
       "        }    #T_5734a268_55e9_11ec_bd7d_02420a390821row4_col0 {\n",
       "            background-color:  #934607;\n",
       "            color:  #f1f1f1;\n",
       "        }    #T_5734a268_55e9_11ec_bd7d_02420a390821row4_col1 {\n",
       "            background-color:  #7f3b08;\n",
       "            color:  #f1f1f1;\n",
       "        }    #T_5734a268_55e9_11ec_bd7d_02420a390821row4_col2 {\n",
       "            background-color:  #8d4307;\n",
       "            color:  #f1f1f1;\n",
       "        }    #T_5734a268_55e9_11ec_bd7d_02420a390821row4_col3 {\n",
       "            background-color:  #7f3b08;\n",
       "            color:  #f1f1f1;\n",
       "        }    #T_5734a268_55e9_11ec_bd7d_02420a390821row4_col4 {\n",
       "            background-color:  #2d004b;\n",
       "            color:  #f1f1f1;\n",
       "        }    #T_5734a268_55e9_11ec_bd7d_02420a390821row4_col5 {\n",
       "            background-color:  #874008;\n",
       "            color:  #f1f1f1;\n",
       "        }    #T_5734a268_55e9_11ec_bd7d_02420a390821row4_col6 {\n",
       "            background-color:  #974907;\n",
       "            color:  #f1f1f1;\n",
       "        }    #T_5734a268_55e9_11ec_bd7d_02420a390821row4_col7 {\n",
       "            background-color:  #894108;\n",
       "            color:  #f1f1f1;\n",
       "        }    #T_5734a268_55e9_11ec_bd7d_02420a390821row4_col8 {\n",
       "            background-color:  #e8912a;\n",
       "            color:  #000000;\n",
       "        }    #T_5734a268_55e9_11ec_bd7d_02420a390821row4_col9 {\n",
       "            background-color:  #f3a649;\n",
       "            color:  #000000;\n",
       "        }    #T_5734a268_55e9_11ec_bd7d_02420a390821row4_col10 {\n",
       "            background-color:  #853e08;\n",
       "            color:  #f1f1f1;\n",
       "        }    #T_5734a268_55e9_11ec_bd7d_02420a390821row5_col0 {\n",
       "            background-color:  #7f3b08;\n",
       "            color:  #f1f1f1;\n",
       "        }    #T_5734a268_55e9_11ec_bd7d_02420a390821row5_col1 {\n",
       "            background-color:  #874008;\n",
       "            color:  #f1f1f1;\n",
       "        }    #T_5734a268_55e9_11ec_bd7d_02420a390821row5_col2 {\n",
       "            background-color:  #914507;\n",
       "            color:  #f1f1f1;\n",
       "        }    #T_5734a268_55e9_11ec_bd7d_02420a390821row5_col3 {\n",
       "            background-color:  #e78f27;\n",
       "            color:  #000000;\n",
       "        }    #T_5734a268_55e9_11ec_bd7d_02420a390821row5_col4 {\n",
       "            background-color:  #e9932d;\n",
       "            color:  #000000;\n",
       "        }    #T_5734a268_55e9_11ec_bd7d_02420a390821row5_col5 {\n",
       "            background-color:  #2d004b;\n",
       "            color:  #f1f1f1;\n",
       "        }    #T_5734a268_55e9_11ec_bd7d_02420a390821row5_col6 {\n",
       "            background-color:  #853e08;\n",
       "            color:  #f1f1f1;\n",
       "        }    #T_5734a268_55e9_11ec_bd7d_02420a390821row5_col7 {\n",
       "            background-color:  #833d08;\n",
       "            color:  #f1f1f1;\n",
       "        }    #T_5734a268_55e9_11ec_bd7d_02420a390821row5_col8 {\n",
       "            background-color:  #ef9e3c;\n",
       "            color:  #000000;\n",
       "        }    #T_5734a268_55e9_11ec_bd7d_02420a390821row5_col9 {\n",
       "            background-color:  #e9932d;\n",
       "            color:  #000000;\n",
       "        }    #T_5734a268_55e9_11ec_bd7d_02420a390821row5_col10 {\n",
       "            background-color:  #914507;\n",
       "            color:  #f1f1f1;\n",
       "        }    #T_5734a268_55e9_11ec_bd7d_02420a390821row6_col0 {\n",
       "            background-color:  #8f4407;\n",
       "            color:  #f1f1f1;\n",
       "        }    #T_5734a268_55e9_11ec_bd7d_02420a390821row6_col1 {\n",
       "            background-color:  #be630a;\n",
       "            color:  #000000;\n",
       "        }    #T_5734a268_55e9_11ec_bd7d_02420a390821row6_col2 {\n",
       "            background-color:  #7f3b08;\n",
       "            color:  #f1f1f1;\n",
       "        }    #T_5734a268_55e9_11ec_bd7d_02420a390821row6_col3 {\n",
       "            background-color:  #e2861a;\n",
       "            color:  #000000;\n",
       "        }    #T_5734a268_55e9_11ec_bd7d_02420a390821row6_col4 {\n",
       "            background-color:  #ed9936;\n",
       "            color:  #000000;\n",
       "        }    #T_5734a268_55e9_11ec_bd7d_02420a390821row6_col5 {\n",
       "            background-color:  #7f3b08;\n",
       "            color:  #f1f1f1;\n",
       "        }    #T_5734a268_55e9_11ec_bd7d_02420a390821row6_col6 {\n",
       "            background-color:  #2d004b;\n",
       "            color:  #f1f1f1;\n",
       "        }    #T_5734a268_55e9_11ec_bd7d_02420a390821row6_col7 {\n",
       "            background-color:  #7f3b08;\n",
       "            color:  #f1f1f1;\n",
       "        }    #T_5734a268_55e9_11ec_bd7d_02420a390821row6_col8 {\n",
       "            background-color:  #e68d23;\n",
       "            color:  #000000;\n",
       "        }    #T_5734a268_55e9_11ec_bd7d_02420a390821row6_col9 {\n",
       "            background-color:  #f4a84c;\n",
       "            color:  #000000;\n",
       "        }    #T_5734a268_55e9_11ec_bd7d_02420a390821row6_col10 {\n",
       "            background-color:  #954807;\n",
       "            color:  #f1f1f1;\n",
       "        }    #T_5734a268_55e9_11ec_bd7d_02420a390821row7_col0 {\n",
       "            background-color:  #813c08;\n",
       "            color:  #f1f1f1;\n",
       "        }    #T_5734a268_55e9_11ec_bd7d_02420a390821row7_col1 {\n",
       "            background-color:  #8d4307;\n",
       "            color:  #f1f1f1;\n",
       "        }    #T_5734a268_55e9_11ec_bd7d_02420a390821row7_col2 {\n",
       "            background-color:  #954807;\n",
       "            color:  #f1f1f1;\n",
       "        }    #T_5734a268_55e9_11ec_bd7d_02420a390821row7_col3 {\n",
       "            background-color:  #eb9733;\n",
       "            color:  #000000;\n",
       "        }    #T_5734a268_55e9_11ec_bd7d_02420a390821row7_col4 {\n",
       "            background-color:  #ea9530;\n",
       "            color:  #000000;\n",
       "        }    #T_5734a268_55e9_11ec_bd7d_02420a390821row7_col5 {\n",
       "            background-color:  #833d08;\n",
       "            color:  #f1f1f1;\n",
       "        }    #T_5734a268_55e9_11ec_bd7d_02420a390821row7_col6 {\n",
       "            background-color:  #874008;\n",
       "            color:  #f1f1f1;\n",
       "        }    #T_5734a268_55e9_11ec_bd7d_02420a390821row7_col7 {\n",
       "            background-color:  #2d004b;\n",
       "            color:  #f1f1f1;\n",
       "        }    #T_5734a268_55e9_11ec_bd7d_02420a390821row7_col8 {\n",
       "            background-color:  #f3a649;\n",
       "            color:  #000000;\n",
       "        }    #T_5734a268_55e9_11ec_bd7d_02420a390821row7_col9 {\n",
       "            background-color:  #ea9530;\n",
       "            color:  #000000;\n",
       "        }    #T_5734a268_55e9_11ec_bd7d_02420a390821row7_col10 {\n",
       "            background-color:  #833d08;\n",
       "            color:  #f1f1f1;\n",
       "        }    #T_5734a268_55e9_11ec_bd7d_02420a390821row8_col0 {\n",
       "            background-color:  #894108;\n",
       "            color:  #f1f1f1;\n",
       "        }    #T_5734a268_55e9_11ec_bd7d_02420a390821row8_col1 {\n",
       "            background-color:  #a65107;\n",
       "            color:  #f1f1f1;\n",
       "        }    #T_5734a268_55e9_11ec_bd7d_02420a390821row8_col2 {\n",
       "            background-color:  #954807;\n",
       "            color:  #f1f1f1;\n",
       "        }    #T_5734a268_55e9_11ec_bd7d_02420a390821row8_col3 {\n",
       "            background-color:  #e9eaf2;\n",
       "            color:  #000000;\n",
       "        }    #T_5734a268_55e9_11ec_bd7d_02420a390821row8_col4 {\n",
       "            background-color:  #e58a20;\n",
       "            color:  #000000;\n",
       "        }    #T_5734a268_55e9_11ec_bd7d_02420a390821row8_col5 {\n",
       "            background-color:  #8b4208;\n",
       "            color:  #f1f1f1;\n",
       "        }    #T_5734a268_55e9_11ec_bd7d_02420a390821row8_col6 {\n",
       "            background-color:  #7f3b08;\n",
       "            color:  #f1f1f1;\n",
       "        }    #T_5734a268_55e9_11ec_bd7d_02420a390821row8_col7 {\n",
       "            background-color:  #954807;\n",
       "            color:  #f1f1f1;\n",
       "        }    #T_5734a268_55e9_11ec_bd7d_02420a390821row8_col8 {\n",
       "            background-color:  #2d004b;\n",
       "            color:  #f1f1f1;\n",
       "        }    #T_5734a268_55e9_11ec_bd7d_02420a390821row8_col9 {\n",
       "            background-color:  #7f3b08;\n",
       "            color:  #f1f1f1;\n",
       "        }    #T_5734a268_55e9_11ec_bd7d_02420a390821row8_col10 {\n",
       "            background-color:  #874008;\n",
       "            color:  #f1f1f1;\n",
       "        }    #T_5734a268_55e9_11ec_bd7d_02420a390821row9_col0 {\n",
       "            background-color:  #874008;\n",
       "            color:  #f1f1f1;\n",
       "        }    #T_5734a268_55e9_11ec_bd7d_02420a390821row9_col1 {\n",
       "            background-color:  #914507;\n",
       "            color:  #f1f1f1;\n",
       "        }    #T_5734a268_55e9_11ec_bd7d_02420a390821row9_col2 {\n",
       "            background-color:  #8b4208;\n",
       "            color:  #f1f1f1;\n",
       "        }    #T_5734a268_55e9_11ec_bd7d_02420a390821row9_col3 {\n",
       "            background-color:  #bb5f08;\n",
       "            color:  #000000;\n",
       "        }    #T_5734a268_55e9_11ec_bd7d_02420a390821row9_col4 {\n",
       "            background-color:  #f0a03f;\n",
       "            color:  #000000;\n",
       "        }    #T_5734a268_55e9_11ec_bd7d_02420a390821row9_col5 {\n",
       "            background-color:  #7f3b08;\n",
       "            color:  #f1f1f1;\n",
       "        }    #T_5734a268_55e9_11ec_bd7d_02420a390821row9_col6 {\n",
       "            background-color:  #a04d07;\n",
       "            color:  #f1f1f1;\n",
       "        }    #T_5734a268_55e9_11ec_bd7d_02420a390821row9_col7 {\n",
       "            background-color:  #813c08;\n",
       "            color:  #f1f1f1;\n",
       "        }    #T_5734a268_55e9_11ec_bd7d_02420a390821row9_col8 {\n",
       "            background-color:  #7f3b08;\n",
       "            color:  #f1f1f1;\n",
       "        }    #T_5734a268_55e9_11ec_bd7d_02420a390821row9_col9 {\n",
       "            background-color:  #2d004b;\n",
       "            color:  #f1f1f1;\n",
       "        }    #T_5734a268_55e9_11ec_bd7d_02420a390821row9_col10 {\n",
       "            background-color:  #954807;\n",
       "            color:  #f1f1f1;\n",
       "        }    #T_5734a268_55e9_11ec_bd7d_02420a390821row10_col0 {\n",
       "            background-color:  #7f3b08;\n",
       "            color:  #f1f1f1;\n",
       "        }    #T_5734a268_55e9_11ec_bd7d_02420a390821row10_col1 {\n",
       "            background-color:  #833d08;\n",
       "            color:  #f1f1f1;\n",
       "        }    #T_5734a268_55e9_11ec_bd7d_02420a390821row10_col2 {\n",
       "            background-color:  #8f4407;\n",
       "            color:  #f1f1f1;\n",
       "        }    #T_5734a268_55e9_11ec_bd7d_02420a390821row10_col3 {\n",
       "            background-color:  #ee9b39;\n",
       "            color:  #000000;\n",
       "        }    #T_5734a268_55e9_11ec_bd7d_02420a390821row10_col4 {\n",
       "            background-color:  #e78f27;\n",
       "            color:  #000000;\n",
       "        }    #T_5734a268_55e9_11ec_bd7d_02420a390821row10_col5 {\n",
       "            background-color:  #8f4407;\n",
       "            color:  #f1f1f1;\n",
       "        }    #T_5734a268_55e9_11ec_bd7d_02420a390821row10_col6 {\n",
       "            background-color:  #9a4a07;\n",
       "            color:  #f1f1f1;\n",
       "        }    #T_5734a268_55e9_11ec_bd7d_02420a390821row10_col7 {\n",
       "            background-color:  #7f3b08;\n",
       "            color:  #f1f1f1;\n",
       "        }    #T_5734a268_55e9_11ec_bd7d_02420a390821row10_col8 {\n",
       "            background-color:  #eb9733;\n",
       "            color:  #000000;\n",
       "        }    #T_5734a268_55e9_11ec_bd7d_02420a390821row10_col9 {\n",
       "            background-color:  #f1a242;\n",
       "            color:  #000000;\n",
       "        }    #T_5734a268_55e9_11ec_bd7d_02420a390821row10_col10 {\n",
       "            background-color:  #2d004b;\n",
       "            color:  #f1f1f1;\n",
       "        }</style><table id=\"T_5734a268_55e9_11ec_bd7d_02420a390821\" ><thead>    <tr>        <th class=\"blank level0\" ></th>        <th class=\"col_heading level0 col0\" >CreditScore</th>        <th class=\"col_heading level0 col1\" >Age</th>        <th class=\"col_heading level0 col2\" >Tenure</th>        <th class=\"col_heading level0 col3\" >Balance</th>        <th class=\"col_heading level0 col4\" >NumOfProducts</th>        <th class=\"col_heading level0 col5\" >HasCrCard</th>        <th class=\"col_heading level0 col6\" >IsActiveMember</th>        <th class=\"col_heading level0 col7\" >EstimatedSalary</th>        <th class=\"col_heading level0 col8\" >Geography_Germany</th>        <th class=\"col_heading level0 col9\" >Geography_Spain</th>        <th class=\"col_heading level0 col10\" >Gender_Male</th>    </tr></thead><tbody>\n",
       "                <tr>\n",
       "                        <th id=\"T_5734a268_55e9_11ec_bd7d_02420a390821level0_row0\" class=\"row_heading level0 row0\" >CreditScore</th>\n",
       "                        <td id=\"T_5734a268_55e9_11ec_bd7d_02420a390821row0_col0\" class=\"data row0 col0\" >1</td>\n",
       "                        <td id=\"T_5734a268_55e9_11ec_bd7d_02420a390821row0_col1\" class=\"data row0 col1\" >0.002323</td>\n",
       "                        <td id=\"T_5734a268_55e9_11ec_bd7d_02420a390821row0_col2\" class=\"data row0 col2\" >-0.00640343</td>\n",
       "                        <td id=\"T_5734a268_55e9_11ec_bd7d_02420a390821row0_col3\" class=\"data row0 col3\" >0.0119432</td>\n",
       "                        <td id=\"T_5734a268_55e9_11ec_bd7d_02420a390821row0_col4\" class=\"data row0 col4\" >0.0280894</td>\n",
       "                        <td id=\"T_5734a268_55e9_11ec_bd7d_02420a390821row0_col5\" class=\"data row0 col5\" >-0.0128141</td>\n",
       "                        <td id=\"T_5734a268_55e9_11ec_bd7d_02420a390821row0_col6\" class=\"data row0 col6\" >0.0201319</td>\n",
       "                        <td id=\"T_5734a268_55e9_11ec_bd7d_02420a390821row0_col7\" class=\"data row0 col7\" >-0.00832801</td>\n",
       "                        <td id=\"T_5734a268_55e9_11ec_bd7d_02420a390821row0_col8\" class=\"data row0 col8\" >0.00799036</td>\n",
       "                        <td id=\"T_5734a268_55e9_11ec_bd7d_02420a390821row0_col9\" class=\"data row0 col9\" >0.00589658</td>\n",
       "                        <td id=\"T_5734a268_55e9_11ec_bd7d_02420a390821row0_col10\" class=\"data row0 col10\" >-0.00920411</td>\n",
       "            </tr>\n",
       "            <tr>\n",
       "                        <th id=\"T_5734a268_55e9_11ec_bd7d_02420a390821level0_row1\" class=\"row_heading level0 row1\" >Age</th>\n",
       "                        <td id=\"T_5734a268_55e9_11ec_bd7d_02420a390821row1_col0\" class=\"data row1 col0\" >0.002323</td>\n",
       "                        <td id=\"T_5734a268_55e9_11ec_bd7d_02420a390821row1_col1\" class=\"data row1 col1\" >1</td>\n",
       "                        <td id=\"T_5734a268_55e9_11ec_bd7d_02420a390821row1_col2\" class=\"data row1 col2\" >-0.00305693</td>\n",
       "                        <td id=\"T_5734a268_55e9_11ec_bd7d_02420a390821row1_col3\" class=\"data row1 col3\" >0.0249016</td>\n",
       "                        <td id=\"T_5734a268_55e9_11ec_bd7d_02420a390821row1_col4\" class=\"data row1 col4\" >-0.0376674</td>\n",
       "                        <td id=\"T_5734a268_55e9_11ec_bd7d_02420a390821row1_col5\" class=\"data row1 col5\" >-0.0180932</td>\n",
       "                        <td id=\"T_5734a268_55e9_11ec_bd7d_02420a390821row1_col6\" class=\"data row1 col6\" >0.0943974</td>\n",
       "                        <td id=\"T_5734a268_55e9_11ec_bd7d_02420a390821row1_col7\" class=\"data row1 col7\" >-0.00902652</td>\n",
       "                        <td id=\"T_5734a268_55e9_11ec_bd7d_02420a390821row1_col8\" class=\"data row1 col8\" >0.0412739</td>\n",
       "                        <td id=\"T_5734a268_55e9_11ec_bd7d_02420a390821row1_col9\" class=\"data row1 col9\" >0.000615516</td>\n",
       "                        <td id=\"T_5734a268_55e9_11ec_bd7d_02420a390821row1_col10\" class=\"data row1 col10\" >-0.0276104</td>\n",
       "            </tr>\n",
       "            <tr>\n",
       "                        <th id=\"T_5734a268_55e9_11ec_bd7d_02420a390821level0_row2\" class=\"row_heading level0 row2\" >Tenure</th>\n",
       "                        <td id=\"T_5734a268_55e9_11ec_bd7d_02420a390821row2_col0\" class=\"data row2 col0\" >-0.00640343</td>\n",
       "                        <td id=\"T_5734a268_55e9_11ec_bd7d_02420a390821row2_col1\" class=\"data row2 col1\" >-0.00305693</td>\n",
       "                        <td id=\"T_5734a268_55e9_11ec_bd7d_02420a390821row2_col2\" class=\"data row2 col2\" >1</td>\n",
       "                        <td id=\"T_5734a268_55e9_11ec_bd7d_02420a390821row2_col3\" class=\"data row2 col3\" >0.0080357</td>\n",
       "                        <td id=\"T_5734a268_55e9_11ec_bd7d_02420a390821row2_col4\" class=\"data row2 col4\" >0.00320169</td>\n",
       "                        <td id=\"T_5734a268_55e9_11ec_bd7d_02420a390821row2_col5\" class=\"data row2 col5\" >0.0122494</td>\n",
       "                        <td id=\"T_5734a268_55e9_11ec_bd7d_02420a390821row2_col6\" class=\"data row2 col6\" >-0.0273169</td>\n",
       "                        <td id=\"T_5734a268_55e9_11ec_bd7d_02420a390821row2_col7\" class=\"data row2 col7\" >0.0170341</td>\n",
       "                        <td id=\"T_5734a268_55e9_11ec_bd7d_02420a390821row2_col8\" class=\"data row2 col8\" >0.0171637</td>\n",
       "                        <td id=\"T_5734a268_55e9_11ec_bd7d_02420a390821row2_col9\" class=\"data row2 col9\" >-0.00219432</td>\n",
       "                        <td id=\"T_5734a268_55e9_11ec_bd7d_02420a390821row2_col10\" class=\"data row2 col10\" >0.00652193</td>\n",
       "            </tr>\n",
       "            <tr>\n",
       "                        <th id=\"T_5734a268_55e9_11ec_bd7d_02420a390821level0_row3\" class=\"row_heading level0 row3\" >Balance</th>\n",
       "                        <td id=\"T_5734a268_55e9_11ec_bd7d_02420a390821row3_col0\" class=\"data row3 col0\" >0.0119432</td>\n",
       "                        <td id=\"T_5734a268_55e9_11ec_bd7d_02420a390821row3_col1\" class=\"data row3 col1\" >0.0249016</td>\n",
       "                        <td id=\"T_5734a268_55e9_11ec_bd7d_02420a390821row3_col2\" class=\"data row3 col2\" >0.0080357</td>\n",
       "                        <td id=\"T_5734a268_55e9_11ec_bd7d_02420a390821row3_col3\" class=\"data row3 col3\" >1</td>\n",
       "                        <td id=\"T_5734a268_55e9_11ec_bd7d_02420a390821row3_col4\" class=\"data row3 col4\" >-0.307172</td>\n",
       "                        <td id=\"T_5734a268_55e9_11ec_bd7d_02420a390821row3_col5\" class=\"data row3 col5\" >-0.011657</td>\n",
       "                        <td id=\"T_5734a268_55e9_11ec_bd7d_02420a390821row3_col6\" class=\"data row3 col6\" >-0.0362271</td>\n",
       "                        <td id=\"T_5734a268_55e9_11ec_bd7d_02420a390821row3_col7\" class=\"data row3 col7\" >0.00934405</td>\n",
       "                        <td id=\"T_5734a268_55e9_11ec_bd7d_02420a390821row3_col8\" class=\"data row3 col8\" >0.405905</td>\n",
       "                        <td id=\"T_5734a268_55e9_11ec_bd7d_02420a390821row3_col9\" class=\"data row3 col9\" >-0.149909</td>\n",
       "                        <td id=\"T_5734a268_55e9_11ec_bd7d_02420a390821row3_col10\" class=\"data row3 col10\" >0.0180478</td>\n",
       "            </tr>\n",
       "            <tr>\n",
       "                        <th id=\"T_5734a268_55e9_11ec_bd7d_02420a390821level0_row4\" class=\"row_heading level0 row4\" >NumOfProducts</th>\n",
       "                        <td id=\"T_5734a268_55e9_11ec_bd7d_02420a390821row4_col0\" class=\"data row4 col0\" >0.0280894</td>\n",
       "                        <td id=\"T_5734a268_55e9_11ec_bd7d_02420a390821row4_col1\" class=\"data row4 col1\" >-0.0376674</td>\n",
       "                        <td id=\"T_5734a268_55e9_11ec_bd7d_02420a390821row4_col2\" class=\"data row4 col2\" >0.00320169</td>\n",
       "                        <td id=\"T_5734a268_55e9_11ec_bd7d_02420a390821row4_col3\" class=\"data row4 col3\" >-0.307172</td>\n",
       "                        <td id=\"T_5734a268_55e9_11ec_bd7d_02420a390821row4_col4\" class=\"data row4 col4\" >1</td>\n",
       "                        <td id=\"T_5734a268_55e9_11ec_bd7d_02420a390821row4_col5\" class=\"data row4 col5\" >-0.00123448</td>\n",
       "                        <td id=\"T_5734a268_55e9_11ec_bd7d_02420a390821row4_col6\" class=\"data row4 col6\" >0.0130223</td>\n",
       "                        <td id=\"T_5734a268_55e9_11ec_bd7d_02420a390821row4_col7\" class=\"data row4 col7\" >0.00314395</td>\n",
       "                        <td id=\"T_5734a268_55e9_11ec_bd7d_02420a390821row4_col8\" class=\"data row4 col8\" >-0.0233212</td>\n",
       "                        <td id=\"T_5734a268_55e9_11ec_bd7d_02420a390821row4_col9\" class=\"data row4 col9\" >0.0293711</td>\n",
       "                        <td id=\"T_5734a268_55e9_11ec_bd7d_02420a390821row4_col10\" class=\"data row4 col10\" >-0.0148444</td>\n",
       "            </tr>\n",
       "            <tr>\n",
       "                        <th id=\"T_5734a268_55e9_11ec_bd7d_02420a390821level0_row5\" class=\"row_heading level0 row5\" >HasCrCard</th>\n",
       "                        <td id=\"T_5734a268_55e9_11ec_bd7d_02420a390821row5_col0\" class=\"data row5 col0\" >-0.0128141</td>\n",
       "                        <td id=\"T_5734a268_55e9_11ec_bd7d_02420a390821row5_col1\" class=\"data row5 col1\" >-0.0180932</td>\n",
       "                        <td id=\"T_5734a268_55e9_11ec_bd7d_02420a390821row5_col2\" class=\"data row5 col2\" >0.0122494</td>\n",
       "                        <td id=\"T_5734a268_55e9_11ec_bd7d_02420a390821row5_col3\" class=\"data row5 col3\" >-0.011657</td>\n",
       "                        <td id=\"T_5734a268_55e9_11ec_bd7d_02420a390821row5_col4\" class=\"data row5 col4\" >-0.00123448</td>\n",
       "                        <td id=\"T_5734a268_55e9_11ec_bd7d_02420a390821row5_col5\" class=\"data row5 col5\" >1</td>\n",
       "                        <td id=\"T_5734a268_55e9_11ec_bd7d_02420a390821row5_col6\" class=\"data row5 col6\" >-0.0204833</td>\n",
       "                        <td id=\"T_5734a268_55e9_11ec_bd7d_02420a390821row5_col7\" class=\"data row5 col7\" >-0.00927602</td>\n",
       "                        <td id=\"T_5734a268_55e9_11ec_bd7d_02420a390821row5_col8\" class=\"data row5 col8\" >0.00563848</td>\n",
       "                        <td id=\"T_5734a268_55e9_11ec_bd7d_02420a390821row5_col9\" class=\"data row5 col9\" >-0.0200568</td>\n",
       "                        <td id=\"T_5734a268_55e9_11ec_bd7d_02420a390821row5_col10\" class=\"data row5 col10\" >0.0116218</td>\n",
       "            </tr>\n",
       "            <tr>\n",
       "                        <th id=\"T_5734a268_55e9_11ec_bd7d_02420a390821level0_row6\" class=\"row_heading level0 row6\" >IsActiveMember</th>\n",
       "                        <td id=\"T_5734a268_55e9_11ec_bd7d_02420a390821row6_col0\" class=\"data row6 col0\" >0.0201319</td>\n",
       "                        <td id=\"T_5734a268_55e9_11ec_bd7d_02420a390821row6_col1\" class=\"data row6 col1\" >0.0943974</td>\n",
       "                        <td id=\"T_5734a268_55e9_11ec_bd7d_02420a390821row6_col2\" class=\"data row6 col2\" >-0.0273169</td>\n",
       "                        <td id=\"T_5734a268_55e9_11ec_bd7d_02420a390821row6_col3\" class=\"data row6 col3\" >-0.0362271</td>\n",
       "                        <td id=\"T_5734a268_55e9_11ec_bd7d_02420a390821row6_col4\" class=\"data row6 col4\" >0.0130223</td>\n",
       "                        <td id=\"T_5734a268_55e9_11ec_bd7d_02420a390821row6_col5\" class=\"data row6 col5\" >-0.0204833</td>\n",
       "                        <td id=\"T_5734a268_55e9_11ec_bd7d_02420a390821row6_col6\" class=\"data row6 col6\" >1</td>\n",
       "                        <td id=\"T_5734a268_55e9_11ec_bd7d_02420a390821row6_col7\" class=\"data row6 col7\" >-0.0191146</td>\n",
       "                        <td id=\"T_5734a268_55e9_11ec_bd7d_02420a390821row6_col8\" class=\"data row6 col8\" >-0.0344356</td>\n",
       "                        <td id=\"T_5734a268_55e9_11ec_bd7d_02420a390821row6_col9\" class=\"data row6 col9\" >0.0324716</td>\n",
       "                        <td id=\"T_5734a268_55e9_11ec_bd7d_02420a390821row6_col10\" class=\"data row6 col10\" >0.0195517</td>\n",
       "            </tr>\n",
       "            <tr>\n",
       "                        <th id=\"T_5734a268_55e9_11ec_bd7d_02420a390821level0_row7\" class=\"row_heading level0 row7\" >EstimatedSalary</th>\n",
       "                        <td id=\"T_5734a268_55e9_11ec_bd7d_02420a390821row7_col0\" class=\"data row7 col0\" >-0.00832801</td>\n",
       "                        <td id=\"T_5734a268_55e9_11ec_bd7d_02420a390821row7_col1\" class=\"data row7 col1\" >-0.00902652</td>\n",
       "                        <td id=\"T_5734a268_55e9_11ec_bd7d_02420a390821row7_col2\" class=\"data row7 col2\" >0.0170341</td>\n",
       "                        <td id=\"T_5734a268_55e9_11ec_bd7d_02420a390821row7_col3\" class=\"data row7 col3\" >0.00934405</td>\n",
       "                        <td id=\"T_5734a268_55e9_11ec_bd7d_02420a390821row7_col4\" class=\"data row7 col4\" >0.00314395</td>\n",
       "                        <td id=\"T_5734a268_55e9_11ec_bd7d_02420a390821row7_col5\" class=\"data row7 col5\" >-0.00927602</td>\n",
       "                        <td id=\"T_5734a268_55e9_11ec_bd7d_02420a390821row7_col6\" class=\"data row7 col6\" >-0.0191146</td>\n",
       "                        <td id=\"T_5734a268_55e9_11ec_bd7d_02420a390821row7_col7\" class=\"data row7 col7\" >1</td>\n",
       "                        <td id=\"T_5734a268_55e9_11ec_bd7d_02420a390821row7_col8\" class=\"data row7 col8\" >0.0283984</td>\n",
       "                        <td id=\"T_5734a268_55e9_11ec_bd7d_02420a390821row7_col9\" class=\"data row7 col9\" >-0.0151016</td>\n",
       "                        <td id=\"T_5734a268_55e9_11ec_bd7d_02420a390821row7_col10\" class=\"data row7 col10\" >-0.0169506</td>\n",
       "            </tr>\n",
       "            <tr>\n",
       "                        <th id=\"T_5734a268_55e9_11ec_bd7d_02420a390821level0_row8\" class=\"row_heading level0 row8\" >Geography_Germany</th>\n",
       "                        <td id=\"T_5734a268_55e9_11ec_bd7d_02420a390821row8_col0\" class=\"data row8 col0\" >0.00799036</td>\n",
       "                        <td id=\"T_5734a268_55e9_11ec_bd7d_02420a390821row8_col1\" class=\"data row8 col1\" >0.0412739</td>\n",
       "                        <td id=\"T_5734a268_55e9_11ec_bd7d_02420a390821row8_col2\" class=\"data row8 col2\" >0.0171637</td>\n",
       "                        <td id=\"T_5734a268_55e9_11ec_bd7d_02420a390821row8_col3\" class=\"data row8 col3\" >0.405905</td>\n",
       "                        <td id=\"T_5734a268_55e9_11ec_bd7d_02420a390821row8_col4\" class=\"data row8 col4\" >-0.0233212</td>\n",
       "                        <td id=\"T_5734a268_55e9_11ec_bd7d_02420a390821row8_col5\" class=\"data row8 col5\" >0.00563848</td>\n",
       "                        <td id=\"T_5734a268_55e9_11ec_bd7d_02420a390821row8_col6\" class=\"data row8 col6\" >-0.0344356</td>\n",
       "                        <td id=\"T_5734a268_55e9_11ec_bd7d_02420a390821row8_col7\" class=\"data row8 col7\" >0.0283984</td>\n",
       "                        <td id=\"T_5734a268_55e9_11ec_bd7d_02420a390821row8_col8\" class=\"data row8 col8\" >1</td>\n",
       "                        <td id=\"T_5734a268_55e9_11ec_bd7d_02420a390821row8_col9\" class=\"data row8 col9\" >-0.327421</td>\n",
       "                        <td id=\"T_5734a268_55e9_11ec_bd7d_02420a390821row8_col10\" class=\"data row8 col10\" >-0.00870212</td>\n",
       "            </tr>\n",
       "            <tr>\n",
       "                        <th id=\"T_5734a268_55e9_11ec_bd7d_02420a390821level0_row9\" class=\"row_heading level0 row9\" >Geography_Spain</th>\n",
       "                        <td id=\"T_5734a268_55e9_11ec_bd7d_02420a390821row9_col0\" class=\"data row9 col0\" >0.00589658</td>\n",
       "                        <td id=\"T_5734a268_55e9_11ec_bd7d_02420a390821row9_col1\" class=\"data row9 col1\" >0.000615516</td>\n",
       "                        <td id=\"T_5734a268_55e9_11ec_bd7d_02420a390821row9_col2\" class=\"data row9 col2\" >-0.00219432</td>\n",
       "                        <td id=\"T_5734a268_55e9_11ec_bd7d_02420a390821row9_col3\" class=\"data row9 col3\" >-0.149909</td>\n",
       "                        <td id=\"T_5734a268_55e9_11ec_bd7d_02420a390821row9_col4\" class=\"data row9 col4\" >0.0293711</td>\n",
       "                        <td id=\"T_5734a268_55e9_11ec_bd7d_02420a390821row9_col5\" class=\"data row9 col5\" >-0.0200568</td>\n",
       "                        <td id=\"T_5734a268_55e9_11ec_bd7d_02420a390821row9_col6\" class=\"data row9 col6\" >0.0324716</td>\n",
       "                        <td id=\"T_5734a268_55e9_11ec_bd7d_02420a390821row9_col7\" class=\"data row9 col7\" >-0.0151016</td>\n",
       "                        <td id=\"T_5734a268_55e9_11ec_bd7d_02420a390821row9_col8\" class=\"data row9 col8\" >-0.327421</td>\n",
       "                        <td id=\"T_5734a268_55e9_11ec_bd7d_02420a390821row9_col9\" class=\"data row9 col9\" >1</td>\n",
       "                        <td id=\"T_5734a268_55e9_11ec_bd7d_02420a390821row9_col10\" class=\"data row9 col10\" >0.0186181</td>\n",
       "            </tr>\n",
       "            <tr>\n",
       "                        <th id=\"T_5734a268_55e9_11ec_bd7d_02420a390821level0_row10\" class=\"row_heading level0 row10\" >Gender_Male</th>\n",
       "                        <td id=\"T_5734a268_55e9_11ec_bd7d_02420a390821row10_col0\" class=\"data row10 col0\" >-0.00920411</td>\n",
       "                        <td id=\"T_5734a268_55e9_11ec_bd7d_02420a390821row10_col1\" class=\"data row10 col1\" >-0.0276104</td>\n",
       "                        <td id=\"T_5734a268_55e9_11ec_bd7d_02420a390821row10_col2\" class=\"data row10 col2\" >0.00652193</td>\n",
       "                        <td id=\"T_5734a268_55e9_11ec_bd7d_02420a390821row10_col3\" class=\"data row10 col3\" >0.0180478</td>\n",
       "                        <td id=\"T_5734a268_55e9_11ec_bd7d_02420a390821row10_col4\" class=\"data row10 col4\" >-0.0148444</td>\n",
       "                        <td id=\"T_5734a268_55e9_11ec_bd7d_02420a390821row10_col5\" class=\"data row10 col5\" >0.0116218</td>\n",
       "                        <td id=\"T_5734a268_55e9_11ec_bd7d_02420a390821row10_col6\" class=\"data row10 col6\" >0.0195517</td>\n",
       "                        <td id=\"T_5734a268_55e9_11ec_bd7d_02420a390821row10_col7\" class=\"data row10 col7\" >-0.0169506</td>\n",
       "                        <td id=\"T_5734a268_55e9_11ec_bd7d_02420a390821row10_col8\" class=\"data row10 col8\" >-0.00870212</td>\n",
       "                        <td id=\"T_5734a268_55e9_11ec_bd7d_02420a390821row10_col9\" class=\"data row10 col9\" >0.0186181</td>\n",
       "                        <td id=\"T_5734a268_55e9_11ec_bd7d_02420a390821row10_col10\" class=\"data row10 col10\" >1</td>\n",
       "            </tr>\n",
       "    </tbody></table>"
      ],
      "text/plain": [
       "<pandas.io.formats.style.Styler at 0x7f46f01a6b50>"
      ]
     },
     "execution_count": 9,
     "metadata": {},
     "output_type": "execute_result"
    }
   ],
   "source": [
    "corr = features_train.corr()\n",
    "corr.style.background_gradient(cmap='PuOr')"
   ]
  },
  {
   "cell_type": "markdown",
   "metadata": {},
   "source": [
    "Есть некоторая зависимость количества продуктов от баланса, что логично, но корреляция не настолько сильна, чтобы лишиться одного из этих признаков в обучении модели. Ещё наблюдается странная корреляция столбца с Германией и баланса :) С этим мы точно ничего не будем делать."
   ]
  },
  {
   "cell_type": "markdown",
   "metadata": {},
   "source": [
    "### Проверка распределений на \"нормальность\". Масштабирование."
   ]
  },
  {
   "cell_type": "markdown",
   "metadata": {},
   "source": [
    "Все признаки очень интересные, но разношёрстные по своим масштабам, а обижать кого-то из них не хотелось бы. Чтобы они внесли одинаково большой вклад в предстоящее обучение, предлагается заняться их масштабированием (стандартизацией).\n",
    "\n",
    "Для масштабирования мы принимаем допущение, что все признаки распределены нормально, посмотрим на гистограммы."
   ]
  },
  {
   "cell_type": "code",
   "execution_count": 10,
   "metadata": {},
   "outputs": [
    {
     "data": {
      "text/plain": [
       "array([[<matplotlib.axes._subplots.AxesSubplot object at 0x7f46efdcab90>,\n",
       "        <matplotlib.axes._subplots.AxesSubplot object at 0x7f475ca53cd0>,\n",
       "        <matplotlib.axes._subplots.AxesSubplot object at 0x7f475ca06850>],\n",
       "       [<matplotlib.axes._subplots.AxesSubplot object at 0x7f475c9c1bd0>,\n",
       "        <matplotlib.axes._subplots.AxesSubplot object at 0x7f475c976890>,\n",
       "        <matplotlib.axes._subplots.AxesSubplot object at 0x7f475c933c10>],\n",
       "       [<matplotlib.axes._subplots.AxesSubplot object at 0x7f475c96a8d0>,\n",
       "        <matplotlib.axes._subplots.AxesSubplot object at 0x7f475c927110>,\n",
       "        <matplotlib.axes._subplots.AxesSubplot object at 0x7f475c927c50>],\n",
       "       [<matplotlib.axes._subplots.AxesSubplot object at 0x7f475c8e8610>,\n",
       "        <matplotlib.axes._subplots.AxesSubplot object at 0x7f475c854950>,\n",
       "        <matplotlib.axes._subplots.AxesSubplot object at 0x7f475c812cd0>]],\n",
       "      dtype=object)"
      ]
     },
     "execution_count": 10,
     "metadata": {},
     "output_type": "execute_result"
    },
    {
     "data": {
      "image/png": "[encoded data removed]",
      "text/plain": [
       "<Figure size 432x288 with 12 Axes>"
      ]
     },
     "metadata": {
      "needs_background": "light"
     },
     "output_type": "display_data"
    }
   ],
   "source": [
    "features_train.hist()"
   ]
  },
  {
   "cell_type": "markdown",
   "metadata": {},
   "source": [
    "Ну что ж, небинарные признаки действительно распределены близко к нормальному, признак \"количество объектов недвижимости\" имеет слишком малый диапазон, поэтому доверимся ЦПТ. Итак, преобразуем все три выборки с признаками в новый стандартизованный вид."
   ]
  },
  {
   "cell_type": "code",
   "execution_count": 11,
   "metadata": {},
   "outputs": [],
   "source": [
    "# Создаём объект структуры данных и настраиваем его на обучающей выборке признаков:\n",
    "scaler = StandardScaler()\n",
    "scaler.fit(features_train)\n",
    "\n",
    "# Преобразуем имеющиеся выборки с признаками:\n",
    "features_train_scaled = scaler.transform(features_train)\n",
    "features_valid_scaled = scaler.transform(features_valid)\n",
    "features_test_scaled = scaler.transform(features_test)"
   ]
  },
  {
   "cell_type": "markdown",
   "metadata": {},
   "source": [
    "Данные готовы обучаться и обучать. Едем дальше."
   ]
  },
  {
   "cell_type": "markdown",
   "metadata": {},
   "source": [
    "## Исследование задачи"
   ]
  },
  {
   "cell_type": "markdown",
   "metadata": {},
   "source": [
    "### План исследования. Баланс классов."
   ]
  },
  {
   "cell_type": "markdown",
   "metadata": {},
   "source": [
    "Для подбора лучше модели с лучшими гиперпараметрами будут использоваться две метрики качества: F1-мера и AUC-ROC. Модели, среди которых мы будем искать лучшую, включают в себя логистическую регрессию, дерево решении и случайный лес.\n",
    "\n",
    "Вначале взглянем, какова доля положительного класса (уход клиента) у целевого признака."
   ]
  },
  {
   "cell_type": "code",
   "execution_count": 12,
   "metadata": {},
   "outputs": [
    {
     "data": {
      "text/plain": [
       "0    0.794833\n",
       "1    0.205167\n",
       "Name: Exited, dtype: float64"
      ]
     },
     "execution_count": 12,
     "metadata": {},
     "output_type": "execute_result"
    }
   ],
   "source": [
    "target_train.value_counts(normalize = True)"
   ]
  },
  {
   "cell_type": "markdown",
   "metadata": {},
   "source": [
    "Наблюдается дисбаланс классов, посмотрим сперва, какого качества модели получаются без учёта этой особенности."
   ]
  },
  {
   "cell_type": "markdown",
   "metadata": {},
   "source": [
    "### Решающее дерево без учёта дисбаланса. Подбор глубины."
   ]
  },
  {
   "cell_type": "markdown",
   "metadata": {},
   "source": [
    "Обучим модель решающего дерева, применив разные глубины, посчитаем F1-меру и AUC-ROC и выберем идеальную глубину."
   ]
  },
  {
   "cell_type": "code",
   "execution_count": 13,
   "metadata": {
    "scrolled": true
   },
   "outputs": [
    {
     "name": "stderr",
     "output_type": "stream",
     "text": [
      "/opt/conda/lib/python3.7/site-packages/sklearn/metrics/classification.py:1437: UndefinedMetricWarning: F-score is ill-defined and being set to 0.0 due to no predicted samples.\n",
      "  'precision', 'predicted', average, warn_for)\n"
     ]
    },
    {
     "name": "stdout",
     "output_type": "stream",
     "text": [
      "F1-score наилучшей модели дерева решений на валидационной выборке: 0.5614035087719298\n",
      "AUC-ROC-score наилучшей модели дерева решений на валидационной выборке: 0.8428131694827498\n",
      "Глубина наилучшей модели дерева: 5\n"
     ]
    }
   ],
   "source": [
    "best_tree_model = None\n",
    "best_f1_tree = 0\n",
    "for depth in range(1,21):\n",
    "    model_tree = DecisionTreeClassifier(random_state=42, max_depth=depth)\n",
    "    model_tree.fit(features_train, target_train)\n",
    "    predicted_valid = model_tree.predict(features_valid)\n",
    "    probabilities_tree = model_tree.predict_proba(features_valid)\n",
    "    probabilities_tree_one = probabilities_tree[:, 1]\n",
    "    f1_tree = f1_score(target_valid, predicted_valid)\n",
    "    if f1_tree > best_f1_tree:\n",
    "        best_tree_model = model_tree\n",
    "        best_f1_tree = f1_tree\n",
    "        roc_auc_tree = roc_auc_score(target_valid, probabilities_tree_one)\n",
    "        best_tree_depth = best_tree_model.get_depth()\n",
    "\n",
    "print(\"F1-score наилучшей модели дерева решений на валидационной выборке:\", best_f1_tree)\n",
    "print(\"AUC-ROC-score наилучшей модели дерева решений на валидационной выборке:\", roc_auc_tree)\n",
    "print(\"Глубина наилучшей модели дерева:\", best_tree_depth)"
   ]
  },
  {
   "cell_type": "markdown",
   "metadata": {},
   "source": [
    "При глубине дерева, равной 5 наблюдается максимальный f1-score, и AUC-ROC при этом близок к единице (далёк от 0.5 для случайной модели). До целевого проектного значения это всё равно не дотягивает, идём в лес."
   ]
  },
  {
   "cell_type": "markdown",
   "metadata": {},
   "source": [
    "### Случайный лес без учёта дисбаланса. Подбор глубины и количества оценщиков."
   ]
  },
  {
   "cell_type": "markdown",
   "metadata": {},
   "source": [
    "Обучим модель случайного леса, посчитаем F1-меру и AUC-ROC на малом количестве деревьев, например, на 20, перебирая глубины, выберем оптимальную для леса."
   ]
  },
  {
   "cell_type": "code",
   "execution_count": 14,
   "metadata": {},
   "outputs": [
    {
     "name": "stderr",
     "output_type": "stream",
     "text": [
      "/opt/conda/lib/python3.7/site-packages/sklearn/metrics/classification.py:1437: UndefinedMetricWarning: F-score is ill-defined and being set to 0.0 due to no predicted samples.\n",
      "  'precision', 'predicted', average, warn_for)\n"
     ]
    },
    {
     "name": "stdout",
     "output_type": "stream",
     "text": [
      "F1-score наилучшей модели дерева решений на валидационной выборке: 0.5869565217391305\n",
      "AUC-ROC-score наилучшей модели дерева решений на валидационной выборке: 0.8435074918731821\n",
      "Глубина наилучшей модели дерева: 18\n"
     ]
    }
   ],
   "source": [
    "best_forest_model = None\n",
    "best_f1_forest = 0\n",
    "for depth in range(1,21):\n",
    "    model_forest = RandomForestClassifier(random_state=42, max_depth=depth, n_estimators = 20)\n",
    "    model_forest.fit(features_train, target_train)\n",
    "    predicted_valid = model_forest.predict(features_valid)\n",
    "    probabilities_forest = model_forest.predict_proba(features_valid)\n",
    "    probabilities_forest_one = probabilities_forest[:, 1]\n",
    "    f1_forest = f1_score(target_valid, predicted_valid)\n",
    "    if f1_forest > best_f1_forest:\n",
    "        best_forest_model = model_forest\n",
    "        best_f1_forest = f1_forest\n",
    "        roc_auc_forest = roc_auc_score(target_valid, probabilities_forest_one)\n",
    "        best_forest_depth = best_forest_model.get_params().get('max_depth')\n",
    "\n",
    "print(\"F1-score наилучшей модели дерева решений на валидационной выборке:\", best_f1_forest)\n",
    "print(\"AUC-ROC-score наилучшей модели дерева решений на валидационной выборке:\", roc_auc_forest)\n",
    "print(\"Глубина наилучшей модели дерева:\", best_forest_depth)"
   ]
  },
  {
   "cell_type": "markdown",
   "metadata": {},
   "source": [
    "Здесь F1-score уже очень близок к желаемому порогу! Посмотрим, может ли повлиять на его улучшение изменение количества деревьев, глубину деревьев укажем 18, как нашла нам программа в предыдущем шаге."
   ]
  },
  {
   "cell_type": "code",
   "execution_count": 15,
   "metadata": {},
   "outputs": [
    {
     "name": "stdout",
     "output_type": "stream",
     "text": [
      "F1-score наилучшей модели случайного леса на валидационной выборке: 0.5869565217391305\n",
      "AUC-ROC-score наилучшей модели дерева решений на валидационной выборке: 0.8435074918731821\n",
      "Количество деревьев в наилучшем лесу: 20\n"
     ]
    }
   ],
   "source": [
    "best_forest2_model = None\n",
    "best_f1_forest2 = 0\n",
    "for est in range(2, 101):\n",
    "    model_forest2 = RandomForestClassifier(random_state=42, n_estimators=est, max_depth = 18) \n",
    "    model_forest2.fit(features_train, target_train) \n",
    "    predicted_valid = model_forest2.predict(features_valid)\n",
    "    probabilities_forest2 = model_forest2.predict_proba(features_valid)\n",
    "    probabilities_forest2_one = probabilities_forest2[:, 1]\n",
    "    f1_forest2 = f1_score(target_valid, predicted_valid)\n",
    "    if f1_forest2 > best_f1_forest2:\n",
    "        best_forest2_model = model_forest2\n",
    "        best_f1_forest2 = f1_forest2\n",
    "        roc_auc_forest2 = roc_auc_score(target_valid, probabilities_forest2_one)\n",
    "        best_forest2_n_estimators = best_forest2_model.get_params().get('n_estimators')\n",
    "\n",
    "print(\"F1-score наилучшей модели случайного леса на валидационной выборке:\", best_f1_forest2)\n",
    "print(\"AUC-ROC-score наилучшей модели дерева решений на валидационной выборке:\", roc_auc_forest2)\n",
    "print(\"Количество деревьев в наилучшем лесу:\", best_forest2_n_estimators)"
   ]
  },
  {
   "cell_type": "markdown",
   "metadata": {},
   "source": [
    "Цикл работал очень долго, в итоге выдал то количество деревьев, которое мы использовали в предыдущем расчёте. Итак, лучшие гиперпараметры случайного леса для наших данных - глубина 18 и количество деревьев 20. Запомним и идём дальше, к логистической регрессии."
   ]
  },
  {
   "cell_type": "markdown",
   "metadata": {},
   "source": [
    "### Логистическая регрессия без учёта дисбаланса."
   ]
  },
  {
   "cell_type": "markdown",
   "metadata": {},
   "source": [
    "Обучим логистическую регрессию, предскажем ответы и вероятности, затем вычислим нужные метрики."
   ]
  },
  {
   "cell_type": "code",
   "execution_count": 16,
   "metadata": {},
   "outputs": [
    {
     "name": "stdout",
     "output_type": "stream",
     "text": [
      "F1-score модели логистической регрессии на валидационной выборке: 0.1336206896551724\n",
      "AUC-ROC-score модели логистической регрессии на валидационной выборке: 0.6718649800253662\n"
     ]
    }
   ],
   "source": [
    "model_logistic = LogisticRegression(solver = 'liblinear', random_state=42) \n",
    "model_logistic.fit(features_train, target_train) \n",
    "predicted_valid = model_logistic.predict(features_valid)\n",
    "probabilities_logistic = model_logistic.predict_proba(features_valid)\n",
    "probabilities_logistic_one = probabilities_logistic[:, 1]\n",
    "\n",
    "print(\"F1-score модели логистической регрессии на валидационной выборке:\", f1_score(target_valid, predicted_valid))\n",
    "print(\"AUC-ROC-score модели логистической регрессии на валидационной выборке:\", \n",
    "     roc_auc_score(target_valid, probabilities_logistic_one))"
   ]
  },
  {
   "cell_type": "markdown",
   "metadata": {},
   "source": [
    "F1-score в этой модели весьма и весьма прискорбный. Второй параметр, AUC-ROC, тоже сильно отличается от таковых у дерева и леса, он намного ближе к случайной модели."
   ]
  },
  {
   "cell_type": "markdown",
   "metadata": {},
   "source": [
    "### Выбор лучшей модели для дальнейшей работы."
   ]
  },
  {
   "cell_type": "markdown",
   "metadata": {},
   "source": [
    "Наилучшим образом себя показала модель случайного леса, с глубиной деревьев 18 и количеством 20 штук. Метрика F1-score в этом случае почти достигла желаемого значения, но немного не хватило. В начале нашего исследования было отмечено, что в целевом признаке наблюдается дисбаланс положительного и отрицательного классов: отрицательный класс представлен в 4 раза чаще, чем положительный. С этим необходимо поработать, попробовав разные методы учёта этого дисбаланса. Возможно, выбранная модель наконец достигнет желаемого качества."
   ]
  },
  {
   "cell_type": "markdown",
   "metadata": {},
   "source": [
    "## Борьба с дисбалансом"
   ]
  },
  {
   "cell_type": "markdown",
   "metadata": {},
   "source": [
    "В этом разделе мы попробуем учесть дисбаланс классов тремя способами: взвешивание классов, увеличение выборки, уменьшение выборки. Оценим две наши любимые метрики и оставим лучший результат себе, для оценки адекватности и для проверки на тестовой выборке. "
   ]
  },
  {
   "cell_type": "markdown",
   "metadata": {},
   "source": [
    " ### Взвешивание классов."
   ]
  },
  {
   "cell_type": "markdown",
   "metadata": {},
   "source": [
    "Чем меньше единиц в наборе, тем больше нравятся те нам. Придадим больше веса объектам редкого класса, обучим модель и проверим на валидационной выборке."
   ]
  },
  {
   "cell_type": "code",
   "execution_count": 17,
   "metadata": {},
   "outputs": [
    {
     "name": "stdout",
     "output_type": "stream",
     "text": [
      "F1-score модели случайного леса на валидационной выборке: 0.5337620578778135\n",
      "AUC-ROC-score модели случайного леса на валидационной выборке: 0.8295735419625652\n"
     ]
    }
   ],
   "source": [
    "model_forest3 = RandomForestClassifier(class_weight = 'balanced', # <- параметр, задающий бОльший вес редкому классу\n",
    "                                       max_depth = 18, \n",
    "                                       n_estimators = 20, \n",
    "                                       random_state=42) \n",
    "model_forest3.fit(features_train, target_train) \n",
    "predicted_valid = model_forest3.predict(features_valid)\n",
    "probabilities_forest3 = model_forest3.predict_proba(features_valid)\n",
    "probabilities_forest3_one = probabilities_forest3[:, 1]\n",
    "\n",
    "print(\"F1-score модели случайного леса на валидационной выборке:\", f1_score(target_valid, predicted_valid))\n",
    "print(\"AUC-ROC-score модели случайного леса на валидационной выборке:\", \n",
    "     roc_auc_score(target_valid, probabilities_forest3_one))"
   ]
  },
  {
   "cell_type": "markdown",
   "metadata": {},
   "source": [
    "Поплохело нашей F1-метрике после восстановления баланса путём взвешивания. AUC-ROC тоже немного проседает, по сравнению с лесом без учёта дисбаланса. Попробуем другие способы."
   ]
  },
  {
   "cell_type": "markdown",
   "metadata": {},
   "source": [
    "### Увеличение выборки."
   ]
  },
  {
   "cell_type": "markdown",
   "metadata": {},
   "source": [
    "Скопируем данные с единичками в целевом признаке 3 раза, в итоге получим в 4 раза больше объектов класса 1, как раз примерно столько же у нас уже имеется объектов класса 0. Слепим всё воедино и перемешаем. В теоретической части спринта в одной из задачек создавалась подходящая для этого всего функция, грех ей не воспользоваться ещё раз и здесь.\n",
    "Далее определим те же метрики, чтобы понять, продвинулись мы или нет, в сторону улучшения."
   ]
  },
  {
   "cell_type": "code",
   "execution_count": 18,
   "metadata": {},
   "outputs": [
    {
     "name": "stdout",
     "output_type": "stream",
     "text": [
      "F1-score модели случайного леса на валидационной выборке: 0.5872576177285318\n",
      "AUC-ROC-score модели случайного леса на валидационной выборке: 0.8377636960435498\n"
     ]
    }
   ],
   "source": [
    "def upsample(features, target, repeat):\n",
    "    features_zeros = features[target == 0]\n",
    "    features_ones = features[target == 1]\n",
    "    target_zeros = target[target == 0]\n",
    "    target_ones = target[target == 1]\n",
    "    features_upsampled = pd.concat([features_zeros] + [features_ones] * repeat)\n",
    "    target_upsampled = pd.concat([target_zeros] + [target_ones] * repeat)    \n",
    "    features_upsampled, target_upsampled = shuffle(features_upsampled, \n",
    "                                                   target_upsampled, \n",
    "                                                   random_state=42)\n",
    "    return features_upsampled, target_upsampled\n",
    "\n",
    "features_upsampled, target_upsampled = upsample(features_train, target_train, 4)\n",
    "\n",
    "model_forest4 = RandomForestClassifier(max_depth = 18, \n",
    "                                       n_estimators = 20, \n",
    "                                       random_state=42) \n",
    "model_forest4.fit(features_upsampled, target_upsampled) \n",
    "predicted_valid = model_forest4.predict(features_valid)\n",
    "probabilities_forest4 = model_forest4.predict_proba(features_valid)\n",
    "probabilities_forest4_one = probabilities_forest4[:, 1]\n",
    "\n",
    "print(\"F1-score модели случайного леса на валидационной выборке:\", f1_score(target_valid, predicted_valid))\n",
    "print(\"AUC-ROC-score модели случайного леса на валидационной выборке:\", \n",
    "     roc_auc_score(target_valid, probabilities_forest4_one))"
   ]
  },
  {
   "cell_type": "markdown",
   "metadata": {},
   "source": [
    "Вот так намного лучше. Но всё равно не дотягиваем до нужного порога. Попробуем третий способ."
   ]
  },
  {
   "cell_type": "markdown",
   "metadata": {},
   "source": [
    "### Уменьшение выборки."
   ]
  },
  {
   "cell_type": "markdown",
   "metadata": {},
   "source": [
    "Много - не всегда означает \"хорошо\". Посмотрим, что получится, если отбросить лишние нули в целевом признаке (случайным образом) и обучить модель в таком урезанном виде. И опять на помощь приходит функция-заготовочка из упражнений!"
   ]
  },
  {
   "cell_type": "code",
   "execution_count": 19,
   "metadata": {},
   "outputs": [
    {
     "name": "stdout",
     "output_type": "stream",
     "text": [
      "F1-score модели случайного леса на валидационной выборке: 0.5481874447391689\n",
      "AUC-ROC-score модели случайного леса на валидационной выборке: 0.8421552653704927\n"
     ]
    }
   ],
   "source": [
    "def downsample(features, target, fraction):\n",
    "    features_zeros = features[target == 0]\n",
    "    features_ones = features[target == 1]\n",
    "    target_zeros = target[target == 0]\n",
    "    target_ones = target[target == 1]\n",
    "\n",
    "    features_downsampled = pd.concat(\n",
    "        [features_zeros.sample(frac=fraction, random_state=12345)] + [features_ones])\n",
    "    target_downsampled = pd.concat(\n",
    "        [target_zeros.sample(frac=fraction, random_state=12345)] + [target_ones])\n",
    "    \n",
    "    features_downsampled, target_downsampled = shuffle(\n",
    "        features_downsampled, target_downsampled, random_state=12345)\n",
    "    \n",
    "    return features_downsampled, target_downsampled\n",
    "\n",
    "features_downsampled, target_downsampled = downsample(features_train, target_train, 0.2)\n",
    "\n",
    "model_forest5 = RandomForestClassifier(max_depth = 18, \n",
    "                                       n_estimators = 20, \n",
    "                                       random_state=42) \n",
    "model_forest5.fit(features_downsampled, target_downsampled) \n",
    "predicted_valid = model_forest5.predict(features_valid)\n",
    "probabilities_forest5 = model_forest5.predict_proba(features_valid)\n",
    "probabilities_forest5_one = probabilities_forest5[:, 1]\n",
    "\n",
    "print(\"F1-score модели случайного леса на валидационной выборке:\", f1_score(target_valid, predicted_valid))\n",
    "print(\"AUC-ROC-score модели случайного леса на валидационной выборке:\", \n",
    "     roc_auc_score(target_valid, probabilities_forest5_one))"
   ]
  },
  {
   "cell_type": "markdown",
   "metadata": {},
   "source": [
    "Здесь результат хуже предыдущего. Остановимся на методе номер 2: увеличение выборки, и будем использовать для обучения целевой и остальные признаки, сохранённые в предыдущем шаге."
   ]
  },
  {
   "cell_type": "markdown",
   "metadata": {},
   "source": [
    "### Подбор гиперпараметров случайного леса с учётом дисбаланса классов."
   ]
  },
  {
   "cell_type": "markdown",
   "metadata": {},
   "source": [
    "Мы выяснили, что увеличение выборки по крайней мере не делает хуже, да ещё и учитывает неравномерное распределение классов целевого признака. Поэтому примем отчаянную попытку ещё раз перебрать глубины и количества, и добиться таки значения F1 в 0.59.\n",
    "\n",
    "Сначала глубина на 20 деревьях."
   ]
  },
  {
   "cell_type": "code",
   "execution_count": 20,
   "metadata": {},
   "outputs": [
    {
     "name": "stdout",
     "output_type": "stream",
     "text": [
      "F1-score наилучшей модели дерева решений на валидационной выборке: 0.6153846153846152\n",
      "AUC-ROC-score наилучшей модели дерева решений на валидационной выборке: 0.8585086556746803\n",
      "Глубина наилучшей модели дерева: 8\n"
     ]
    }
   ],
   "source": [
    "best_forest6_model = None\n",
    "best_f1_forest6 = 0\n",
    "for depth in range(1,21):\n",
    "    model_forest6 = RandomForestClassifier(random_state=42, max_depth=depth, n_estimators = 20)\n",
    "    model_forest6.fit(features_upsampled, target_upsampled)\n",
    "    predicted_valid = model_forest6.predict(features_valid)\n",
    "    probabilities_forest6 = model_forest6.predict_proba(features_valid)\n",
    "    probabilities_forest6_one = probabilities_forest6[:, 1]\n",
    "    f1_forest6 = f1_score(target_valid, predicted_valid)\n",
    "    if f1_forest6 > best_f1_forest6:\n",
    "        best_forest6_model = model_forest6\n",
    "        best_f1_forest6 = f1_forest6\n",
    "        roc_auc_forest6 = roc_auc_score(target_valid, probabilities_forest6_one)\n",
    "        best_forest6_depth = best_forest6_model.get_params().get('max_depth')\n",
    "\n",
    "print(\"F1-score наилучшей модели дерева решений на валидационной выборке:\", best_f1_forest6)\n",
    "print(\"AUC-ROC-score наилучшей модели дерева решений на валидационной выборке:\", roc_auc_forest6)\n",
    "print(\"Глубина наилучшей модели дерева:\", best_forest6_depth)"
   ]
  },
  {
   "cell_type": "markdown",
   "metadata": {},
   "source": [
    "УРА! 0.61! Глубина 8. И так отлично, но вдруг надо ещё поменять количество деревьев в лесу?"
   ]
  },
  {
   "cell_type": "code",
   "execution_count": 21,
   "metadata": {},
   "outputs": [
    {
     "name": "stdout",
     "output_type": "stream",
     "text": [
      "F1-score наилучшей модели случайного леса на валидационной выборке: 0.6301369863013698\n",
      "AUC-ROC-score наилучшей модели дерева решений на валидационной выборке: 0.8621789847534087\n",
      "Количество деревьев в наилучшем лесу: 39\n"
     ]
    }
   ],
   "source": [
    "best_forest7_model = None\n",
    "best_f1_forest7 = 0\n",
    "for est in range(2, 101):\n",
    "    model_forest7 = RandomForestClassifier(random_state=42, n_estimators=est, max_depth = 8) \n",
    "    model_forest7.fit(features_upsampled, target_upsampled) \n",
    "    predicted_valid = model_forest7.predict(features_valid)\n",
    "    probabilities_forest7 = model_forest7.predict_proba(features_valid)\n",
    "    probabilities_forest7_one = probabilities_forest7[:, 1]\n",
    "    f1_forest7 = f1_score(target_valid, predicted_valid)\n",
    "    if f1_forest7 > best_f1_forest7:\n",
    "        best_forest7_model = model_forest7\n",
    "        best_f1_forest7 = f1_forest7\n",
    "        roc_auc_forest7 = roc_auc_score(target_valid, probabilities_forest7_one)\n",
    "        best_forest7_n_estimators = best_forest7_model.get_params().get('n_estimators')\n",
    "\n",
    "print(\"F1-score наилучшей модели случайного леса на валидационной выборке:\", best_f1_forest7)\n",
    "print(\"AUC-ROC-score наилучшей модели дерева решений на валидационной выборке:\", roc_auc_forest7)\n",
    "print(\"Количество деревьев в наилучшем лесу:\", best_forest7_n_estimators)"
   ]
  },
  {
   "cell_type": "markdown",
   "metadata": {},
   "source": [
    "Час от часу не легче! 0.63! Даже AUC-ROC приблизился к единице еще на одну сотую. Вот она, лучшая модель. Случайный лес из 39 деревьев глубиной 8, обученный на увеличенной выборке. Посмотрим, выдержит ли эта модель испытание тестовой выборкой."
   ]
  },
  {
   "cell_type": "markdown",
   "metadata": {},
   "source": [
    "## Тестирование модели."
   ]
  },
  {
   "cell_type": "markdown",
   "metadata": {},
   "source": [
    "### Сравнение с константной моделью."
   ]
  },
  {
   "cell_type": "markdown",
   "metadata": {},
   "source": [
    "Барабанная дробь. Проверяем обученный лес на тестовых данных."
   ]
  },
  {
   "cell_type": "code",
   "execution_count": 22,
   "metadata": {},
   "outputs": [
    {
     "name": "stdout",
     "output_type": "stream",
     "text": [
      "F1-score лучшей модели случайного леса на тестовых данных: 0.6168224299065421\n",
      "AUC-ROC-score лучшей модели случайного леса на тестовых данных: 0.8677480924765536\n"
     ]
    }
   ],
   "source": [
    "model_forest8 = RandomForestClassifier(random_state=42, n_estimators=39, max_depth = 8) \n",
    "model_forest8.fit(features_upsampled, target_upsampled) \n",
    "predicted_test = model_forest8.predict(features_test)\n",
    "probabilities_forest8 = model_forest8.predict_proba(features_test)\n",
    "probabilities_forest8_one = probabilities_forest8[:, 1]\n",
    "print(\"F1-score лучшей модели случайного леса на тестовых данных:\", f1_score(target_test, predicted_test))\n",
    "print(\"AUC-ROC-score лучшей модели случайного леса на тестовых данных:\", roc_auc_score(target_test, probabilities_forest8_one))"
   ]
  },
  {
   "cell_type": "markdown",
   "metadata": {},
   "source": [
    "### ROC-кривая для тестовых данных."
   ]
  },
  {
   "cell_type": "code",
   "execution_count": 23,
   "metadata": {},
   "outputs": [
    {
     "data": {
      "image/png": "[encoded data removed]",
      "text/plain": [
       "<Figure size 432x288 with 1 Axes>"
      ]
     },
     "metadata": {
      "needs_background": "light"
     },
     "output_type": "display_data"
    }
   ],
   "source": [
    "fpr, tpr, thresholds = roc_curve(target_test, probabilities_forest8_one) # < напишите код здесь >\n",
    "\n",
    "plt.figure()\n",
    "\n",
    "plt.plot(fpr, tpr)# < постройте график >\n",
    "\n",
    "# ROC-кривая случайной модели (выглядит как прямая)\n",
    "plt.plot([0, 1], [0, 1], linestyle='--')\n",
    "plt.xlim([0.0, 1.0])\n",
    "plt.ylim([0.0, 1.0])\n",
    "plt.xlabel('False Positive Rate')\n",
    "plt.ylabel('True Positive Rate')\n",
    "plt.title('ROC-кривая')\n",
    "plt.show() "
   ]
  },
  {
   "cell_type": "markdown",
   "metadata": {},
   "source": [
    "### Выводы."
   ]
  },
  {
   "cell_type": "markdown",
   "metadata": {},
   "source": [
    " Что же мы видим. \n",
    " \n",
    " - F1 не опустился ниже порога, что очень радует, значит, у нас довольно полная и довольно точная модель машинного обучения!\n",
    " - AUC-ROC получился даже выше, чем во время тренировок, значит, модель отвечала не случайным образом, а вдумчиво и методично. ROC-кривая далеко отстоит от диагонали, отвечающей за случайную модель."
   ]
  },
  {
   "cell_type": "markdown",
   "metadata": {},
   "source": [
    "# Чек-лист готовности проекта"
   ]
  },
  {
   "cell_type": "markdown",
   "metadata": {},
   "source": [
    "Поставьте 'x' в выполненных пунктах. Далее нажмите Shift+Enter."
   ]
  },
  {
   "cell_type": "markdown",
   "metadata": {},
   "source": [
    "- [x]  Jupyter Notebook открыт\n",
    "- [x]  Весь код выполняется без ошибок\n",
    "- [x]  Ячейки с кодом расположены в порядке исполнения\n",
    "- [x]  Выполнен шаг 1: данные подготовлены\n",
    "- [x]  Выполнен шаг 2: задача исследована\n",
    "    - [x]  Исследован баланс классов\n",
    "    - [x]  Изучены модели без учёта дисбаланса\n",
    "    - [x]  Написаны выводы по результатам исследования\n",
    "- [x]  Выполнен шаг 3: учтён дисбаланс\n",
    "    - [x]  Применено несколько способов борьбы с дисбалансом\n",
    "    - [x]  Написаны выводы по результатам исследования\n",
    "- [x]  Выполнен шаг 4: проведено тестирование\n",
    "- [x]  Удалось достичь *F1*-меры не менее 0.59\n",
    "- [x]  Исследована метрика *AUC-ROC*"
   ]
  }
 ],
 "metadata": {
  "ExecuteTimeLog": [
   {
    "duration": 1423,
    "start_time": "2021-12-05T16:35:19.717Z"
   },
   {
    "duration": 69,
    "start_time": "2021-12-05T16:35:21.142Z"
   },
   {
    "duration": 6,
    "start_time": "2021-12-05T16:35:21.216Z"
   },
   {
    "duration": 13,
    "start_time": "2021-12-05T16:35:21.224Z"
   },
   {
    "duration": 40,
    "start_time": "2021-12-05T16:35:21.240Z"
   },
   {
    "duration": 33,
    "start_time": "2021-12-05T16:35:21.282Z"
   },
   {
    "duration": 16,
    "start_time": "2021-12-05T16:35:21.319Z"
   },
   {
    "duration": 10,
    "start_time": "2021-12-05T16:35:21.368Z"
   },
   {
    "duration": 680,
    "start_time": "2021-12-05T16:35:21.380Z"
   },
   {
    "duration": 2266,
    "start_time": "2021-12-05T16:35:22.063Z"
   },
   {
    "duration": 13,
    "start_time": "2021-12-05T16:35:24.331Z"
   },
   {
    "duration": 32,
    "start_time": "2021-12-05T16:35:24.346Z"
   },
   {
    "duration": 673,
    "start_time": "2021-12-05T16:35:24.380Z"
   },
   {
    "duration": 3614,
    "start_time": "2021-12-05T16:35:25.056Z"
   },
   {
    "duration": 55732,
    "start_time": "2021-12-05T16:35:28.673Z"
   },
   {
    "duration": 162,
    "start_time": "2021-12-05T16:36:24.407Z"
   },
   {
    "duration": 321,
    "start_time": "2021-12-05T16:36:24.572Z"
   },
   {
    "duration": 358,
    "start_time": "2021-12-05T16:36:24.895Z"
   },
   {
    "duration": 147,
    "start_time": "2021-12-05T16:36:25.255Z"
   },
   {
    "duration": 5034,
    "start_time": "2021-12-05T16:36:25.404Z"
   },
   {
    "duration": 57427,
    "start_time": "2021-12-05T16:36:30.440Z"
   },
   {
    "duration": 460,
    "start_time": "2021-12-05T16:37:27.873Z"
   },
   {
    "duration": 279,
    "start_time": "2021-12-05T16:37:28.335Z"
   }
  ],
  "kernelspec": {
   "display_name": "Python 3",
   "language": "python",
   "name": "python3"
  },
  "language_info": {
   "codemirror_mode": {
    "name": "ipython",
    "version": 3
   },
   "file_extension": ".py",
   "mimetype": "text/x-python",
   "name": "python",
   "nbconvert_exporter": "python",
   "pygments_lexer": "ipython3",
   "version": "3.7.8"
  },
  "toc": {
   "base_numbering": 1,
   "nav_menu": {},
   "number_sections": true,
   "sideBar": true,
   "skip_h1_title": true,
   "title_cell": "Оглавление",
   "title_sidebar": "Contents",
   "toc_cell": true,
   "toc_position": {},
   "toc_section_display": true,
   "toc_window_display": true
  }
 },
 "nbformat": 4,
 "nbformat_minor": 2
}
