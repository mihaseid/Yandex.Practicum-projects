{
 "cells": [
  {
   "cell_type": "markdown",
   "metadata": {},
   "source": [
    "# Исследование объявлений о продаже квартир\n",
    "\n",
    "В вашем распоряжении данные сервиса Яндекс.Недвижимость — архив объявлений о продаже квартир в Санкт-Петербурге и соседних населённых пунктов за несколько лет. Нужно научиться определять рыночную стоимость объектов недвижимости. Ваша задача — установить параметры. Это позволит построить автоматизированную систему: она отследит аномалии и мошенническую деятельность. \n",
    "\n",
    "По каждой квартире на продажу доступны два вида данных. Первые вписаны пользователем, вторые — получены автоматически на основе картографических данных. Например, расстояние до центра, аэропорта, ближайшего парка и водоёма. "
   ]
  },
  {
   "cell_type": "markdown",
   "metadata": {},
   "source": [
    "### Шаг 1. Откройте файл с данными и изучите общую информацию. "
   ]
  },
  {
   "cell_type": "code",
   "execution_count": 1,
   "metadata": {
    "scrolled": false
   },
   "outputs": [
    {
     "name": "stdout",
     "output_type": "stream",
     "text": [
      "<class 'pandas.core.frame.DataFrame'>\n",
      "RangeIndex: 23699 entries, 0 to 23698\n",
      "Data columns (total 22 columns):\n",
      "total_images            23699 non-null int64\n",
      "last_price              23699 non-null float64\n",
      "total_area              23699 non-null float64\n",
      "first_day_exposition    23699 non-null object\n",
      "rooms                   23699 non-null int64\n",
      "ceiling_height          14504 non-null float64\n",
      "floors_total            23613 non-null float64\n",
      "living_area             21796 non-null float64\n",
      "floor                   23699 non-null int64\n",
      "is_apartment            2775 non-null object\n",
      "studio                  23699 non-null bool\n",
      "open_plan               23699 non-null bool\n",
      "kitchen_area            21421 non-null float64\n",
      "balcony                 12180 non-null float64\n",
      "locality_name           23650 non-null object\n",
      "airports_nearest        18157 non-null float64\n",
      "cityCenters_nearest     18180 non-null float64\n",
      "parks_around3000        18181 non-null float64\n",
      "parks_nearest           8079 non-null float64\n",
      "ponds_around3000        18181 non-null float64\n",
      "ponds_nearest           9110 non-null float64\n",
      "days_exposition         20518 non-null float64\n",
      "dtypes: bool(2), float64(14), int64(3), object(3)\n",
      "memory usage: 3.7+ MB\n"
     ]
    },
    {
     "name": "stderr",
     "output_type": "stream",
     "text": [
      "/opt/conda/lib/python3.7/site-packages/pandas/core/indexing.py:205: SettingWithCopyWarning: \n",
      "A value is trying to be set on a copy of a slice from a DataFrame\n",
      "\n",
      "See the caveats in the documentation: http://pandas.pydata.org/pandas-docs/stable/user_guide/indexing.html#returning-a-view-versus-a-copy\n",
      "  self._setitem_with_indexer(indexer, value)\n"
     ]
    }
   ],
   "source": [
    "# весь этот кусок скрипта срабатывает с третьего раза без предупреждений))) \n",
    "# пока не получилось разобраться, почему, и где именно проблемы\n",
    "\n",
    "import pandas as pd\n",
    "# импортируем библиотеку pandas, она хорошая\n",
    "pd.options.display.max_columns = None\n",
    "# это, чтобы видеть все колонки. Спасибо Slack :)\n",
    "\n",
    "data = pd.read_csv('/datasets/real_estate_data.csv', sep = '\\t')\n",
    "# читаем исходник с учётом разделителя в виде слэша+t\n",
    "data.head()\n",
    "# смотрим шапочку загруженного датасета\n",
    "data.info()\n",
    "# смотрим данные по типам и объемам данных в нашем сете\n",
    "\n",
    "data['locality_name'].value_counts().head(10)\n",
    "# смотрим на список уникальных населённых пунктов\n",
    "(data[data['locality_name']\n",
    "      .str.lower()\n",
    "      .str.contains(\n",
    "          ('санкт-петербург|спб|питер|мурино|шушары|всеволожск|пушкин|колпино|парголово|гатчина|кудрово|выборг'))\n",
    "          == True]\n",
    "     ['locality_name']\n",
    "     .unique()\n",
    ")\n",
    "# здесь мы ищем в столбце с геоназваниями ключевые слова из топ-10 населённых пунктов, \n",
    "# предварительно уменьшив регистр на всякий пожарный, и выводим уникальные названия\n",
    "data['locality_name'].loc[data['locality_name'].isin(['поселок Мурино', 'Мурино'])] = 'посёлок Мурино'\n",
    "data['locality_name'].loc[data['locality_name'] == 'Кудрово'] = 'деревня Кудрово'\n",
    "data['locality_name'].value_counts().head(10)\n",
    "# заменили названия одинаковых населённых пунктов на одинаковые, проверяем статистику топ-10, \n",
    "# изменилось ли количество\n",
    "\n",
    "pd.DataFrame([data.min(), data.max()], index = ('min_value', 'max_value'))\n",
    "# смотрим на максимальные и минимальные значения в столбцах, мало ли что там обнаружится\n",
    "\n",
    "from IPython.core.interactiveshell import InteractiveShell\n",
    "InteractiveShell.ast_node_interactivity = \"all\"\n",
    "# в гуглах говорят, что эти команды помогают показать все результаты работы скрипта, а не только последний. Поверим."
   ]
  },
  {
   "cell_type": "markdown",
   "metadata": {},
   "source": [
    "### Изучаем то, что нам дано\n",
    "\n",
    "#### Первый взгляд\n",
    "Взглянуть не получилось, потому что все данные слепились в одну строчку. Это вызвано тем, что там разделитель не запятая, как обычно в csv, а одинарный обратный слэш + буква \"t\". Поправлю это недоразумение, загружу датасет с учётом разделителя. \n",
    "\n",
    "#### Второй первый взгляд\n",
    "\n",
    "Очень интересный датасет!\n",
    "- Вижу много пропусков. С каждым столбцом будем разбираться отдельно, определять, где логичнее убрать совсем строки с пропусками, где можно было бы заменить на среднее/медиану/значение по умолчанию, а где вообще оставить их в покое\n",
    "    \n",
    "#### Текстовые значения\n",
    "Долг обязывает посмотреть, что скрывается в столбцах типа object. \"first_day_exposition\" сейчас трогать не будем, он покажет нам ошибку (аномалию), если не получится преобразовать в тип дата-время. То же самое для перевода столбца \"is_apartment\" в булев тип. Остались населённые пункты. Нас будет интересовать топ-10 по объялениям и самый крупный из них - СПб. Поищем, нет ли среди названий тех же населённых пунктов, что и в топе, но написанных как-то иначе. Нашлось три варианта Мурино и два варианта Кудрово. Заменю их на одинаковое написание и перезапишу в исходную переменную.\n",
    "\n",
    "Ну вот, теперь не потеряем ни одного Мурино и Кудрово. После объединения всех \"Кудровских\" объявлений даже поменялся порядок в рейтинге! Значит, сделали важную обработочку.\n",
    "\n",
    "#### Min-max значения, выбросы, беглый взгляд\n",
    "- Из всех столбцов сразу бросается в глаза столбце с высотой потолка, высота 1 или 100 метров не очень правдоподобна.\n",
    "- Жилплощадь в 2 метра - это грустно, но наверное и такое может быть. Как и кухня в 1,3 кв. метра.\n",
    "- Нулевое расстояние в метрах до аэропорта, скорее всего, означает, что данных нет. Даже если бы это были апартаменты при аэропорте, было бы хоть сколько-нибудь метров.\n",
    "- 1 метр до парка, хмм.. Допустимо, если конец дома - это конец его кадастровой территории, например.\n",
    "\n",
    "Дальше надо осторожно заняться пропусками.\n",
    "\n"
   ]
  },
  {
   "cell_type": "markdown",
   "metadata": {},
   "source": [
    "### Шаг 2. Предобработка данных"
   ]
  },
  {
   "cell_type": "code",
   "execution_count": 2,
   "metadata": {},
   "outputs": [
    {
     "data": {
      "text/plain": [
       "count    14504.000000\n",
       "mean         2.771499\n",
       "std          1.261056\n",
       "min          1.000000\n",
       "25%          2.520000\n",
       "50%          2.650000\n",
       "75%          2.800000\n",
       "max        100.000000\n",
       "Name: ceiling_height, dtype: float64"
      ]
     },
     "execution_count": 2,
     "metadata": {},
     "output_type": "execute_result"
    },
    {
     "data": {
      "text/plain": [
       "count    14472.000000\n",
       "mean         2.726794\n",
       "std          0.278705\n",
       "min          2.000000\n",
       "25%          2.510000\n",
       "50%          2.650000\n",
       "75%          2.800000\n",
       "max          6.000000\n",
       "Name: ceiling_height, dtype: float64"
      ]
     },
     "execution_count": 2,
     "metadata": {},
     "output_type": "execute_result"
    },
    {
     "data": {
      "text/plain": [
       "0"
      ]
     },
     "execution_count": 2,
     "metadata": {},
     "output_type": "execute_result"
    },
    {
     "data": {
      "text/html": [
       "<div>\n",
       "<style scoped>\n",
       "    .dataframe tbody tr th:only-of-type {\n",
       "        vertical-align: middle;\n",
       "    }\n",
       "\n",
       "    .dataframe tbody tr th {\n",
       "        vertical-align: top;\n",
       "    }\n",
       "\n",
       "    .dataframe thead th {\n",
       "        text-align: right;\n",
       "    }\n",
       "</style>\n",
       "<table border=\"1\" class=\"dataframe\">\n",
       "  <thead>\n",
       "    <tr style=\"text-align: right;\">\n",
       "      <th></th>\n",
       "      <th>total_images</th>\n",
       "      <th>last_price</th>\n",
       "      <th>total_area</th>\n",
       "      <th>first_day_exposition</th>\n",
       "      <th>rooms</th>\n",
       "      <th>ceiling_height</th>\n",
       "      <th>floors_total</th>\n",
       "      <th>living_area</th>\n",
       "      <th>floor</th>\n",
       "      <th>is_apartment</th>\n",
       "      <th>studio</th>\n",
       "      <th>open_plan</th>\n",
       "      <th>kitchen_area</th>\n",
       "      <th>balcony</th>\n",
       "      <th>locality_name</th>\n",
       "      <th>airports_nearest</th>\n",
       "      <th>cityCenters_nearest</th>\n",
       "      <th>parks_around3000</th>\n",
       "      <th>parks_nearest</th>\n",
       "      <th>ponds_around3000</th>\n",
       "      <th>ponds_nearest</th>\n",
       "      <th>days_exposition</th>\n",
       "    </tr>\n",
       "  </thead>\n",
       "  <tbody>\n",
       "    <tr>\n",
       "      <td>3</td>\n",
       "      <td>0</td>\n",
       "      <td>64900000.0</td>\n",
       "      <td>159.0</td>\n",
       "      <td>2015-07-24T00:00:00</td>\n",
       "      <td>3</td>\n",
       "      <td>2.65</td>\n",
       "      <td>14.0</td>\n",
       "      <td>NaN</td>\n",
       "      <td>9</td>\n",
       "      <td>NaN</td>\n",
       "      <td>False</td>\n",
       "      <td>False</td>\n",
       "      <td>NaN</td>\n",
       "      <td>0.0</td>\n",
       "      <td>Санкт-Петербург</td>\n",
       "      <td>28098.0</td>\n",
       "      <td>6800.0</td>\n",
       "      <td>2.0</td>\n",
       "      <td>84.0</td>\n",
       "      <td>3.0</td>\n",
       "      <td>234.0</td>\n",
       "      <td>424.0</td>\n",
       "    </tr>\n",
       "    <tr>\n",
       "      <td>7</td>\n",
       "      <td>5</td>\n",
       "      <td>7915000.0</td>\n",
       "      <td>71.6</td>\n",
       "      <td>2019-04-18T00:00:00</td>\n",
       "      <td>2</td>\n",
       "      <td>2.65</td>\n",
       "      <td>24.0</td>\n",
       "      <td>NaN</td>\n",
       "      <td>22</td>\n",
       "      <td>NaN</td>\n",
       "      <td>False</td>\n",
       "      <td>False</td>\n",
       "      <td>18.9</td>\n",
       "      <td>2.0</td>\n",
       "      <td>Санкт-Петербург</td>\n",
       "      <td>23982.0</td>\n",
       "      <td>11634.0</td>\n",
       "      <td>0.0</td>\n",
       "      <td>NaN</td>\n",
       "      <td>0.0</td>\n",
       "      <td>NaN</td>\n",
       "      <td>NaN</td>\n",
       "    </tr>\n",
       "    <tr>\n",
       "      <td>30</td>\n",
       "      <td>12</td>\n",
       "      <td>2200000.0</td>\n",
       "      <td>32.8</td>\n",
       "      <td>2018-02-19T00:00:00</td>\n",
       "      <td>1</td>\n",
       "      <td>2.65</td>\n",
       "      <td>9.0</td>\n",
       "      <td>NaN</td>\n",
       "      <td>2</td>\n",
       "      <td>NaN</td>\n",
       "      <td>False</td>\n",
       "      <td>False</td>\n",
       "      <td>NaN</td>\n",
       "      <td>NaN</td>\n",
       "      <td>Коммунар</td>\n",
       "      <td>NaN</td>\n",
       "      <td>NaN</td>\n",
       "      <td>NaN</td>\n",
       "      <td>NaN</td>\n",
       "      <td>NaN</td>\n",
       "      <td>NaN</td>\n",
       "      <td>63.0</td>\n",
       "    </tr>\n",
       "    <tr>\n",
       "      <td>37</td>\n",
       "      <td>10</td>\n",
       "      <td>1990000.0</td>\n",
       "      <td>45.8</td>\n",
       "      <td>2017-10-28T00:00:00</td>\n",
       "      <td>2</td>\n",
       "      <td>2.50</td>\n",
       "      <td>5.0</td>\n",
       "      <td>NaN</td>\n",
       "      <td>1</td>\n",
       "      <td>NaN</td>\n",
       "      <td>False</td>\n",
       "      <td>False</td>\n",
       "      <td>NaN</td>\n",
       "      <td>NaN</td>\n",
       "      <td>поселок городского типа Красный Бор</td>\n",
       "      <td>NaN</td>\n",
       "      <td>NaN</td>\n",
       "      <td>NaN</td>\n",
       "      <td>NaN</td>\n",
       "      <td>NaN</td>\n",
       "      <td>NaN</td>\n",
       "      <td>196.0</td>\n",
       "    </tr>\n",
       "    <tr>\n",
       "      <td>44</td>\n",
       "      <td>13</td>\n",
       "      <td>5350000.0</td>\n",
       "      <td>40.0</td>\n",
       "      <td>2018-11-18T00:00:00</td>\n",
       "      <td>1</td>\n",
       "      <td>2.65</td>\n",
       "      <td>22.0</td>\n",
       "      <td>NaN</td>\n",
       "      <td>3</td>\n",
       "      <td>NaN</td>\n",
       "      <td>False</td>\n",
       "      <td>False</td>\n",
       "      <td>NaN</td>\n",
       "      <td>1.0</td>\n",
       "      <td>Санкт-Петербург</td>\n",
       "      <td>30471.0</td>\n",
       "      <td>11603.0</td>\n",
       "      <td>1.0</td>\n",
       "      <td>620.0</td>\n",
       "      <td>1.0</td>\n",
       "      <td>1152.0</td>\n",
       "      <td>NaN</td>\n",
       "    </tr>\n",
       "  </tbody>\n",
       "</table>\n",
       "</div>"
      ],
      "text/plain": [
       "    total_images  last_price  total_area first_day_exposition  rooms  \\\n",
       "3              0  64900000.0       159.0  2015-07-24T00:00:00      3   \n",
       "7              5   7915000.0        71.6  2019-04-18T00:00:00      2   \n",
       "30            12   2200000.0        32.8  2018-02-19T00:00:00      1   \n",
       "37            10   1990000.0        45.8  2017-10-28T00:00:00      2   \n",
       "44            13   5350000.0        40.0  2018-11-18T00:00:00      1   \n",
       "\n",
       "    ceiling_height  floors_total  living_area  floor is_apartment  studio  \\\n",
       "3             2.65          14.0          NaN      9          NaN   False   \n",
       "7             2.65          24.0          NaN     22          NaN   False   \n",
       "30            2.65           9.0          NaN      2          NaN   False   \n",
       "37            2.50           5.0          NaN      1          NaN   False   \n",
       "44            2.65          22.0          NaN      3          NaN   False   \n",
       "\n",
       "    open_plan  kitchen_area  balcony                        locality_name  \\\n",
       "3       False           NaN      0.0                      Санкт-Петербург   \n",
       "7       False          18.9      2.0                      Санкт-Петербург   \n",
       "30      False           NaN      NaN                             Коммунар   \n",
       "37      False           NaN      NaN  поселок городского типа Красный Бор   \n",
       "44      False           NaN      1.0                      Санкт-Петербург   \n",
       "\n",
       "    airports_nearest  cityCenters_nearest  parks_around3000  parks_nearest  \\\n",
       "3            28098.0               6800.0               2.0           84.0   \n",
       "7            23982.0              11634.0               0.0            NaN   \n",
       "30               NaN                  NaN               NaN            NaN   \n",
       "37               NaN                  NaN               NaN            NaN   \n",
       "44           30471.0              11603.0               1.0          620.0   \n",
       "\n",
       "    ponds_around3000  ponds_nearest  days_exposition  \n",
       "3                3.0          234.0            424.0  \n",
       "7                0.0            NaN              NaN  \n",
       "30               NaN            NaN             63.0  \n",
       "37               NaN            NaN            196.0  \n",
       "44               1.0         1152.0              NaN  "
      ]
     },
     "execution_count": 2,
     "metadata": {},
     "output_type": "execute_result"
    },
    {
     "data": {
      "text/html": [
       "<div>\n",
       "<style scoped>\n",
       "    .dataframe tbody tr th:only-of-type {\n",
       "        vertical-align: middle;\n",
       "    }\n",
       "\n",
       "    .dataframe tbody tr th {\n",
       "        vertical-align: top;\n",
       "    }\n",
       "\n",
       "    .dataframe thead th {\n",
       "        text-align: right;\n",
       "    }\n",
       "</style>\n",
       "<table border=\"1\" class=\"dataframe\">\n",
       "  <thead>\n",
       "    <tr style=\"text-align: right;\">\n",
       "      <th></th>\n",
       "      <th>total_images</th>\n",
       "      <th>last_price</th>\n",
       "      <th>total_area</th>\n",
       "      <th>first_day_exposition</th>\n",
       "      <th>rooms</th>\n",
       "      <th>ceiling_height</th>\n",
       "      <th>floors_total</th>\n",
       "      <th>living_area</th>\n",
       "      <th>floor</th>\n",
       "      <th>is_apartment</th>\n",
       "      <th>studio</th>\n",
       "      <th>open_plan</th>\n",
       "      <th>kitchen_area</th>\n",
       "      <th>balcony</th>\n",
       "      <th>locality_name</th>\n",
       "      <th>airports_nearest</th>\n",
       "      <th>cityCenters_nearest</th>\n",
       "      <th>parks_around3000</th>\n",
       "      <th>parks_nearest</th>\n",
       "      <th>ponds_around3000</th>\n",
       "      <th>ponds_nearest</th>\n",
       "      <th>days_exposition</th>\n",
       "    </tr>\n",
       "  </thead>\n",
       "  <tbody>\n",
       "    <tr>\n",
       "      <td>3</td>\n",
       "      <td>0</td>\n",
       "      <td>64900000.0</td>\n",
       "      <td>159.0</td>\n",
       "      <td>2015-07-24T00:00:00</td>\n",
       "      <td>3</td>\n",
       "      <td>2.65</td>\n",
       "      <td>14.0</td>\n",
       "      <td>NaN</td>\n",
       "      <td>9</td>\n",
       "      <td>NaN</td>\n",
       "      <td>False</td>\n",
       "      <td>False</td>\n",
       "      <td>NaN</td>\n",
       "      <td>0.0</td>\n",
       "      <td>Санкт-Петербург</td>\n",
       "      <td>28098.0</td>\n",
       "      <td>6800.0</td>\n",
       "      <td>2.0</td>\n",
       "      <td>84.0</td>\n",
       "      <td>3.0</td>\n",
       "      <td>234.0</td>\n",
       "      <td>424.0</td>\n",
       "    </tr>\n",
       "    <tr>\n",
       "      <td>30</td>\n",
       "      <td>12</td>\n",
       "      <td>2200000.0</td>\n",
       "      <td>32.8</td>\n",
       "      <td>2018-02-19T00:00:00</td>\n",
       "      <td>1</td>\n",
       "      <td>2.65</td>\n",
       "      <td>9.0</td>\n",
       "      <td>NaN</td>\n",
       "      <td>2</td>\n",
       "      <td>NaN</td>\n",
       "      <td>False</td>\n",
       "      <td>False</td>\n",
       "      <td>NaN</td>\n",
       "      <td>NaN</td>\n",
       "      <td>Коммунар</td>\n",
       "      <td>NaN</td>\n",
       "      <td>NaN</td>\n",
       "      <td>NaN</td>\n",
       "      <td>NaN</td>\n",
       "      <td>NaN</td>\n",
       "      <td>NaN</td>\n",
       "      <td>63.0</td>\n",
       "    </tr>\n",
       "    <tr>\n",
       "      <td>37</td>\n",
       "      <td>10</td>\n",
       "      <td>1990000.0</td>\n",
       "      <td>45.8</td>\n",
       "      <td>2017-10-28T00:00:00</td>\n",
       "      <td>2</td>\n",
       "      <td>2.50</td>\n",
       "      <td>5.0</td>\n",
       "      <td>NaN</td>\n",
       "      <td>1</td>\n",
       "      <td>NaN</td>\n",
       "      <td>False</td>\n",
       "      <td>False</td>\n",
       "      <td>NaN</td>\n",
       "      <td>NaN</td>\n",
       "      <td>поселок городского типа Красный Бор</td>\n",
       "      <td>NaN</td>\n",
       "      <td>NaN</td>\n",
       "      <td>NaN</td>\n",
       "      <td>NaN</td>\n",
       "      <td>NaN</td>\n",
       "      <td>NaN</td>\n",
       "      <td>196.0</td>\n",
       "    </tr>\n",
       "    <tr>\n",
       "      <td>44</td>\n",
       "      <td>13</td>\n",
       "      <td>5350000.0</td>\n",
       "      <td>40.0</td>\n",
       "      <td>2018-11-18T00:00:00</td>\n",
       "      <td>1</td>\n",
       "      <td>2.65</td>\n",
       "      <td>22.0</td>\n",
       "      <td>NaN</td>\n",
       "      <td>3</td>\n",
       "      <td>NaN</td>\n",
       "      <td>False</td>\n",
       "      <td>False</td>\n",
       "      <td>NaN</td>\n",
       "      <td>1.0</td>\n",
       "      <td>Санкт-Петербург</td>\n",
       "      <td>30471.0</td>\n",
       "      <td>11603.0</td>\n",
       "      <td>1.0</td>\n",
       "      <td>620.0</td>\n",
       "      <td>1.0</td>\n",
       "      <td>1152.0</td>\n",
       "      <td>NaN</td>\n",
       "    </tr>\n",
       "    <tr>\n",
       "      <td>59</td>\n",
       "      <td>15</td>\n",
       "      <td>6300000.0</td>\n",
       "      <td>46.5</td>\n",
       "      <td>2017-03-06T00:00:00</td>\n",
       "      <td>1</td>\n",
       "      <td>2.65</td>\n",
       "      <td>13.0</td>\n",
       "      <td>NaN</td>\n",
       "      <td>13</td>\n",
       "      <td>NaN</td>\n",
       "      <td>False</td>\n",
       "      <td>False</td>\n",
       "      <td>NaN</td>\n",
       "      <td>NaN</td>\n",
       "      <td>Санкт-Петербург</td>\n",
       "      <td>11125.0</td>\n",
       "      <td>14501.0</td>\n",
       "      <td>0.0</td>\n",
       "      <td>NaN</td>\n",
       "      <td>0.0</td>\n",
       "      <td>NaN</td>\n",
       "      <td>336.0</td>\n",
       "    </tr>\n",
       "  </tbody>\n",
       "</table>\n",
       "</div>"
      ],
      "text/plain": [
       "    total_images  last_price  total_area first_day_exposition  rooms  \\\n",
       "3              0  64900000.0       159.0  2015-07-24T00:00:00      3   \n",
       "30            12   2200000.0        32.8  2018-02-19T00:00:00      1   \n",
       "37            10   1990000.0        45.8  2017-10-28T00:00:00      2   \n",
       "44            13   5350000.0        40.0  2018-11-18T00:00:00      1   \n",
       "59            15   6300000.0        46.5  2017-03-06T00:00:00      1   \n",
       "\n",
       "    ceiling_height  floors_total  living_area  floor is_apartment  studio  \\\n",
       "3             2.65          14.0          NaN      9          NaN   False   \n",
       "30            2.65           9.0          NaN      2          NaN   False   \n",
       "37            2.50           5.0          NaN      1          NaN   False   \n",
       "44            2.65          22.0          NaN      3          NaN   False   \n",
       "59            2.65          13.0          NaN     13          NaN   False   \n",
       "\n",
       "    open_plan  kitchen_area  balcony                        locality_name  \\\n",
       "3       False           NaN      0.0                      Санкт-Петербург   \n",
       "30      False           NaN      NaN                             Коммунар   \n",
       "37      False           NaN      NaN  поселок городского типа Красный Бор   \n",
       "44      False           NaN      1.0                      Санкт-Петербург   \n",
       "59      False           NaN      NaN                      Санкт-Петербург   \n",
       "\n",
       "    airports_nearest  cityCenters_nearest  parks_around3000  parks_nearest  \\\n",
       "3            28098.0               6800.0               2.0           84.0   \n",
       "30               NaN                  NaN               NaN            NaN   \n",
       "37               NaN                  NaN               NaN            NaN   \n",
       "44           30471.0              11603.0               1.0          620.0   \n",
       "59           11125.0              14501.0               0.0            NaN   \n",
       "\n",
       "    ponds_around3000  ponds_nearest  days_exposition  \n",
       "3                3.0          234.0            424.0  \n",
       "30               NaN            NaN             63.0  \n",
       "37               NaN            NaN            196.0  \n",
       "44               1.0         1152.0              NaN  \n",
       "59               0.0            NaN            336.0  "
      ]
     },
     "execution_count": 2,
     "metadata": {},
     "output_type": "execute_result"
    },
    {
     "data": {
      "text/plain": [
       "False    2725\n",
       "True       50\n",
       "Name: is_apartment, dtype: int64"
      ]
     },
     "execution_count": 2,
     "metadata": {},
     "output_type": "execute_result"
    },
    {
     "data": {
      "text/plain": [
       "False    23563\n",
       "True        50\n",
       "Name: is_apartment, dtype: int64"
      ]
     },
     "execution_count": 2,
     "metadata": {},
     "output_type": "execute_result"
    },
    {
     "data": {
      "text/plain": [
       "0"
      ]
     },
     "execution_count": 2,
     "metadata": {},
     "output_type": "execute_result"
    },
    {
     "data": {
      "text/plain": [
       "60"
      ]
     },
     "execution_count": 2,
     "metadata": {},
     "output_type": "execute_result"
    },
    {
     "data": {
      "text/plain": [
       "15651"
      ]
     },
     "execution_count": 2,
     "metadata": {},
     "output_type": "execute_result"
    },
    {
     "data": {
      "text/plain": [
       "0.3833620854897451"
      ]
     },
     "execution_count": 2,
     "metadata": {},
     "output_type": "execute_result"
    },
    {
     "data": {
      "text/plain": [
       "2745"
      ]
     },
     "execution_count": 2,
     "metadata": {},
     "output_type": "execute_result"
    },
    {
     "name": "stdout",
     "output_type": "stream",
     "text": [
      "<class 'pandas.core.frame.DataFrame'>\n",
      "Int64Index: 23565 entries, 0 to 23698\n",
      "Data columns (total 22 columns):\n",
      "total_images            23565 non-null int64\n",
      "last_price              23565 non-null Int64\n",
      "total_area              23565 non-null float64\n",
      "first_day_exposition    23565 non-null datetime64[ns]\n",
      "rooms                   23565 non-null int64\n",
      "ceiling_height          23565 non-null float64\n",
      "floors_total            23565 non-null Int64\n",
      "living_area             21700 non-null float64\n",
      "floor                   23565 non-null int64\n",
      "is_apartment            23565 non-null bool\n",
      "studio                  23565 non-null bool\n",
      "open_plan               23565 non-null bool\n",
      "kitchen_area            21343 non-null float64\n",
      "balcony                 23565 non-null Int64\n",
      "locality_name           23565 non-null object\n",
      "airports_nearest        18041 non-null float64\n",
      "cityCenters_nearest     18064 non-null float64\n",
      "parks_around3000        18065 non-null Int64\n",
      "parks_nearest           8030 non-null float64\n",
      "ponds_around3000        18065 non-null Int64\n",
      "ponds_nearest           9036 non-null float64\n",
      "days_exposition         20394 non-null Int64\n",
      "dtypes: Int64(6), bool(3), datetime64[ns](1), float64(8), int64(3), object(1)\n",
      "memory usage: 3.8+ MB\n"
     ]
    }
   ],
   "source": [
    "import matplotlib.pyplot as plt\n",
    "# импортируем графичную библиотеку на будущее, пока я не забыла\n",
    "\n",
    "\n",
    "# I. NaNы\n",
    "\n",
    "# 1) работаем с высотой потолков:\n",
    "\n",
    "data['ceiling_height'].describe()\n",
    "data.query('6 >= ceiling_height >= 1.8')['ceiling_height'].describe()\n",
    "# сравниваем статистические параметры наших данных с выбросами и без\n",
    "data_na_handled = data.copy()\n",
    "data_na_handled['ceiling_height'] = data['ceiling_height'].fillna(data['ceiling_height'].median()) \n",
    "# заменим пропуски на медианы и запишем в новую переменную\n",
    "data_na_handled['ceiling_height'].isna().sum()\n",
    "# проверяем, не осталось ли пропусков\n",
    "\n",
    "# 2) работаем с количеством этажей:\n",
    "\n",
    "data_na_handled = data_na_handled.dropna(subset = ['floors_total'])\n",
    "# UPD: удаляем из всего датасета строки, где пропущено количество этажей\n",
    "\n",
    "# 3) работаем с жилплощадью и площадью кухни:\n",
    "\n",
    "data_na_handled[data_na_handled['living_area'].isna()].head()\n",
    "# выведем шапку таблицы, где нет жилплощади\n",
    "data_na_handled[data_na_handled['kitchen_area'].isna()].head()\n",
    "# выведем шапку таблицы, где нет площади кухни\n",
    "\n",
    "# 4) работаем с \"апартаментностью\":\n",
    "\n",
    "data_na_handled['is_apartment'].value_counts()\n",
    "data_na_handled['is_apartment'] = data_na_handled['is_apartment'].fillna(False)\n",
    "data_na_handled['is_apartment'].value_counts()\n",
    "\n",
    "# 5) работаем с балконами:\n",
    "\n",
    "data_na_handled['balcony'] = data_na_handled['balcony'].fillna(0)\n",
    "data_na_handled['balcony'].isna().sum()\n",
    "# заменяем пропуски на нули и проверяем наличие пропусков после преобразования\n",
    "\n",
    "# 6) работаем с географическими наименованиями:\n",
    "\n",
    "data_na_handled = data_na_handled.dropna(subset = ['locality_name'])\n",
    "# UPD: удаляем из всего датасета строки, где пропущен населённый пункт\n",
    "\n",
    "# 7) работаем с картографией:\n",
    "\n",
    "len(data_na_handled.query('(cityCenters_nearest.isnull()) and (locality_name == \"Санкт-Петербург\")'))\n",
    "# смотрим, есть ли у нас квартиры в СПб, где не указано расстояние до центра\n",
    "len(data_na_handled.query('locality_name == \"Санкт-Петербург\"'))\n",
    "# смотрим, сколько у нас квартир в Питере вообще\n",
    "(len(data_na_handled\n",
    "     .query('(cityCenters_nearest.isnull()) and (locality_name == \"Санкт-Петербург\")'))\n",
    "     /len(data_na_handled\n",
    "     .query('locality_name == \"Санкт-Петербург\"'))\n",
    "     * 100) \n",
    "# Какова доля в процентах тех квартир, что не имеют данных по расстоянию до центра?\n",
    "\n",
    "# 8) работаем с длительностью размещения объявления:\n",
    "\n",
    "# На заметку: дата оформления объявления изначально у нас записана так: 2015-07-24T00:00:00\n",
    "\n",
    "data_na_handled['first_day_exposition'] = pd.to_datetime(data_na_handled['first_day_exposition'], format = '%Y-%m-%dT%H:%M:%S')\n",
    "# совмещаем полезное с полезным, переводим даты-строки в даты-даты. \n",
    "len(data_na_handled.query('(days_exposition.isnull()) and (first_day_exposition.dt.year >= 2018)'))\n",
    "# ищем, сколько объявлений без длительности размещения относятся к 2018 году и позже\n",
    "\n",
    "# II. Типы данных.\n",
    "\n",
    "col_list = ['balcony', 'floors_total', 'last_price', 'days_exposition', 'parks_around3000', 'ponds_around3000'] # выделяешь список признаков, которые хочешь сконвертировать в int\n",
    "\n",
    "for col in col_list:\n",
    "\n",
    "# далее бежим по этим признакам в датафрейме handled и либо конвертируем тип обычным astype, а если не получится, то через round\n",
    "\n",
    "    try:\n",
    "\n",
    "        data_na_handled[col] = data_na_handled[col].astype('Int64')\n",
    "\n",
    "    except:\n",
    "\n",
    "        data_na_handled[col] = data_na_handled[col].round(0).astype('Int64')\n",
    "\n",
    "data_na_handled['is_apartment']=data_na_handled['is_apartment'].astype('bool')\n",
    "data_na_handled.info()\n",
    "# Перевели различные колонки в логичные для них типы данных"
   ]
  },
  {
   "cell_type": "markdown",
   "metadata": {},
   "source": [
    "#### Изучаем NaNы\n",
    "\n",
    "##### Высота потолков\n",
    "\n",
    "Высота потолков указана в 14504 из 23699 объявлений. Действительно, не всегда указывается высота потолков, если объявление краткое, есть более приоритетные характеристики. Но, так как это весомый ценообразущий параметр в нашей задаче, всё довольно прискорбно. Да ещё и разброс значений вызывает подозрения (от 1 до 100!). Посмотрим, какая медиана получается при наличии выбросов и при из отсутствии. Ага, вроде бы одинаковые значения, чего не скажешь о среднем. Заменим многочисленные пропуски на медиану. С выбросами разберёмся потом. \n",
    "\n",
    "\n",
    "##### Количество этажей\n",
    "\n",
    "86 пропущенных значений в датасете, взглянем, что это за объявления. Может быть, не было такого параметра при описании квартиры, когда эти 86 продавцов публиковали объявления. В этих объявлениях имеется номер этажа, но мы не сможем определить из этих данных, сколько же там всего этажей, а эта информация бы нам пригодилась в категоризации данных на первый, последний и остальные этажи. Ничего вроде среднего/медианы подставить мы туда тоже не можем, иначе может получиться, например, что кто-то жил на 14 этаже пятиэтажки. Оставим в покое эти пропуски, выжмем из них хотя бы номер этажа, когда придёт время. \n",
    "\n",
    "##### Жилплощадь и площадь кухни\n",
    "\n",
    "1903 пропуска значений жилой площади и 2278 пропусков площади кухни. Не те ли это значения, где у нас продаются апартаменты? Нет, похоже, что тут зависимости нет. Вообще, странно, что этих данных нет, они довольно стандартные для описаний квартир и могут влиять на принятие решения о покупке. Могу предположить разве что, что некоторые объявления были взяты из источников, где этот параметр по умолчанию не заполняется, вот продавец и не заполнил. То же самое для площади кухни, решили что общей площади достаточно для продажи квартиры. В любом случае, в проекте требуется вычислить отношения этих площадей к общей, дальше параметры и их отношения не упоминаются. То есть для высокой статистики и резюмирования они не понадобятся, оставлю эти наны в покое, посчитаю отношения там, где это возможно.\n",
    "\n",
    "##### Апартаменты иль нет\n",
    "\n",
    "Из 2775 ненулевых значений апартаментов только 50 штук. Почему вообще так мало этих данных? Скорее всего, потому что при продаже квартиры этот параметр даже не подразумевается, так как апартаменты формально - это не квартира, хоть и выглядит, как квартира. \n",
    "По умолчанию будем считать, что там, где у нас этих данных нет, размещены объявления об обычной квартире, и заменим пропуски на False. \n",
    "\n",
    "##### Балконы\n",
    "\n",
    "Большое спасибо за подсказку в задании! Заменим пропуски на 0. Действительно, если балкона вовсе нет, зачем вносить про него данные?\n",
    "\n",
    "##### Населённый пункт\n",
    "\n",
    "У нас есть 49 квартир неизвестно, где. Очень заманчивая сделка! Можно было бы запустить полномасштабное исследование, какие города и посёлки могли бы подойти под оставшиеся в живых параметры. Например, судя по расстоянию до аэропорта и центра города, многие из этих квартир скорее всего питерские. Возможно, в этом разгадка отсутствия значений: люди из крупных городов забывают, что есть жизнь и за (М)КАДом, и просто не указывают свой мегаполис. Но гарантии нет, оставляем пропуски как есть, в интересующие нас срезы они не попадут.\n",
    "\n",
    "##### Картографические данные\n",
    "\n",
    "Из всех имеющихся картографических параметров в исследовании нам понадобится только расстояние до центра, и то в Питере. Поэтому все пустые ячейки в этих столбцах, кроме расстояния до центра, я оставлю пустовать.\n",
    "Посмотрим, есть ли пропуски в колонке расстояния до центра именно для Санкт-Петербурга. Есть 61 квартира без этих данных, это 0.4% от всех квартир в СПб. Несущественно, мы оставим эти пропуски за кадром при отборе данных для Питера.\n",
    "\n",
    "##### Длительность размещения объявления\n",
    "\n",
    "Имеется примерно 3к пропусков. Из них подавляющее большинство относится к объявлениям 2018 года и моложе. Имея максимальное время продажи (допускаем его из длительности размещения объявления), близкое к 4.5 годам, напрашивается простое объяснение этим пропускам: на момент выкачки данных эти квартиры были ещё в продаже. Приняв такое объяснение, мы не будем жалеть об этих строчках, так из них невозможно получить информацию о скорости продажи квартир. \n",
    "п.с. Отвечая на вопрос о происхождении пропусков, заодно и перевела тип данных с датой размещения в нужный. Перейдём тогда и к остальным преобразованиям типов.\n",
    "\n",
    "#### Меняем типы данных\n",
    "\n",
    "В табличке жирным выделены те колонки, типы данных в которых в итоге я решила поменять, с учётом всех нюансов. Включая оценку трудозатрат при работе с пропущенными значениями, без которой невозможно перевести в целочисленный тип: где-то, по моим оценкам, оказалось менее трудозатратно оставить NaNы и вещественный тип, потому что можно всё это учесть в следующих шагах, работая со срезами.\n",
    "\n",
    "колонка | комментарии\n",
    ":---- | :----\n",
    "airports_nearest | вещественный, оставим так\n",
    "**balcony** | вещественный, обидно и опасно иметь полтора балкона, поменяем на целочисленный\n",
    "ceiling_height | здесь каждый сантиметр важен, оставляем вещественный\n",
    "cityCenters_nearest | вещественный, оставим так\n",
    "**UPD: days_exposition** | **вещественный, поменяем на int**\n",
    "**first_day_exposition** | перезаписали в тип дата-время\n",
    "floor | нормальный такой целочисленный тип\n",
    "**floors_total** | а вот тут недоработка, чтобы не пугать недостроем на треть этажа, сделаем целочисленным сей тип - запомним, что пропуски были заменены на нули ради этого. Нулеэтажных домов всё равно не бывает.\n",
    "**is_apartment** | предполагается, что это булев тип, сделаем его таковым\n",
    "kitchen_area | это болезненный момент, каждый сантиметр важен, оставляем вещественный\n",
    "**UPD: last_price** | **меняем на цену в целых рублях**\n",
    "living_area | вещественный, и это очень хорошо\n",
    "locality_name | это мы в число не превратим, пусть останется object\n",
    "open_plan | булев тип, так нам и надо\n",
    "**UPD: parks_around3000** | **число парков должно быть целым, поменяем тип**\n",
    "parks_nearest | вещественный, оставим так\n",
    "**UPD: ponds_around3000** | **число водоёмов должно быть целым, поменяем тип**\n",
    "ponds_nearest | вещественный, оставим так\n",
    "rooms | закончились шутки про половинные объекты, здесь всё ок, целые числа\n",
    "studio | да, булев тип, пан или пропал\n",
    "total_area | эти сантиметры решают судьбы людей, вещественный тип\n",
    "total_images | нормально, целые числа\n",
    "\n",
    "\n",
    "\n",
    "Пришло время для некоторых калькуляций, необходимых для ответов на вопросы жизни, вселенной и всего такого."
   ]
  },
  {
   "cell_type": "code",
   "execution_count": 3,
   "metadata": {},
   "outputs": [
    {
     "data": {
      "text/plain": [
       "total_images                0\n",
       "last_price                  0\n",
       "total_area                  0\n",
       "first_day_exposition        0\n",
       "rooms                       0\n",
       "ceiling_height              0\n",
       "floors_total                0\n",
       "living_area              1865\n",
       "floor                       0\n",
       "is_apartment                0\n",
       "studio                      0\n",
       "open_plan                   0\n",
       "kitchen_area             2222\n",
       "balcony                     0\n",
       "locality_name               0\n",
       "airports_nearest         5524\n",
       "cityCenters_nearest      5501\n",
       "parks_around3000         5500\n",
       "parks_nearest           15535\n",
       "ponds_around3000         5500\n",
       "ponds_nearest           14529\n",
       "days_exposition          3171\n",
       "dtype: int64"
      ]
     },
     "execution_count": 3,
     "metadata": {},
     "output_type": "execute_result"
    }
   ],
   "source": [
    "data_na_handled.isnull().sum()"
   ]
  },
  {
   "cell_type": "markdown",
   "metadata": {},
   "source": [
    "### Шаг 3. Посчитайте и добавьте в таблицу"
   ]
  },
  {
   "cell_type": "code",
   "execution_count": 4,
   "metadata": {},
   "outputs": [
    {
     "data": {
      "text/plain": [
       "другой       17326\n",
       "последний     3330\n",
       "первый        2909\n",
       "Name: floors_category, dtype: int64"
      ]
     },
     "execution_count": 4,
     "metadata": {},
     "output_type": "execute_result"
    },
    {
     "name": "stdout",
     "output_type": "stream",
     "text": [
      "<class 'pandas.core.frame.DataFrame'>\n",
      "Int64Index: 23565 entries, 0 to 23698\n",
      "Data columns (total 29 columns):\n",
      "total_images                   23565 non-null int64\n",
      "last_price                     23565 non-null int64\n",
      "total_area                     23565 non-null float64\n",
      "first_day_exposition           23565 non-null datetime64[ns]\n",
      "rooms                          23565 non-null int64\n",
      "ceiling_height                 23565 non-null float64\n",
      "floors_total                   23565 non-null Int64\n",
      "living_area                    23565 non-null float64\n",
      "floor                          23565 non-null int64\n",
      "is_apartment                   23565 non-null bool\n",
      "studio                         23565 non-null bool\n",
      "open_plan                      23565 non-null bool\n",
      "kitchen_area                   23565 non-null float64\n",
      "balcony                        23565 non-null Int64\n",
      "locality_name                  23565 non-null object\n",
      "airports_nearest               18041 non-null float64\n",
      "cityCenters_nearest            18064 non-null float64\n",
      "parks_around3000               18065 non-null Int64\n",
      "parks_nearest                  8030 non-null float64\n",
      "ponds_around3000               18065 non-null Int64\n",
      "ponds_nearest                  9036 non-null float64\n",
      "days_exposition                20394 non-null Int64\n",
      "sq_meter_price                 23565 non-null int64\n",
      "weekday_exposition             23565 non-null int64\n",
      "month_exposition               23565 non-null int64\n",
      "year_exposition                23565 non-null int64\n",
      "floors_category                23565 non-null object\n",
      "living_area_to_total_ratio     21700 non-null float64\n",
      "kitchen_area_to_total_ratio    21343 non-null float64\n",
      "dtypes: Int64(5), bool(3), datetime64[ns](1), float64(10), int64(8), object(2)\n",
      "memory usage: 5.0+ MB\n"
     ]
    }
   ],
   "source": [
    "import numpy as np\n",
    "# качнём математическую библиотечку, пригодится\n",
    "\n",
    "data_na_handled['sq_meter_price'] = data_na_handled['last_price'] / data_na_handled['total_area']\n",
    "data_na_handled['sq_meter_price']=data_na_handled['sq_meter_price'].astype('int64')\n",
    "data_na_handled['last_price']=data_na_handled['last_price'].astype('int64')\n",
    "data_na_handled['weekday_exposition'] = data_na_handled['first_day_exposition'].dt.weekday\n",
    "data_na_handled['month_exposition'] = data_na_handled['first_day_exposition'].dt.month\n",
    "data_na_handled['year_exposition'] = data_na_handled['first_day_exposition'].dt.year\n",
    "# посчитали и добавили в новые столбцы:\n",
    "#    - цена за кв. метр\n",
    "#    - день недели, когда разместили объявление\n",
    "#    - месяц, когда разместили объявление\n",
    "#    - год размещения объявления\n",
    "\n",
    "result = []\n",
    "def floor_category(floor, floors_total):\n",
    "    if floor == 1:\n",
    "        result = 'первый'\n",
    "    elif floor == floors_total:\n",
    "        result = 'последний'\n",
    "    else:\n",
    "        result = 'другой'\n",
    "    return result\n",
    "# эта функция категоризирует этажи на три вида: первый, последний, другие\n",
    "# при этом она учитывает, что мы ранее заменили NaNы в колонке с кол-вом этаже на нули (чтобы перевести в int64)\n",
    "# и такие строки с нулём этаже не категоризируются, в результате выводится NaN\n",
    "\n",
    "data_na_handled['floors_category'] = data_na_handled.apply(lambda row: floor_category(row['floor'], row['floors_total']), axis = 1)\n",
    "data_na_handled['floors_category'].value_counts()\n",
    "# применим функцию категоризации этажа на весь датасет, посмотрим, сколько квартир представлено в категориях\n",
    "\n",
    "result2 = []\n",
    "def area_ratio(area1, area2):\n",
    "    if area1 != np.nan and area2 != np.nan:\n",
    "        result2 = area1 / area2\n",
    "    else:\n",
    "        result2 = np.nan\n",
    "    return result2\n",
    "# функция считает отношение одной величины к другой с учетом того, что могут попасться NaNы. \n",
    "# в последнем случае функция тоже возвращает NaN\n",
    "\n",
    "data_na_handled['living_area_to_total_ratio'] = data_na_handled.apply(lambda row: area_ratio(row['living_area'], row['total_area']), axis = 1)\n",
    "data_na_handled['kitchen_area_to_total_ratio'] = data_na_handled.apply(lambda row: area_ratio(row['kitchen_area'], row['total_area']), axis = 1)\n",
    "# применим функцию подсчёта отношения величин (с учетом пропусков) для нашего датасета\n",
    "# посчитаем 2 отношения и добавим их в новые столбцы:\n",
    "#    - жилплощадь / общая площадь\n",
    "#    - площадь кухни / общая площадь\n",
    "\n",
    "living_mean_coef = data_na_handled['living_area_to_total_ratio'].mean()\n",
    "data_na_handled['living_area'] = data_na_handled['living_area'].fillna(data_na_handled['total_area'] * living_mean_coef)\n",
    "#living_mean_coef = data_na_handled['kitchen_area_to_total_ratio'].mean()\n",
    "\n",
    "\n",
    "kitchen_mean_coef = data_na_handled['kitchen_area_to_total_ratio'].mean()\n",
    "data_na_handled['kitchen_area'] = data_na_handled['kitchen_area'].fillna(data_na_handled['total_area'] * kitchen_mean_coef)\n",
    "# UPD: заменилии наны в площадях кухни и жилых на общие площади, \n",
    "# умноженные на средний коэффициент (отношение общей к жилой или кухонной)\n",
    "\n",
    "data_na_handled.info()\n"
   ]
  },
  {
   "cell_type": "markdown",
   "metadata": {},
   "source": [
    "#### Добавление расчётных данных к датасету\n",
    "В этой части проекта я провела вычислительные работые по датасету с учётом пропусков.\n",
    "- посчитала цену квадратного метра\n",
    "- вычленила день недели, месяц и год размещения для каждого объявления\n",
    "- категоризировала этажи на три вида: первый, последний, другой\n",
    "- посчитала отношение жилплощади к общей и площади кухни к общей\n",
    "\n",
    "Было интересно. На данном этапе моего развития как дата-учёного  мне оказалось проще написать функции учёта пропусков, чем думать на предыдущем шаге, что и как с ними можно сделать, а главное - зачем."
   ]
  },
  {
   "cell_type": "code",
   "execution_count": 5,
   "metadata": {},
   "outputs": [
    {
     "name": "stdout",
     "output_type": "stream",
     "text": [
      "<class 'pandas.core.frame.DataFrame'>\n",
      "Int64Index: 23565 entries, 0 to 23698\n",
      "Data columns (total 29 columns):\n",
      "total_images                   23565 non-null int64\n",
      "last_price                     23565 non-null int64\n",
      "total_area                     23565 non-null float64\n",
      "first_day_exposition           23565 non-null datetime64[ns]\n",
      "rooms                          23565 non-null int64\n",
      "ceiling_height                 23565 non-null float64\n",
      "floors_total                   23565 non-null Int64\n",
      "living_area                    23565 non-null float64\n",
      "floor                          23565 non-null int64\n",
      "is_apartment                   23565 non-null bool\n",
      "studio                         23565 non-null bool\n",
      "open_plan                      23565 non-null bool\n",
      "kitchen_area                   23565 non-null float64\n",
      "balcony                        23565 non-null Int64\n",
      "locality_name                  23565 non-null object\n",
      "airports_nearest               18041 non-null float64\n",
      "cityCenters_nearest            18064 non-null float64\n",
      "parks_around3000               18065 non-null Int64\n",
      "parks_nearest                  8030 non-null float64\n",
      "ponds_around3000               18065 non-null Int64\n",
      "ponds_nearest                  9036 non-null float64\n",
      "days_exposition                20394 non-null Int64\n",
      "sq_meter_price                 23565 non-null int64\n",
      "weekday_exposition             23565 non-null int64\n",
      "month_exposition               23565 non-null int64\n",
      "year_exposition                23565 non-null int64\n",
      "floors_category                23565 non-null object\n",
      "living_area_to_total_ratio     21700 non-null float64\n",
      "kitchen_area_to_total_ratio    21343 non-null float64\n",
      "dtypes: Int64(5), bool(3), datetime64[ns](1), float64(10), int64(8), object(2)\n",
      "memory usage: 5.0+ MB\n"
     ]
    }
   ],
   "source": [
    "data_na_handled.info()\n"
   ]
  },
  {
   "cell_type": "markdown",
   "metadata": {},
   "source": [
    "### Шаг 4. Проведите исследовательский анализ данных и выполните инструкции:"
   ]
  },
  {
   "cell_type": "code",
   "execution_count": 6,
   "metadata": {},
   "outputs": [
    {
     "data": {
      "text/plain": [
       "<matplotlib.axes._subplots.AxesSubplot at 0x7f0c515875d0>"
      ]
     },
     "execution_count": 6,
     "metadata": {},
     "output_type": "execute_result"
    },
    {
     "data": {
      "text/plain": [
       "Text(0.5, 1.0, 'Общая площадь')"
      ]
     },
     "execution_count": 6,
     "metadata": {},
     "output_type": "execute_result"
    },
    {
     "data": {
      "image/png": "[encoded data removed]",
      "text/plain": [
       "<Figure size 432x288 with 1 Axes>"
      ]
     },
     "metadata": {
      "needs_background": "light"
     },
     "output_type": "display_data"
    },
    {
     "data": {
      "text/plain": [
       "count    23565.000000\n",
       "mean        60.322824\n",
       "std         35.657060\n",
       "min         12.000000\n",
       "25%         40.000000\n",
       "50%         52.000000\n",
       "75%         69.700000\n",
       "max        900.000000\n",
       "Name: total_area, dtype: float64"
      ]
     },
     "execution_count": 6,
     "metadata": {},
     "output_type": "execute_result"
    },
    {
     "data": {
      "text/plain": [
       "<matplotlib.axes._subplots.AxesSubplot at 0x7f0c5045a390>"
      ]
     },
     "execution_count": 6,
     "metadata": {},
     "output_type": "execute_result"
    },
    {
     "data": {
      "text/plain": [
       "Text(0.5, 1.0, 'Цена')"
      ]
     },
     "execution_count": 6,
     "metadata": {},
     "output_type": "execute_result"
    },
    {
     "data": {
      "image/png": "[encoded data removed]",
      "text/plain": [
       "<Figure size 432x288 with 1 Axes>"
      ]
     },
     "metadata": {
      "needs_background": "light"
     },
     "output_type": "display_data"
    },
    {
     "data": {
      "text/plain": [
       "count    2.356500e+04\n",
       "mean     6.540058e+06\n",
       "std      1.091093e+07\n",
       "min      1.219000e+04\n",
       "25%      3.400000e+06\n",
       "50%      4.646000e+06\n",
       "75%      6.790000e+06\n",
       "max      7.630000e+08\n",
       "Name: last_price, dtype: float64"
      ]
     },
     "execution_count": 6,
     "metadata": {},
     "output_type": "execute_result"
    },
    {
     "data": {
      "text/plain": [
       "<matplotlib.axes._subplots.AxesSubplot at 0x7f0c5181c590>"
      ]
     },
     "execution_count": 6,
     "metadata": {},
     "output_type": "execute_result"
    },
    {
     "data": {
      "text/plain": [
       "Text(0.5, 1.0, 'Кол-во комнат')"
      ]
     },
     "execution_count": 6,
     "metadata": {},
     "output_type": "execute_result"
    },
    {
     "data": {
      "image/png": "[encoded data removed]",
      "text/plain": [
       "<Figure size 432x288 with 1 Axes>"
      ]
     },
     "metadata": {
      "needs_background": "light"
     },
     "output_type": "display_data"
    },
    {
     "data": {
      "text/plain": [
       "count    23565.000000\n",
       "mean         2.070656\n",
       "std          1.078591\n",
       "min          0.000000\n",
       "25%          1.000000\n",
       "50%          2.000000\n",
       "75%          3.000000\n",
       "max         19.000000\n",
       "Name: rooms, dtype: float64"
      ]
     },
     "execution_count": 6,
     "metadata": {},
     "output_type": "execute_result"
    },
    {
     "data": {
      "text/plain": [
       "<matplotlib.axes._subplots.AxesSubplot at 0x7f0c50c32fd0>"
      ]
     },
     "execution_count": 6,
     "metadata": {},
     "output_type": "execute_result"
    },
    {
     "data": {
      "text/plain": [
       "Text(0.5, 1.0, 'Высота потолка')"
      ]
     },
     "execution_count": 6,
     "metadata": {},
     "output_type": "execute_result"
    },
    {
     "data": {
      "image/png": "[encoded data removed]",
      "text/plain": [
       "<Figure size 432x288 with 1 Axes>"
      ]
     },
     "metadata": {
      "needs_background": "light"
     },
     "output_type": "display_data"
    },
    {
     "data": {
      "text/plain": [
       "count    23565.000000\n",
       "mean         2.724530\n",
       "std          0.991026\n",
       "min          1.000000\n",
       "25%          2.600000\n",
       "50%          2.650000\n",
       "75%          2.700000\n",
       "max        100.000000\n",
       "Name: ceiling_height, dtype: float64"
      ]
     },
     "execution_count": 6,
     "metadata": {},
     "output_type": "execute_result"
    },
    {
     "data": {
      "text/plain": [
       "<matplotlib.axes._subplots.AxesSubplot at 0x7f0c50bc0390>"
      ]
     },
     "execution_count": 6,
     "metadata": {},
     "output_type": "execute_result"
    },
    {
     "data": {
      "text/plain": [
       "Text(0.5, 1.0, 'Длительность размещения объявления')"
      ]
     },
     "execution_count": 6,
     "metadata": {},
     "output_type": "execute_result"
    },
    {
     "data": {
      "image/png": "[encoded data removed]",
      "text/plain": [
       "<Figure size 432x288 with 1 Axes>"
      ]
     },
     "metadata": {
      "needs_background": "light"
     },
     "output_type": "display_data"
    },
    {
     "data": {
      "text/plain": [
       "<matplotlib.axes._subplots.AxesSubplot at 0x7f0c50a94450>"
      ]
     },
     "execution_count": 6,
     "metadata": {},
     "output_type": "execute_result"
    },
    {
     "data": {
      "text/plain": [
       "Text(0.5, 1.0, 'Длительность размещения объявления')"
      ]
     },
     "execution_count": 6,
     "metadata": {},
     "output_type": "execute_result"
    },
    {
     "data": {
      "image/png": "[encoded data removed]",
      "text/plain": [
       "<Figure size 432x288 with 1 Axes>"
      ]
     },
     "metadata": {
      "needs_background": "light"
     },
     "output_type": "display_data"
    },
    {
     "data": {
      "text/plain": [
       "count    20394.000000\n",
       "mean       180.741395\n",
       "std        219.732782\n",
       "min          1.000000\n",
       "25%         45.000000\n",
       "50%         95.000000\n",
       "75%        231.000000\n",
       "max       1580.000000\n",
       "Name: days_exposition, dtype: float64"
      ]
     },
     "execution_count": 6,
     "metadata": {},
     "output_type": "execute_result"
    }
   ],
   "source": [
    "data_na_handled['total_area'].hist(bins = 50, color='#6960EC', range = (0, 500))\n",
    "plt.title('Общая площадь')\n",
    "plt.show()\n",
    "data_na_handled['total_area'].describe()\n",
    "data_na_handled['last_price'].hist(bins = 50, color='#41A317', range = (0, 50000000))\n",
    "plt.title('Цена')\n",
    "plt.show()\n",
    "data_na_handled['last_price'].describe()\n",
    "data_na_handled['rooms'].hist(bins = 11, color='#FFA62F', range = (0, 10)) \n",
    "plt.title('Кол-во комнат')\n",
    "plt.show()\n",
    "data_na_handled['rooms'].describe()\n",
    "data_na_handled['ceiling_height'].hist(bins = 20, color='#8C001A', range = (2, 4)) \n",
    "plt.title('Высота потолка')\n",
    "plt.show()\n",
    "data_na_handled['ceiling_height'].describe()\n",
    "data_na_handled['days_exposition'].hist(bins = 50, color='#438D80') \n",
    "plt.title('Длительность размещения объявления')\n",
    "plt.show()\n",
    "data_na_handled['days_exposition'].hist(bins = 100, color='#438D80', range = (0, 100)) \n",
    "plt.title('Длительность размещения объявления')\n",
    "plt.show()\n",
    "data_na_handled['days_exposition'].describe()\n",
    "# построили гистрограммы для пяти параметров с реалистичными пределами значений\n",
    "# под каждой гистограммой статистическая сводка с минимальным и максимальным значениями величин"
   ]
  },
  {
   "cell_type": "code",
   "execution_count": 7,
   "metadata": {},
   "outputs": [
    {
     "data": {
      "text/plain": [
       "<matplotlib.axes._subplots.AxesSubplot at 0x7f0c2a689490>"
      ]
     },
     "execution_count": 7,
     "metadata": {},
     "output_type": "execute_result"
    },
    {
     "data": {
      "text/plain": [
       "Text(0.5, 1.0, 'total_images')"
      ]
     },
     "execution_count": 7,
     "metadata": {},
     "output_type": "execute_result"
    },
    {
     "data": {
      "image/png": "[encoded data removed]",
      "text/plain": [
       "<Figure size 432x288 with 1 Axes>"
      ]
     },
     "metadata": {
      "needs_background": "light"
     },
     "output_type": "display_data"
    },
    {
     "data": {
      "text/plain": [
       "<matplotlib.axes._subplots.AxesSubplot at 0x7f0c5041b290>"
      ]
     },
     "execution_count": 7,
     "metadata": {},
     "output_type": "execute_result"
    },
    {
     "data": {
      "text/plain": [
       "Text(0.5, 1.0, 'last_price')"
      ]
     },
     "execution_count": 7,
     "metadata": {},
     "output_type": "execute_result"
    },
    {
     "data": {
      "image/png": "[encoded data removed]",
      "text/plain": [
       "<Figure size 432x288 with 1 Axes>"
      ]
     },
     "metadata": {
      "needs_background": "light"
     },
     "output_type": "display_data"
    },
    {
     "data": {
      "text/plain": [
       "<matplotlib.axes._subplots.AxesSubplot at 0x7f0c5141ca10>"
      ]
     },
     "execution_count": 7,
     "metadata": {},
     "output_type": "execute_result"
    },
    {
     "data": {
      "text/plain": [
       "Text(0.5, 1.0, 'total_area')"
      ]
     },
     "execution_count": 7,
     "metadata": {},
     "output_type": "execute_result"
    },
    {
     "data": {
      "image/png": "[encoded data removed]",
      "text/plain": [
       "<Figure size 432x288 with 1 Axes>"
      ]
     },
     "metadata": {
      "needs_background": "light"
     },
     "output_type": "display_data"
    },
    {
     "name": "stdout",
     "output_type": "stream",
     "text": [
      "error occurred.\n"
     ]
    },
    {
     "data": {
      "text/plain": [
       "<matplotlib.axes._subplots.AxesSubplot at 0x7f0c50bb3590>"
      ]
     },
     "execution_count": 7,
     "metadata": {},
     "output_type": "execute_result"
    },
    {
     "data": {
      "text/plain": [
       "Text(0.5, 1.0, 'rooms')"
      ]
     },
     "execution_count": 7,
     "metadata": {},
     "output_type": "execute_result"
    },
    {
     "data": {
      "image/png": "[encoded data removed]",
      "text/plain": [
       "<Figure size 432x288 with 1 Axes>"
      ]
     },
     "metadata": {
      "needs_background": "light"
     },
     "output_type": "display_data"
    },
    {
     "data": {
      "text/plain": [
       "<matplotlib.axes._subplots.AxesSubplot at 0x7f0c5045d450>"
      ]
     },
     "execution_count": 7,
     "metadata": {},
     "output_type": "execute_result"
    },
    {
     "data": {
      "text/plain": [
       "Text(0.5, 1.0, 'ceiling_height')"
      ]
     },
     "execution_count": 7,
     "metadata": {},
     "output_type": "execute_result"
    },
    {
     "data": {
      "image/png": "[encoded data removed]",
      "text/plain": [
       "<Figure size 432x288 with 1 Axes>"
      ]
     },
     "metadata": {
      "needs_background": "light"
     },
     "output_type": "display_data"
    },
    {
     "data": {
      "text/plain": [
       "<matplotlib.axes._subplots.AxesSubplot at 0x7f0c50b8b290>"
      ]
     },
     "execution_count": 7,
     "metadata": {},
     "output_type": "execute_result"
    },
    {
     "data": {
      "text/plain": [
       "Text(0.5, 1.0, 'floors_total')"
      ]
     },
     "execution_count": 7,
     "metadata": {},
     "output_type": "execute_result"
    },
    {
     "data": {
      "image/png": "[encoded data removed]",
      "text/plain": [
       "<Figure size 432x288 with 1 Axes>"
      ]
     },
     "metadata": {
      "needs_background": "light"
     },
     "output_type": "display_data"
    },
    {
     "data": {
      "text/plain": [
       "<matplotlib.axes._subplots.AxesSubplot at 0x7f0c50b30690>"
      ]
     },
     "execution_count": 7,
     "metadata": {},
     "output_type": "execute_result"
    },
    {
     "data": {
      "text/plain": [
       "Text(0.5, 1.0, 'living_area')"
      ]
     },
     "execution_count": 7,
     "metadata": {},
     "output_type": "execute_result"
    },
    {
     "data": {
      "image/png": "[encoded data removed]",
      "text/plain": [
       "<Figure size 432x288 with 1 Axes>"
      ]
     },
     "metadata": {
      "needs_background": "light"
     },
     "output_type": "display_data"
    },
    {
     "data": {
      "text/plain": [
       "<matplotlib.axes._subplots.AxesSubplot at 0x7f0c2a5be810>"
      ]
     },
     "execution_count": 7,
     "metadata": {},
     "output_type": "execute_result"
    },
    {
     "data": {
      "text/plain": [
       "Text(0.5, 1.0, 'floor')"
      ]
     },
     "execution_count": 7,
     "metadata": {},
     "output_type": "execute_result"
    },
    {
     "data": {
      "image/png": "[encoded data removed]",
      "text/plain": [
       "<Figure size 432x288 with 1 Axes>"
      ]
     },
     "metadata": {
      "needs_background": "light"
     },
     "output_type": "display_data"
    },
    {
     "data": {
      "text/plain": [
       "<matplotlib.axes._subplots.AxesSubplot at 0x7f0c50acce10>"
      ]
     },
     "execution_count": 7,
     "metadata": {},
     "output_type": "execute_result"
    },
    {
     "data": {
      "text/plain": [
       "Text(0.5, 1.0, 'is_apartment')"
      ]
     },
     "execution_count": 7,
     "metadata": {},
     "output_type": "execute_result"
    },
    {
     "data": {
      "image/png": "[encoded data removed]",
      "text/plain": [
       "<Figure size 432x288 with 1 Axes>"
      ]
     },
     "metadata": {
      "needs_background": "light"
     },
     "output_type": "display_data"
    },
    {
     "data": {
      "text/plain": [
       "<matplotlib.axes._subplots.AxesSubplot at 0x7f0c2a5281d0>"
      ]
     },
     "execution_count": 7,
     "metadata": {},
     "output_type": "execute_result"
    },
    {
     "data": {
      "text/plain": [
       "Text(0.5, 1.0, 'studio')"
      ]
     },
     "execution_count": 7,
     "metadata": {},
     "output_type": "execute_result"
    },
    {
     "data": {
      "image/png": "[encoded data removed]",
      "text/plain": [
       "<Figure size 432x288 with 1 Axes>"
      ]
     },
     "metadata": {
      "needs_background": "light"
     },
     "output_type": "display_data"
    },
    {
     "data": {
      "text/plain": [
       "<matplotlib.axes._subplots.AxesSubplot at 0x7f0c2a4fe590>"
      ]
     },
     "execution_count": 7,
     "metadata": {},
     "output_type": "execute_result"
    },
    {
     "data": {
      "text/plain": [
       "Text(0.5, 1.0, 'open_plan')"
      ]
     },
     "execution_count": 7,
     "metadata": {},
     "output_type": "execute_result"
    },
    {
     "data": {
      "image/png": "[encoded data removed]",
      "text/plain": [
       "<Figure size 432x288 with 1 Axes>"
      ]
     },
     "metadata": {
      "needs_background": "light"
     },
     "output_type": "display_data"
    },
    {
     "data": {
      "text/plain": [
       "<matplotlib.axes._subplots.AxesSubplot at 0x7f0c2a473750>"
      ]
     },
     "execution_count": 7,
     "metadata": {},
     "output_type": "execute_result"
    },
    {
     "data": {
      "text/plain": [
       "Text(0.5, 1.0, 'kitchen_area')"
      ]
     },
     "execution_count": 7,
     "metadata": {},
     "output_type": "execute_result"
    },
    {
     "data": {
      "image/png": "[encoded data removed]",
      "text/plain": [
       "<Figure size 432x288 with 1 Axes>"
      ]
     },
     "metadata": {
      "needs_background": "light"
     },
     "output_type": "display_data"
    },
    {
     "data": {
      "text/plain": [
       "<matplotlib.axes._subplots.AxesSubplot at 0x7f0c2a39bc10>"
      ]
     },
     "execution_count": 7,
     "metadata": {},
     "output_type": "execute_result"
    },
    {
     "data": {
      "text/plain": [
       "Text(0.5, 1.0, 'balcony')"
      ]
     },
     "execution_count": 7,
     "metadata": {},
     "output_type": "execute_result"
    },
    {
     "data": {
      "image/png": "[encoded data removed]",
      "text/plain": [
       "<Figure size 432x288 with 1 Axes>"
      ]
     },
     "metadata": {
      "needs_background": "light"
     },
     "output_type": "display_data"
    },
    {
     "name": "stdout",
     "output_type": "stream",
     "text": [
      "error occurred.\n"
     ]
    },
    {
     "data": {
      "text/plain": [
       "<matplotlib.axes._subplots.AxesSubplot at 0x7f0c2a34bd90>"
      ]
     },
     "execution_count": 7,
     "metadata": {},
     "output_type": "execute_result"
    },
    {
     "data": {
      "text/plain": [
       "Text(0.5, 1.0, 'airports_nearest')"
      ]
     },
     "execution_count": 7,
     "metadata": {},
     "output_type": "execute_result"
    },
    {
     "data": {
      "image/png": "[encoded data removed]",
      "text/plain": [
       "<Figure size 432x288 with 1 Axes>"
      ]
     },
     "metadata": {
      "needs_background": "light"
     },
     "output_type": "display_data"
    },
    {
     "data": {
      "text/plain": [
       "<matplotlib.axes._subplots.AxesSubplot at 0x7f0c2a337b10>"
      ]
     },
     "execution_count": 7,
     "metadata": {},
     "output_type": "execute_result"
    },
    {
     "data": {
      "text/plain": [
       "Text(0.5, 1.0, 'cityCenters_nearest')"
      ]
     },
     "execution_count": 7,
     "metadata": {},
     "output_type": "execute_result"
    },
    {
     "data": {
      "image/png": "[encoded data removed]",
      "text/plain": [
       "<Figure size 432x288 with 1 Axes>"
      ]
     },
     "metadata": {
      "needs_background": "light"
     },
     "output_type": "display_data"
    },
    {
     "data": {
      "text/plain": [
       "<matplotlib.axes._subplots.AxesSubplot at 0x7f0c2a406bd0>"
      ]
     },
     "execution_count": 7,
     "metadata": {},
     "output_type": "execute_result"
    },
    {
     "data": {
      "text/plain": [
       "Text(0.5, 1.0, 'parks_around3000')"
      ]
     },
     "execution_count": 7,
     "metadata": {},
     "output_type": "execute_result"
    },
    {
     "data": {
      "image/png": "[encoded data removed]",
      "text/plain": [
       "<Figure size 432x288 with 1 Axes>"
      ]
     },
     "metadata": {
      "needs_background": "light"
     },
     "output_type": "display_data"
    },
    {
     "data": {
      "text/plain": [
       "<matplotlib.axes._subplots.AxesSubplot at 0x7f0c50c110d0>"
      ]
     },
     "execution_count": 7,
     "metadata": {},
     "output_type": "execute_result"
    },
    {
     "data": {
      "text/plain": [
       "Text(0.5, 1.0, 'parks_nearest')"
      ]
     },
     "execution_count": 7,
     "metadata": {},
     "output_type": "execute_result"
    },
    {
     "data": {
      "image/png": "[encoded data removed]",
      "text/plain": [
       "<Figure size 432x288 with 1 Axes>"
      ]
     },
     "metadata": {
      "needs_background": "light"
     },
     "output_type": "display_data"
    },
    {
     "data": {
      "text/plain": [
       "<matplotlib.axes._subplots.AxesSubplot at 0x7f0c50bc9fd0>"
      ]
     },
     "execution_count": 7,
     "metadata": {},
     "output_type": "execute_result"
    },
    {
     "data": {
      "text/plain": [
       "Text(0.5, 1.0, 'ponds_around3000')"
      ]
     },
     "execution_count": 7,
     "metadata": {},
     "output_type": "execute_result"
    },
    {
     "data": {
      "image/png": "[encoded data removed]",
      "text/plain": [
       "<Figure size 432x288 with 1 Axes>"
      ]
     },
     "metadata": {
      "needs_background": "light"
     },
     "output_type": "display_data"
    },
    {
     "data": {
      "text/plain": [
       "<matplotlib.axes._subplots.AxesSubplot at 0x7f0c50ba26d0>"
      ]
     },
     "execution_count": 7,
     "metadata": {},
     "output_type": "execute_result"
    },
    {
     "data": {
      "text/plain": [
       "Text(0.5, 1.0, 'ponds_nearest')"
      ]
     },
     "execution_count": 7,
     "metadata": {},
     "output_type": "execute_result"
    },
    {
     "data": {
      "image/png": "[encoded data removed]",
      "text/plain": [
       "<Figure size 432x288 with 1 Axes>"
      ]
     },
     "metadata": {
      "needs_background": "light"
     },
     "output_type": "display_data"
    },
    {
     "data": {
      "text/plain": [
       "<matplotlib.axes._subplots.AxesSubplot at 0x7f0c2a5dd190>"
      ]
     },
     "execution_count": 7,
     "metadata": {},
     "output_type": "execute_result"
    },
    {
     "data": {
      "text/plain": [
       "Text(0.5, 1.0, 'days_exposition')"
      ]
     },
     "execution_count": 7,
     "metadata": {},
     "output_type": "execute_result"
    },
    {
     "data": {
      "image/png": "[encoded data removed]",
      "text/plain": [
       "<Figure size 432x288 with 1 Axes>"
      ]
     },
     "metadata": {
      "needs_background": "light"
     },
     "output_type": "display_data"
    },
    {
     "data": {
      "text/plain": [
       "<matplotlib.axes._subplots.AxesSubplot at 0x7f0c50c3a790>"
      ]
     },
     "execution_count": 7,
     "metadata": {},
     "output_type": "execute_result"
    },
    {
     "data": {
      "text/plain": [
       "Text(0.5, 1.0, 'sq_meter_price')"
      ]
     },
     "execution_count": 7,
     "metadata": {},
     "output_type": "execute_result"
    },
    {
     "data": {
      "image/png": "[encoded data removed]",
      "text/plain": [
       "<Figure size 432x288 with 1 Axes>"
      ]
     },
     "metadata": {
      "needs_background": "light"
     },
     "output_type": "display_data"
    },
    {
     "data": {
      "text/plain": [
       "<matplotlib.axes._subplots.AxesSubplot at 0x7f0c2a3d4e50>"
      ]
     },
     "execution_count": 7,
     "metadata": {},
     "output_type": "execute_result"
    },
    {
     "data": {
      "text/plain": [
       "Text(0.5, 1.0, 'weekday_exposition')"
      ]
     },
     "execution_count": 7,
     "metadata": {},
     "output_type": "execute_result"
    },
    {
     "data": {
      "image/png": "[encoded data removed]",
      "text/plain": [
       "<Figure size 432x288 with 1 Axes>"
      ]
     },
     "metadata": {
      "needs_background": "light"
     },
     "output_type": "display_data"
    },
    {
     "data": {
      "text/plain": [
       "<matplotlib.axes._subplots.AxesSubplot at 0x7f0c50aa0090>"
      ]
     },
     "execution_count": 7,
     "metadata": {},
     "output_type": "execute_result"
    },
    {
     "data": {
      "text/plain": [
       "Text(0.5, 1.0, 'month_exposition')"
      ]
     },
     "execution_count": 7,
     "metadata": {},
     "output_type": "execute_result"
    },
    {
     "data": {
      "image/png": "[encoded data removed]",
      "text/plain": [
       "<Figure size 432x288 with 1 Axes>"
      ]
     },
     "metadata": {
      "needs_background": "light"
     },
     "output_type": "display_data"
    },
    {
     "data": {
      "text/plain": [
       "<matplotlib.axes._subplots.AxesSubplot at 0x7f0c2a51c050>"
      ]
     },
     "execution_count": 7,
     "metadata": {},
     "output_type": "execute_result"
    },
    {
     "data": {
      "text/plain": [
       "Text(0.5, 1.0, 'year_exposition')"
      ]
     },
     "execution_count": 7,
     "metadata": {},
     "output_type": "execute_result"
    },
    {
     "data": {
      "image/png": "[encoded data removed]",
      "text/plain": [
       "<Figure size 432x288 with 1 Axes>"
      ]
     },
     "metadata": {
      "needs_background": "light"
     },
     "output_type": "display_data"
    },
    {
     "name": "stdout",
     "output_type": "stream",
     "text": [
      "error occurred.\n"
     ]
    },
    {
     "data": {
      "text/plain": [
       "<matplotlib.axes._subplots.AxesSubplot at 0x7f0c2a5fef90>"
      ]
     },
     "execution_count": 7,
     "metadata": {},
     "output_type": "execute_result"
    },
    {
     "data": {
      "text/plain": [
       "Text(0.5, 1.0, 'living_area_to_total_ratio')"
      ]
     },
     "execution_count": 7,
     "metadata": {},
     "output_type": "execute_result"
    },
    {
     "data": {
      "image/png": "[encoded data removed]",
      "text/plain": [
       "<Figure size 432x288 with 1 Axes>"
      ]
     },
     "metadata": {
      "needs_background": "light"
     },
     "output_type": "display_data"
    },
    {
     "data": {
      "text/plain": [
       "<matplotlib.axes._subplots.AxesSubplot at 0x7f0c2a57ff50>"
      ]
     },
     "execution_count": 7,
     "metadata": {},
     "output_type": "execute_result"
    },
    {
     "data": {
      "text/plain": [
       "Text(0.5, 1.0, 'kitchen_area_to_total_ratio')"
      ]
     },
     "execution_count": 7,
     "metadata": {},
     "output_type": "execute_result"
    },
    {
     "data": {
      "image/png": "[encoded data removed]",
      "text/plain": [
       "<Figure size 432x288 with 1 Axes>"
      ]
     },
     "metadata": {
      "needs_background": "light"
     },
     "output_type": "display_data"
    }
   ],
   "source": [
    "import seaborn as sns\n",
    "for col in data_na_handled:\n",
    "    try:\n",
    "        sns.boxplot(y = data_na_handled[col])\n",
    "        plt.title(col)\n",
    "        plt.show()\n",
    "    except:\n",
    "        print('error occurred.')\n",
    "        pass\n",
    "# строим ящики с усами для всех колонок, учитывая, что у нас есть колонки с текстом и булевыми значениями\n",
    "# в случае встречи с нечисловым столбцом, цикл выдает ошибку и едет к следующему столбцу\n",
    "\n",
    "   \n",
    "\n",
    "col_outliers = ['last_price', 'total_area', 'rooms', 'ceiling_height', 'floors_total', 'floor', 'cityCenters_nearest', 'days_exposition']\n",
    "data_outlier_handled = data_na_handled.copy()\n",
    "for col2 in col_outliers:\n",
    "    Q1 = data_outlier_handled[col2].quantile(0.25)\n",
    "    Q3 = data_outlier_handled[col2].quantile(0.75)\n",
    "    IQR = Q3 - Q1\n",
    "    data_outlier_handled[col2] = data_outlier_handled[col2].where(data_outlier_handled[col2] <= (Q3 + 1.5*IQR), np.nan)\n",
    "    \n"
   ]
  },
  {
   "cell_type": "code",
   "execution_count": 8,
   "metadata": {},
   "outputs": [
    {
     "data": {
      "text/plain": [
       "count    2.356500e+04\n",
       "mean     6.540058e+06\n",
       "std      1.091093e+07\n",
       "min      1.219000e+04\n",
       "25%      3.400000e+06\n",
       "50%      4.646000e+06\n",
       "75%      6.790000e+06\n",
       "max      7.630000e+08\n",
       "Name: last_price, dtype: float64"
      ]
     },
     "execution_count": 8,
     "metadata": {},
     "output_type": "execute_result"
    },
    {
     "data": {
      "text/plain": [
       "count    2.151900e+04\n",
       "mean     4.837115e+06\n",
       "std      2.215774e+06\n",
       "min      1.219000e+04\n",
       "25%      3.300000e+06\n",
       "50%      4.400000e+06\n",
       "75%      6.000000e+06\n",
       "max      1.186686e+07\n",
       "Name: last_price, dtype: float64"
      ]
     },
     "execution_count": 8,
     "metadata": {},
     "output_type": "execute_result"
    },
    {
     "data": {
      "text/plain": [
       "count    23565.000000\n",
       "mean        60.322824\n",
       "std         35.657060\n",
       "min         12.000000\n",
       "25%         40.000000\n",
       "50%         52.000000\n",
       "75%         69.700000\n",
       "max        900.000000\n",
       "Name: total_area, dtype: float64"
      ]
     },
     "execution_count": 8,
     "metadata": {},
     "output_type": "execute_result"
    },
    {
     "data": {
      "text/plain": [
       "count    22326.000000\n",
       "mean        54.319704\n",
       "std         19.331030\n",
       "min         12.000000\n",
       "25%         39.400000\n",
       "50%         50.000000\n",
       "75%         65.500000\n",
       "max        114.200000\n",
       "Name: total_area, dtype: float64"
      ]
     },
     "execution_count": 8,
     "metadata": {},
     "output_type": "execute_result"
    },
    {
     "data": {
      "text/plain": [
       "count    23565.000000\n",
       "mean         2.070656\n",
       "std          1.078591\n",
       "min          0.000000\n",
       "25%          1.000000\n",
       "50%          2.000000\n",
       "75%          3.000000\n",
       "max         19.000000\n",
       "Name: rooms, dtype: float64"
      ]
     },
     "execution_count": 8,
     "metadata": {},
     "output_type": "execute_result"
    },
    {
     "data": {
      "text/plain": [
       "count    23475.000000\n",
       "mean         2.047796\n",
       "std          1.006547\n",
       "min          0.000000\n",
       "25%          1.000000\n",
       "50%          2.000000\n",
       "75%          3.000000\n",
       "max          6.000000\n",
       "Name: rooms, dtype: float64"
      ]
     },
     "execution_count": 8,
     "metadata": {},
     "output_type": "execute_result"
    },
    {
     "data": {
      "text/plain": [
       "count    23565.000000\n",
       "mean         2.724530\n",
       "std          0.991026\n",
       "min          1.000000\n",
       "25%          2.600000\n",
       "50%          2.650000\n",
       "75%          2.700000\n",
       "max        100.000000\n",
       "Name: ceiling_height, dtype: float64"
      ]
     },
     "execution_count": 8,
     "metadata": {},
     "output_type": "execute_result"
    },
    {
     "data": {
      "text/plain": [
       "count    20660.000000\n",
       "mean         2.630056\n",
       "std          0.084970\n",
       "min          1.000000\n",
       "25%          2.600000\n",
       "50%          2.650000\n",
       "75%          2.650000\n",
       "max          2.850000\n",
       "Name: ceiling_height, dtype: float64"
      ]
     },
     "execution_count": 8,
     "metadata": {},
     "output_type": "execute_result"
    },
    {
     "data": {
      "text/plain": [
       "count    23565.000000\n",
       "mean        10.675875\n",
       "std          6.594823\n",
       "min          1.000000\n",
       "25%          5.000000\n",
       "50%          9.000000\n",
       "75%         16.000000\n",
       "max         60.000000\n",
       "Name: floors_total, dtype: float64"
      ]
     },
     "execution_count": 8,
     "metadata": {},
     "output_type": "execute_result"
    },
    {
     "data": {
      "text/plain": [
       "count    23533.000000\n",
       "mean        10.640930\n",
       "std          6.527996\n",
       "min          1.000000\n",
       "25%          5.000000\n",
       "50%          9.000000\n",
       "75%         16.000000\n",
       "max         29.000000\n",
       "Name: floors_total, dtype: float64"
      ]
     },
     "execution_count": 8,
     "metadata": {},
     "output_type": "execute_result"
    },
    {
     "data": {
      "text/plain": [
       "count    23565.000000\n",
       "mean         5.878124\n",
       "std          4.871485\n",
       "min          1.000000\n",
       "25%          2.000000\n",
       "50%          4.000000\n",
       "75%          8.000000\n",
       "max         33.000000\n",
       "Name: floor, dtype: float64"
      ]
     },
     "execution_count": 8,
     "metadata": {},
     "output_type": "execute_result"
    },
    {
     "data": {
      "text/plain": [
       "count    22663.000000\n",
       "mean         5.276707\n",
       "std          3.870440\n",
       "min          1.000000\n",
       "25%          2.000000\n",
       "50%          4.000000\n",
       "75%          7.000000\n",
       "max         17.000000\n",
       "Name: floor, dtype: float64"
      ]
     },
     "execution_count": 8,
     "metadata": {},
     "output_type": "execute_result"
    },
    {
     "data": {
      "text/plain": [
       "count    18064.000000\n",
       "mean     14192.656056\n",
       "std       8613.348153\n",
       "min        181.000000\n",
       "25%       9238.000000\n",
       "50%      13096.500000\n",
       "75%      16285.000000\n",
       "max      65968.000000\n",
       "Name: cityCenters_nearest, dtype: float64"
      ]
     },
     "execution_count": 8,
     "metadata": {},
     "output_type": "execute_result"
    },
    {
     "data": {
      "text/plain": [
       "count    16342.000000\n",
       "mean     12025.741035\n",
       "std       5161.102668\n",
       "min        181.000000\n",
       "25%       8460.000000\n",
       "50%      12480.000000\n",
       "75%      15328.750000\n",
       "max      26845.000000\n",
       "Name: cityCenters_nearest, dtype: float64"
      ]
     },
     "execution_count": 8,
     "metadata": {},
     "output_type": "execute_result"
    },
    {
     "data": {
      "text/plain": [
       "count    20394.000000\n",
       "mean       180.741395\n",
       "std        219.732782\n",
       "min          1.000000\n",
       "25%         45.000000\n",
       "50%         95.000000\n",
       "75%        231.000000\n",
       "max       1580.000000\n",
       "Name: days_exposition, dtype: float64"
      ]
     },
     "execution_count": 8,
     "metadata": {},
     "output_type": "execute_result"
    },
    {
     "data": {
      "text/plain": [
       "count    18727.000000\n",
       "mean       128.421637\n",
       "std        121.237889\n",
       "min          1.000000\n",
       "25%         41.000000\n",
       "50%         85.000000\n",
       "75%        182.000000\n",
       "max        510.000000\n",
       "Name: days_exposition, dtype: float64"
      ]
     },
     "execution_count": 8,
     "metadata": {},
     "output_type": "execute_result"
    },
    {
     "data": {
      "text/plain": [
       "<matplotlib.axes._subplots.AxesSubplot at 0x7f0c2a2c95d0>"
      ]
     },
     "execution_count": 8,
     "metadata": {},
     "output_type": "execute_result"
    },
    {
     "data": {
      "text/plain": [
       "Text(0.5, 1.0, 'Средние цены за квартиры для категорий этажа расположения')"
      ]
     },
     "execution_count": 8,
     "metadata": {},
     "output_type": "execute_result"
    },
    {
     "data": {
      "image/png": "[encoded data removed]",
      "text/plain": [
       "<Figure size 432x288 with 1 Axes>"
      ]
     },
     "metadata": {
      "needs_background": "light"
     },
     "output_type": "display_data"
    },
    {
     "data": {
      "text/plain": [
       "<matplotlib.axes._subplots.AxesSubplot at 0x7f0c2a525390>"
      ]
     },
     "execution_count": 8,
     "metadata": {},
     "output_type": "execute_result"
    },
    {
     "data": {
      "text/plain": [
       "(4500000, 5000000)"
      ]
     },
     "execution_count": 8,
     "metadata": {},
     "output_type": "execute_result"
    },
    {
     "data": {
      "text/plain": [
       "Text(0.5, 1.0, 'Средние цены за квартиры по дням недели, в которые были опубликованы объявления')"
      ]
     },
     "execution_count": 8,
     "metadata": {},
     "output_type": "execute_result"
    },
    {
     "data": {
      "image/png": "[encoded data removed]",
      "text/plain": [
       "<Figure size 432x288 with 1 Axes>"
      ]
     },
     "metadata": {
      "needs_background": "light"
     },
     "output_type": "display_data"
    },
    {
     "data": {
      "text/plain": [
       "<matplotlib.axes._subplots.AxesSubplot at 0x7f0c2a55dc10>"
      ]
     },
     "execution_count": 8,
     "metadata": {},
     "output_type": "execute_result"
    },
    {
     "data": {
      "text/plain": [
       "(4500000, 5000000)"
      ]
     },
     "execution_count": 8,
     "metadata": {},
     "output_type": "execute_result"
    },
    {
     "data": {
      "text/plain": [
       "Text(0.5, 1.0, 'Средние цены за квартиры по месяцам, в которые были опубликованы объявления')"
      ]
     },
     "execution_count": 8,
     "metadata": {},
     "output_type": "execute_result"
    },
    {
     "data": {
      "image/png": "[encoded data removed]",
      "text/plain": [
       "<Figure size 432x288 with 1 Axes>"
      ]
     },
     "metadata": {
      "needs_background": "light"
     },
     "output_type": "display_data"
    },
    {
     "data": {
      "text/plain": [
       "<matplotlib.axes._subplots.AxesSubplot at 0x7f0c50a58450>"
      ]
     },
     "execution_count": 8,
     "metadata": {},
     "output_type": "execute_result"
    },
    {
     "data": {
      "text/plain": [
       "(4500000, 6000000)"
      ]
     },
     "execution_count": 8,
     "metadata": {},
     "output_type": "execute_result"
    },
    {
     "data": {
      "text/plain": [
       "Text(0.5, 1.0, 'Средние цены за квартиры по годам, в которые были опубликованы объявления')"
      ]
     },
     "execution_count": 8,
     "metadata": {},
     "output_type": "execute_result"
    },
    {
     "data": {
      "image/png": "[encoded data removed]",
      "text/plain": [
       "<Figure size 432x288 with 1 Axes>"
      ]
     },
     "metadata": {
      "needs_background": "light"
     },
     "output_type": "display_data"
    },
    {
     "data": {
      "text/html": [
       "<div>\n",
       "<style scoped>\n",
       "    .dataframe tbody tr th:only-of-type {\n",
       "        vertical-align: middle;\n",
       "    }\n",
       "\n",
       "    .dataframe tbody tr th {\n",
       "        vertical-align: top;\n",
       "    }\n",
       "\n",
       "    .dataframe thead th {\n",
       "        text-align: right;\n",
       "    }\n",
       "</style>\n",
       "<table border=\"1\" class=\"dataframe\">\n",
       "  <thead>\n",
       "    <tr style=\"text-align: right;\">\n",
       "      <th></th>\n",
       "      <th>sq_meter_price</th>\n",
       "    </tr>\n",
       "    <tr>\n",
       "      <th>locality_name</th>\n",
       "      <th></th>\n",
       "    </tr>\n",
       "  </thead>\n",
       "  <tbody>\n",
       "    <tr>\n",
       "      <td>Выборг</td>\n",
       "      <td>58141.489451</td>\n",
       "    </tr>\n",
       "    <tr>\n",
       "      <td>Всеволожск</td>\n",
       "      <td>68654.007538</td>\n",
       "    </tr>\n",
       "    <tr>\n",
       "      <td>Гатчина</td>\n",
       "      <td>68745.693811</td>\n",
       "    </tr>\n",
       "    <tr>\n",
       "      <td>Колпино</td>\n",
       "      <td>75424.150888</td>\n",
       "    </tr>\n",
       "    <tr>\n",
       "      <td>посёлок Шушары</td>\n",
       "      <td>78550.883827</td>\n",
       "    </tr>\n",
       "    <tr>\n",
       "      <td>посёлок Мурино</td>\n",
       "      <td>86040.658703</td>\n",
       "    </tr>\n",
       "    <tr>\n",
       "      <td>посёлок Парголово</td>\n",
       "      <td>90175.489297</td>\n",
       "    </tr>\n",
       "    <tr>\n",
       "      <td>деревня Кудрово</td>\n",
       "      <td>95260.393617</td>\n",
       "    </tr>\n",
       "    <tr>\n",
       "      <td>Пушкин</td>\n",
       "      <td>103125.373984</td>\n",
       "    </tr>\n",
       "    <tr>\n",
       "      <td>Санкт-Петербург</td>\n",
       "      <td>114868.433902</td>\n",
       "    </tr>\n",
       "  </tbody>\n",
       "</table>\n",
       "</div>"
      ],
      "text/plain": [
       "                   sq_meter_price\n",
       "locality_name                    \n",
       "Выборг               58141.489451\n",
       "Всеволожск           68654.007538\n",
       "Гатчина              68745.693811\n",
       "Колпино              75424.150888\n",
       "посёлок Шушары       78550.883827\n",
       "посёлок Мурино       86040.658703\n",
       "посёлок Парголово    90175.489297\n",
       "деревня Кудрово      95260.393617\n",
       "Пушкин              103125.373984\n",
       "Санкт-Петербург     114868.433902"
      ]
     },
     "execution_count": 8,
     "metadata": {},
     "output_type": "execute_result"
    },
    {
     "data": {
      "text/html": [
       "<div>\n",
       "<style scoped>\n",
       "    .dataframe tbody tr th:only-of-type {\n",
       "        vertical-align: middle;\n",
       "    }\n",
       "\n",
       "    .dataframe tbody tr th {\n",
       "        vertical-align: top;\n",
       "    }\n",
       "\n",
       "    .dataframe thead th {\n",
       "        text-align: right;\n",
       "    }\n",
       "</style>\n",
       "<table border=\"1\" class=\"dataframe\">\n",
       "  <thead>\n",
       "    <tr style=\"text-align: right;\">\n",
       "      <th></th>\n",
       "      <th>last_price</th>\n",
       "    </tr>\n",
       "    <tr>\n",
       "      <th>cityCenters_km</th>\n",
       "      <th></th>\n",
       "    </tr>\n",
       "  </thead>\n",
       "  <tbody>\n",
       "    <tr>\n",
       "      <td>0.0</td>\n",
       "      <td>8.398000e+06</td>\n",
       "    </tr>\n",
       "    <tr>\n",
       "      <td>1.0</td>\n",
       "      <td>8.145277e+06</td>\n",
       "    </tr>\n",
       "    <tr>\n",
       "      <td>2.0</td>\n",
       "      <td>7.970519e+06</td>\n",
       "    </tr>\n",
       "    <tr>\n",
       "      <td>3.0</td>\n",
       "      <td>7.350003e+06</td>\n",
       "    </tr>\n",
       "    <tr>\n",
       "      <td>4.0</td>\n",
       "      <td>7.606618e+06</td>\n",
       "    </tr>\n",
       "    <tr>\n",
       "      <td>5.0</td>\n",
       "      <td>7.661225e+06</td>\n",
       "    </tr>\n",
       "    <tr>\n",
       "      <td>6.0</td>\n",
       "      <td>7.096569e+06</td>\n",
       "    </tr>\n",
       "    <tr>\n",
       "      <td>7.0</td>\n",
       "      <td>6.635321e+06</td>\n",
       "    </tr>\n",
       "    <tr>\n",
       "      <td>8.0</td>\n",
       "      <td>6.591220e+06</td>\n",
       "    </tr>\n",
       "    <tr>\n",
       "      <td>9.0</td>\n",
       "      <td>5.517239e+06</td>\n",
       "    </tr>\n",
       "    <tr>\n",
       "      <td>10.0</td>\n",
       "      <td>5.420597e+06</td>\n",
       "    </tr>\n",
       "    <tr>\n",
       "      <td>11.0</td>\n",
       "      <td>5.305264e+06</td>\n",
       "    </tr>\n",
       "    <tr>\n",
       "      <td>12.0</td>\n",
       "      <td>5.291597e+06</td>\n",
       "    </tr>\n",
       "    <tr>\n",
       "      <td>13.0</td>\n",
       "      <td>5.507842e+06</td>\n",
       "    </tr>\n",
       "    <tr>\n",
       "      <td>14.0</td>\n",
       "      <td>5.270937e+06</td>\n",
       "    </tr>\n",
       "    <tr>\n",
       "      <td>15.0</td>\n",
       "      <td>5.280786e+06</td>\n",
       "    </tr>\n",
       "    <tr>\n",
       "      <td>16.0</td>\n",
       "      <td>5.097523e+06</td>\n",
       "    </tr>\n",
       "    <tr>\n",
       "      <td>17.0</td>\n",
       "      <td>4.863789e+06</td>\n",
       "    </tr>\n",
       "    <tr>\n",
       "      <td>18.0</td>\n",
       "      <td>4.707132e+06</td>\n",
       "    </tr>\n",
       "    <tr>\n",
       "      <td>19.0</td>\n",
       "      <td>4.821908e+06</td>\n",
       "    </tr>\n",
       "    <tr>\n",
       "      <td>20.0</td>\n",
       "      <td>5.951465e+06</td>\n",
       "    </tr>\n",
       "    <tr>\n",
       "      <td>21.0</td>\n",
       "      <td>5.493469e+06</td>\n",
       "    </tr>\n",
       "    <tr>\n",
       "      <td>22.0</td>\n",
       "      <td>5.173382e+06</td>\n",
       "    </tr>\n",
       "    <tr>\n",
       "      <td>23.0</td>\n",
       "      <td>4.689843e+06</td>\n",
       "    </tr>\n",
       "    <tr>\n",
       "      <td>24.0</td>\n",
       "      <td>3.854430e+06</td>\n",
       "    </tr>\n",
       "    <tr>\n",
       "      <td>25.0</td>\n",
       "      <td>4.052840e+06</td>\n",
       "    </tr>\n",
       "    <tr>\n",
       "      <td>26.0</td>\n",
       "      <td>4.014287e+06</td>\n",
       "    </tr>\n",
       "  </tbody>\n",
       "</table>\n",
       "</div>"
      ],
      "text/plain": [
       "                  last_price\n",
       "cityCenters_km              \n",
       "0.0             8.398000e+06\n",
       "1.0             8.145277e+06\n",
       "2.0             7.970519e+06\n",
       "3.0             7.350003e+06\n",
       "4.0             7.606618e+06\n",
       "5.0             7.661225e+06\n",
       "6.0             7.096569e+06\n",
       "7.0             6.635321e+06\n",
       "8.0             6.591220e+06\n",
       "9.0             5.517239e+06\n",
       "10.0            5.420597e+06\n",
       "11.0            5.305264e+06\n",
       "12.0            5.291597e+06\n",
       "13.0            5.507842e+06\n",
       "14.0            5.270937e+06\n",
       "15.0            5.280786e+06\n",
       "16.0            5.097523e+06\n",
       "17.0            4.863789e+06\n",
       "18.0            4.707132e+06\n",
       "19.0            4.821908e+06\n",
       "20.0            5.951465e+06\n",
       "21.0            5.493469e+06\n",
       "22.0            5.173382e+06\n",
       "23.0            4.689843e+06\n",
       "24.0            3.854430e+06\n",
       "25.0            4.052840e+06\n",
       "26.0            4.014287e+06"
      ]
     },
     "execution_count": 8,
     "metadata": {},
     "output_type": "execute_result"
    },
    {
     "data": {
      "text/plain": [
       "<matplotlib.axes._subplots.AxesSubplot at 0x7f0c2a38ad90>"
      ]
     },
     "execution_count": 8,
     "metadata": {},
     "output_type": "execute_result"
    },
    {
     "data": {
      "text/plain": [
       "Text(0.5, 1.0, 'Средняя цена за квартиру в СПб в зависимости от удалённости от центра')"
      ]
     },
     "execution_count": 8,
     "metadata": {},
     "output_type": "execute_result"
    },
    {
     "data": {
      "image/png": "[encoded data removed]",
      "text/plain": [
       "<Figure size 864x360 with 1 Axes>"
      ]
     },
     "metadata": {
      "needs_background": "light"
     },
     "output_type": "display_data"
    },
    {
     "data": {
      "text/plain": [
       "<matplotlib.axes._subplots.AxesSubplot at 0x7f0c50c0f110>"
      ]
     },
     "execution_count": 8,
     "metadata": {},
     "output_type": "execute_result"
    },
    {
     "data": {
      "text/plain": [
       "Text(0.5, 1.0, 'Средняя цена за кв.м в СПб в зависимости от удалённости от центра')"
      ]
     },
     "execution_count": 8,
     "metadata": {},
     "output_type": "execute_result"
    },
    {
     "data": {
      "image/png": "[encoded data removed]",
      "text/plain": [
       "<Figure size 864x360 with 1 Axes>"
      ]
     },
     "metadata": {
      "needs_background": "light"
     },
     "output_type": "display_data"
    },
    {
     "data": {
      "text/plain": [
       "<matplotlib.axes._subplots.AxesSubplot at 0x7f0c2a5eff10>"
      ]
     },
     "execution_count": 8,
     "metadata": {},
     "output_type": "execute_result"
    },
    {
     "data": {
      "text/plain": [
       "<matplotlib.axes._subplots.AxesSubplot at 0x7f0c2a4d2250>"
      ]
     },
     "execution_count": 8,
     "metadata": {},
     "output_type": "execute_result"
    },
    {
     "data": {
      "text/plain": [
       "Text(0.5, 0.98, 'Цена/Расстояние от центра (слева в СПб, справа в центре СПб)')"
      ]
     },
     "execution_count": 8,
     "metadata": {},
     "output_type": "execute_result"
    },
    {
     "data": {
      "image/png": "[encoded data removed]",
      "text/plain": [
       "<Figure size 1080x360 with 4 Axes>"
      ]
     },
     "metadata": {
      "needs_background": "light"
     },
     "output_type": "display_data"
    },
    {
     "data": {
      "text/plain": [
       "<matplotlib.axes._subplots.AxesSubplot at 0x7f0c51421750>"
      ]
     },
     "execution_count": 8,
     "metadata": {},
     "output_type": "execute_result"
    },
    {
     "data": {
      "text/plain": [
       "<matplotlib.axes._subplots.AxesSubplot at 0x7f0c2a378090>"
      ]
     },
     "execution_count": 8,
     "metadata": {},
     "output_type": "execute_result"
    },
    {
     "data": {
      "text/plain": [
       "Text(0.5, 0.98, 'Цена/Кол-во дней размещения объявления (слева в СПб, справа в центре СПб)')"
      ]
     },
     "execution_count": 8,
     "metadata": {},
     "output_type": "execute_result"
    },
    {
     "data": {
      "image/png": "[encoded data removed]",
      "text/plain": [
       "<Figure size 1080x360 with 4 Axes>"
      ]
     },
     "metadata": {
      "needs_background": "light"
     },
     "output_type": "display_data"
    },
    {
     "data": {
      "text/plain": [
       "<matplotlib.axes._subplots.AxesSubplot at 0x7f0c289e1710>"
      ]
     },
     "execution_count": 8,
     "metadata": {},
     "output_type": "execute_result"
    },
    {
     "data": {
      "text/plain": [
       "<matplotlib.axes._subplots.AxesSubplot at 0x7f0c2a272dd0>"
      ]
     },
     "execution_count": 8,
     "metadata": {},
     "output_type": "execute_result"
    },
    {
     "data": {
      "text/plain": [
       "Text(0.5, 0.98, 'Цена/Кол-во комнат (слева в СПб, справа в центре СПб)')"
      ]
     },
     "execution_count": 8,
     "metadata": {},
     "output_type": "execute_result"
    },
    {
     "data": {
      "image/png": "[encoded data removed]",
      "text/plain": [
       "<Figure size 1080x360 with 2 Axes>"
      ]
     },
     "metadata": {
      "needs_background": "light"
     },
     "output_type": "display_data"
    },
    {
     "data": {
      "text/plain": [
       "(5000000, 6000000)"
      ]
     },
     "execution_count": 8,
     "metadata": {},
     "output_type": "execute_result"
    },
    {
     "data": {
      "text/plain": [
       "<matplotlib.axes._subplots.AxesSubplot at 0x7f0c5033f190>"
      ]
     },
     "execution_count": 8,
     "metadata": {},
     "output_type": "execute_result"
    },
    {
     "data": {
      "text/plain": [
       "<matplotlib.axes._subplots.AxesSubplot at 0x7f0c50be0710>"
      ]
     },
     "execution_count": 8,
     "metadata": {},
     "output_type": "execute_result"
    },
    {
     "data": {
      "text/plain": [
       "(6000000, 8500000)"
      ]
     },
     "execution_count": 8,
     "metadata": {},
     "output_type": "execute_result"
    },
    {
     "data": {
      "text/plain": [
       "Text(0.5, 0.98, 'Цена/Этажность (слева в СПб, справа в центре СПб)')"
      ]
     },
     "execution_count": 8,
     "metadata": {},
     "output_type": "execute_result"
    },
    {
     "data": {
      "image/png": "[encoded data removed]",
      "text/plain": [
       "<Figure size 1080x360 with 2 Axes>"
      ]
     },
     "metadata": {
      "needs_background": "light"
     },
     "output_type": "display_data"
    },
    {
     "data": {
      "text/plain": [
       "'Матрица корреляции для СПб в целом'"
      ]
     },
     "execution_count": 8,
     "metadata": {},
     "output_type": "execute_result"
    },
    {
     "data": {
      "text/html": [
       "<div>\n",
       "<style scoped>\n",
       "    .dataframe tbody tr th:only-of-type {\n",
       "        vertical-align: middle;\n",
       "    }\n",
       "\n",
       "    .dataframe tbody tr th {\n",
       "        vertical-align: top;\n",
       "    }\n",
       "\n",
       "    .dataframe thead th {\n",
       "        text-align: right;\n",
       "    }\n",
       "</style>\n",
       "<table border=\"1\" class=\"dataframe\">\n",
       "  <thead>\n",
       "    <tr style=\"text-align: right;\">\n",
       "      <th></th>\n",
       "      <th>last_price</th>\n",
       "      <th>rooms</th>\n",
       "      <th>cityCenters_nearest</th>\n",
       "      <th>days_exposition</th>\n",
       "      <th>total_area</th>\n",
       "      <th>ceiling_height</th>\n",
       "      <th>sq_meter_price</th>\n",
       "    </tr>\n",
       "  </thead>\n",
       "  <tbody>\n",
       "    <tr>\n",
       "      <td>last_price</td>\n",
       "      <td>1.000000</td>\n",
       "      <td>0.522333</td>\n",
       "      <td>-0.366353</td>\n",
       "      <td>0.093702</td>\n",
       "      <td>0.793355</td>\n",
       "      <td>0.271594</td>\n",
       "      <td>0.373770</td>\n",
       "    </tr>\n",
       "    <tr>\n",
       "      <td>rooms</td>\n",
       "      <td>0.522333</td>\n",
       "      <td>1.000000</td>\n",
       "      <td>-0.282823</td>\n",
       "      <td>0.123489</td>\n",
       "      <td>0.775807</td>\n",
       "      <td>-0.023333</td>\n",
       "      <td>0.024116</td>\n",
       "    </tr>\n",
       "    <tr>\n",
       "      <td>cityCenters_nearest</td>\n",
       "      <td>-0.366353</td>\n",
       "      <td>-0.282823</td>\n",
       "      <td>1.000000</td>\n",
       "      <td>-0.086510</td>\n",
       "      <td>-0.268889</td>\n",
       "      <td>-0.097700</td>\n",
       "      <td>-0.313194</td>\n",
       "    </tr>\n",
       "    <tr>\n",
       "      <td>days_exposition</td>\n",
       "      <td>0.093702</td>\n",
       "      <td>0.123489</td>\n",
       "      <td>-0.086510</td>\n",
       "      <td>1.000000</td>\n",
       "      <td>0.126893</td>\n",
       "      <td>0.037964</td>\n",
       "      <td>0.052707</td>\n",
       "    </tr>\n",
       "    <tr>\n",
       "      <td>total_area</td>\n",
       "      <td>0.793355</td>\n",
       "      <td>0.775807</td>\n",
       "      <td>-0.268889</td>\n",
       "      <td>0.126893</td>\n",
       "      <td>1.000000</td>\n",
       "      <td>0.194862</td>\n",
       "      <td>0.091286</td>\n",
       "    </tr>\n",
       "    <tr>\n",
       "      <td>ceiling_height</td>\n",
       "      <td>0.271594</td>\n",
       "      <td>-0.023333</td>\n",
       "      <td>-0.097700</td>\n",
       "      <td>0.037964</td>\n",
       "      <td>0.194862</td>\n",
       "      <td>1.000000</td>\n",
       "      <td>0.171999</td>\n",
       "    </tr>\n",
       "    <tr>\n",
       "      <td>sq_meter_price</td>\n",
       "      <td>0.373770</td>\n",
       "      <td>0.024116</td>\n",
       "      <td>-0.313194</td>\n",
       "      <td>0.052707</td>\n",
       "      <td>0.091286</td>\n",
       "      <td>0.171999</td>\n",
       "      <td>1.000000</td>\n",
       "    </tr>\n",
       "  </tbody>\n",
       "</table>\n",
       "</div>"
      ],
      "text/plain": [
       "                     last_price     rooms  cityCenters_nearest  \\\n",
       "last_price             1.000000  0.522333            -0.366353   \n",
       "rooms                  0.522333  1.000000            -0.282823   \n",
       "cityCenters_nearest   -0.366353 -0.282823             1.000000   \n",
       "days_exposition        0.093702  0.123489            -0.086510   \n",
       "total_area             0.793355  0.775807            -0.268889   \n",
       "ceiling_height         0.271594 -0.023333            -0.097700   \n",
       "sq_meter_price         0.373770  0.024116            -0.313194   \n",
       "\n",
       "                     days_exposition  total_area  ceiling_height  \\\n",
       "last_price                  0.093702    0.793355        0.271594   \n",
       "rooms                       0.123489    0.775807       -0.023333   \n",
       "cityCenters_nearest        -0.086510   -0.268889       -0.097700   \n",
       "days_exposition             1.000000    0.126893        0.037964   \n",
       "total_area                  0.126893    1.000000        0.194862   \n",
       "ceiling_height              0.037964    0.194862        1.000000   \n",
       "sq_meter_price              0.052707    0.091286        0.171999   \n",
       "\n",
       "                     sq_meter_price  \n",
       "last_price                 0.373770  \n",
       "rooms                      0.024116  \n",
       "cityCenters_nearest       -0.313194  \n",
       "days_exposition            0.052707  \n",
       "total_area                 0.091286  \n",
       "ceiling_height             0.171999  \n",
       "sq_meter_price             1.000000  "
      ]
     },
     "execution_count": 8,
     "metadata": {},
     "output_type": "execute_result"
    },
    {
     "data": {
      "text/plain": [
       "'Матрица корреляции для центра СПб'"
      ]
     },
     "execution_count": 8,
     "metadata": {},
     "output_type": "execute_result"
    },
    {
     "data": {
      "text/html": [
       "<div>\n",
       "<style scoped>\n",
       "    .dataframe tbody tr th:only-of-type {\n",
       "        vertical-align: middle;\n",
       "    }\n",
       "\n",
       "    .dataframe tbody tr th {\n",
       "        vertical-align: top;\n",
       "    }\n",
       "\n",
       "    .dataframe thead th {\n",
       "        text-align: right;\n",
       "    }\n",
       "</style>\n",
       "<table border=\"1\" class=\"dataframe\">\n",
       "  <thead>\n",
       "    <tr style=\"text-align: right;\">\n",
       "      <th></th>\n",
       "      <th>last_price</th>\n",
       "      <th>rooms</th>\n",
       "      <th>cityCenters_nearest</th>\n",
       "      <th>days_exposition</th>\n",
       "      <th>total_area</th>\n",
       "      <th>ceiling_height</th>\n",
       "      <th>sq_meter_price</th>\n",
       "    </tr>\n",
       "  </thead>\n",
       "  <tbody>\n",
       "    <tr>\n",
       "      <td>last_price</td>\n",
       "      <td>1.000000</td>\n",
       "      <td>0.523960</td>\n",
       "      <td>-0.166720</td>\n",
       "      <td>0.069617</td>\n",
       "      <td>0.703177</td>\n",
       "      <td>0.026254</td>\n",
       "      <td>0.117045</td>\n",
       "    </tr>\n",
       "    <tr>\n",
       "      <td>rooms</td>\n",
       "      <td>0.523960</td>\n",
       "      <td>1.000000</td>\n",
       "      <td>-0.072778</td>\n",
       "      <td>0.116098</td>\n",
       "      <td>0.670694</td>\n",
       "      <td>0.062195</td>\n",
       "      <td>-0.036787</td>\n",
       "    </tr>\n",
       "    <tr>\n",
       "      <td>cityCenters_nearest</td>\n",
       "      <td>-0.166720</td>\n",
       "      <td>-0.072778</td>\n",
       "      <td>1.000000</td>\n",
       "      <td>-0.029225</td>\n",
       "      <td>-0.072627</td>\n",
       "      <td>0.027269</td>\n",
       "      <td>-0.193144</td>\n",
       "    </tr>\n",
       "    <tr>\n",
       "      <td>days_exposition</td>\n",
       "      <td>0.069617</td>\n",
       "      <td>0.116098</td>\n",
       "      <td>-0.029225</td>\n",
       "      <td>1.000000</td>\n",
       "      <td>0.104339</td>\n",
       "      <td>-0.106500</td>\n",
       "      <td>0.064020</td>\n",
       "    </tr>\n",
       "    <tr>\n",
       "      <td>total_area</td>\n",
       "      <td>0.703177</td>\n",
       "      <td>0.670694</td>\n",
       "      <td>-0.072627</td>\n",
       "      <td>0.104339</td>\n",
       "      <td>1.000000</td>\n",
       "      <td>0.058799</td>\n",
       "      <td>-0.069745</td>\n",
       "    </tr>\n",
       "    <tr>\n",
       "      <td>ceiling_height</td>\n",
       "      <td>0.026254</td>\n",
       "      <td>0.062195</td>\n",
       "      <td>0.027269</td>\n",
       "      <td>-0.106500</td>\n",
       "      <td>0.058799</td>\n",
       "      <td>1.000000</td>\n",
       "      <td>-0.096367</td>\n",
       "    </tr>\n",
       "    <tr>\n",
       "      <td>sq_meter_price</td>\n",
       "      <td>0.117045</td>\n",
       "      <td>-0.036787</td>\n",
       "      <td>-0.193144</td>\n",
       "      <td>0.064020</td>\n",
       "      <td>-0.069745</td>\n",
       "      <td>-0.096367</td>\n",
       "      <td>1.000000</td>\n",
       "    </tr>\n",
       "  </tbody>\n",
       "</table>\n",
       "</div>"
      ],
      "text/plain": [
       "                     last_price     rooms  cityCenters_nearest  \\\n",
       "last_price             1.000000  0.523960            -0.166720   \n",
       "rooms                  0.523960  1.000000            -0.072778   \n",
       "cityCenters_nearest   -0.166720 -0.072778             1.000000   \n",
       "days_exposition        0.069617  0.116098            -0.029225   \n",
       "total_area             0.703177  0.670694            -0.072627   \n",
       "ceiling_height         0.026254  0.062195             0.027269   \n",
       "sq_meter_price         0.117045 -0.036787            -0.193144   \n",
       "\n",
       "                     days_exposition  total_area  ceiling_height  \\\n",
       "last_price                  0.069617    0.703177        0.026254   \n",
       "rooms                       0.116098    0.670694        0.062195   \n",
       "cityCenters_nearest        -0.029225   -0.072627        0.027269   \n",
       "days_exposition             1.000000    0.104339       -0.106500   \n",
       "total_area                  0.104339    1.000000        0.058799   \n",
       "ceiling_height             -0.106500    0.058799        1.000000   \n",
       "sq_meter_price              0.064020   -0.069745       -0.096367   \n",
       "\n",
       "                     sq_meter_price  \n",
       "last_price                 0.117045  \n",
       "rooms                     -0.036787  \n",
       "cityCenters_nearest       -0.193144  \n",
       "days_exposition            0.064020  \n",
       "total_area                -0.069745  \n",
       "ceiling_height            -0.096367  \n",
       "sq_meter_price             1.000000  "
      ]
     },
     "execution_count": 8,
     "metadata": {},
     "output_type": "execute_result"
    },
    {
     "data": {
      "text/plain": [
       "'Статистики для центра СПб'"
      ]
     },
     "execution_count": 8,
     "metadata": {},
     "output_type": "execute_result"
    },
    {
     "data": {
      "text/html": [
       "<div>\n",
       "<style scoped>\n",
       "    .dataframe tbody tr th:only-of-type {\n",
       "        vertical-align: middle;\n",
       "    }\n",
       "\n",
       "    .dataframe tbody tr th {\n",
       "        vertical-align: top;\n",
       "    }\n",
       "\n",
       "    .dataframe thead th {\n",
       "        text-align: right;\n",
       "    }\n",
       "</style>\n",
       "<table border=\"1\" class=\"dataframe\">\n",
       "  <thead>\n",
       "    <tr style=\"text-align: right;\">\n",
       "      <th></th>\n",
       "      <th>last_price</th>\n",
       "      <th>rooms</th>\n",
       "      <th>cityCenters_nearest</th>\n",
       "      <th>days_exposition</th>\n",
       "      <th>total_area</th>\n",
       "      <th>ceiling_height</th>\n",
       "      <th>sq_meter_price</th>\n",
       "    </tr>\n",
       "  </thead>\n",
       "  <tbody>\n",
       "    <tr>\n",
       "      <td>count</td>\n",
       "      <td>5.390000e+02</td>\n",
       "      <td>851.000000</td>\n",
       "      <td>877.000000</td>\n",
       "      <td>607.000000</td>\n",
       "      <td>648.000000</td>\n",
       "      <td>365.000000</td>\n",
       "      <td>8.770000e+02</td>\n",
       "    </tr>\n",
       "    <tr>\n",
       "      <td>mean</td>\n",
       "      <td>7.726842e+06</td>\n",
       "      <td>2.967098</td>\n",
       "      <td>2235.289624</td>\n",
       "      <td>155.080725</td>\n",
       "      <td>73.071235</td>\n",
       "      <td>2.665507</td>\n",
       "      <td>1.503307e+05</td>\n",
       "    </tr>\n",
       "    <tr>\n",
       "      <td>std</td>\n",
       "      <td>2.104626e+06</td>\n",
       "      <td>1.221898</td>\n",
       "      <td>883.004608</td>\n",
       "      <td>135.635280</td>\n",
       "      <td>21.822596</td>\n",
       "      <td>0.065024</td>\n",
       "      <td>1.252391e+05</td>\n",
       "    </tr>\n",
       "    <tr>\n",
       "      <td>min</td>\n",
       "      <td>2.100000e+06</td>\n",
       "      <td>0.000000</td>\n",
       "      <td>181.000000</td>\n",
       "      <td>3.000000</td>\n",
       "      <td>12.000000</td>\n",
       "      <td>2.500000</td>\n",
       "      <td>2.891900e+04</td>\n",
       "    </tr>\n",
       "    <tr>\n",
       "      <td>25%</td>\n",
       "      <td>6.150000e+06</td>\n",
       "      <td>2.000000</td>\n",
       "      <td>1500.000000</td>\n",
       "      <td>54.000000</td>\n",
       "      <td>57.000000</td>\n",
       "      <td>2.650000</td>\n",
       "      <td>9.651000e+04</td>\n",
       "    </tr>\n",
       "    <tr>\n",
       "      <td>50%</td>\n",
       "      <td>7.800000e+06</td>\n",
       "      <td>3.000000</td>\n",
       "      <td>2329.000000</td>\n",
       "      <td>108.000000</td>\n",
       "      <td>73.600000</td>\n",
       "      <td>2.650000</td>\n",
       "      <td>1.173910e+05</td>\n",
       "    </tr>\n",
       "    <tr>\n",
       "      <td>75%</td>\n",
       "      <td>9.300000e+06</td>\n",
       "      <td>4.000000</td>\n",
       "      <td>3062.000000</td>\n",
       "      <td>228.500000</td>\n",
       "      <td>91.000000</td>\n",
       "      <td>2.650000</td>\n",
       "      <td>1.518000e+05</td>\n",
       "    </tr>\n",
       "    <tr>\n",
       "      <td>max</td>\n",
       "      <td>1.184000e+07</td>\n",
       "      <td>6.000000</td>\n",
       "      <td>3498.000000</td>\n",
       "      <td>507.000000</td>\n",
       "      <td>114.200000</td>\n",
       "      <td>2.850000</td>\n",
       "      <td>1.736842e+06</td>\n",
       "    </tr>\n",
       "  </tbody>\n",
       "</table>\n",
       "</div>"
      ],
      "text/plain": [
       "         last_price       rooms  cityCenters_nearest  days_exposition  \\\n",
       "count  5.390000e+02  851.000000           877.000000       607.000000   \n",
       "mean   7.726842e+06    2.967098          2235.289624       155.080725   \n",
       "std    2.104626e+06    1.221898           883.004608       135.635280   \n",
       "min    2.100000e+06    0.000000           181.000000         3.000000   \n",
       "25%    6.150000e+06    2.000000          1500.000000        54.000000   \n",
       "50%    7.800000e+06    3.000000          2329.000000       108.000000   \n",
       "75%    9.300000e+06    4.000000          3062.000000       228.500000   \n",
       "max    1.184000e+07    6.000000          3498.000000       507.000000   \n",
       "\n",
       "       total_area  ceiling_height  sq_meter_price  \n",
       "count  648.000000      365.000000    8.770000e+02  \n",
       "mean    73.071235        2.665507    1.503307e+05  \n",
       "std     21.822596        0.065024    1.252391e+05  \n",
       "min     12.000000        2.500000    2.891900e+04  \n",
       "25%     57.000000        2.650000    9.651000e+04  \n",
       "50%     73.600000        2.650000    1.173910e+05  \n",
       "75%     91.000000        2.650000    1.518000e+05  \n",
       "max    114.200000        2.850000    1.736842e+06  "
      ]
     },
     "execution_count": 8,
     "metadata": {},
     "output_type": "execute_result"
    }
   ],
   "source": [
    "for col3 in col_outliers:\n",
    "    data_na_handled[col3].describe()\n",
    "    data_outlier_handled[col3].describe()\n",
    "# выводим статистические описания старого и нового датасетов (после обрезания усов)\n",
    "\n",
    "#data_na_handled.corr()\n",
    "#data_outlier_handled.corr()\n",
    "# смотрим на матрицы корреляции для исходного и обработанного датасетов\n",
    "\n",
    "data_outlier_handled.pivot_table(index = 'floors_category', values = 'last_price').plot(kind = 'bar')\n",
    "plt.title('Средние цены за квартиры для категорий этажа расположения')\n",
    "plt.show()\n",
    "# Выводим гистограмму средней цены за квартиру в зависимости от категории этажности\n",
    "\n",
    "data_outlier_handled.pivot_table(index = 'weekday_exposition', values = 'last_price').plot(kind = 'bar')\n",
    "plt.ylim([4500000, 5000000])\n",
    "plt.title('Средние цены за квартиры по дням недели, в которые были опубликованы объявления')\n",
    "plt.show()\n",
    "# Выводим гистограмму средней цены за квартиру в зависимости от дня недели, когда опубликовали объявление\n",
    "# По оси У сделали срез поверху, чтобы была виднее разница.\n",
    "\n",
    "data_outlier_handled.pivot_table(index = 'month_exposition', values = 'last_price').plot(kind = 'bar')\n",
    "plt.ylim([4500000, 5000000])\n",
    "plt.title('Средние цены за квартиры по месяцам, в которые были опубликованы объявления')\n",
    "plt.show()\n",
    "# Выводим гистограмму средней цены за квартиру в зависимости от месяца, когда опубликовали объявление\n",
    "# По оси У сделали срез поверху, чтобы была виднее разница.\n",
    "\n",
    "data_outlier_handled.pivot_table(index = 'year_exposition', values = 'last_price').plot(kind = 'bar')\n",
    "plt.ylim([4500000, 6000000])\n",
    "plt.title('Средние цены за квартиры по годам, в которые были опубликованы объявления')\n",
    "plt.show()\n",
    "# Выводим гистограмму средней цены за квартиру в зависимости от года, когда опубликовали объявление\n",
    "# По оси У сделали срез поверху, чтобы была виднее разница.\n",
    "\n",
    "top_10_localities = data_outlier_handled['locality_name'].value_counts().head(10).index.tolist()\n",
    "# записали в переменную список топ-10 населённых пунктов по количеству объявлений\n",
    "data_outlier_handled.query('locality_name in @top_10_localities').pivot_table(index = 'locality_name',values = 'sq_meter_price').sort_values(by = 'sq_meter_price')\n",
    "# сделали сводную таблицу для топ-10 со значениями цены за кв. м, отсортировали по возрастанию\n",
    "\n",
    "spb_data = data_outlier_handled.query('locality_name == \"Санкт-Петербург\"').copy()\n",
    "# Отправили срез с питерскими объявлениями в отдельную переменную\n",
    "spb_data['cityCenters_km'] = (spb_data['cityCenters_nearest'] / 1000).round()\n",
    "# Создали столбец с расстоянием до центра в целых километрах\n",
    "\n",
    "spb_data.pivot_table(index = 'cityCenters_km', values = 'last_price')\n",
    "# сводная табличка, объявления сгруппированы по количеству км от центра,\n",
    "# и посчитана средняя цена за квартиру в каждой группе\n",
    "\n",
    "spb_data.query('(~cityCenters_km.isnull()) & (~last_price.isnull())').pivot_table(index = 'cityCenters_km', values = 'last_price').plot(grid = True, figsize = (12, 5))\n",
    "plt.title('Средняя цена за квартиру в СПб в зависимости от удалённости от центра')\n",
    "plt.show()\n",
    "spb_data.query('(~cityCenters_nearest.isnull()) & (~last_price.isnull())').pivot_table(index = 'cityCenters_km', values = 'sq_meter_price').plot(grid = True, figsize = (12, 5))\n",
    "plt.title('Средняя цена за кв.м в СПб в зависимости от удалённости от центра')\n",
    "plt.show()\n",
    "#pd.plotting.scatter_matrix(spb_data.query('cityCenters_km <=3')[['total_area', 'last_price', 'rooms', 'ceiling_height']], figsize=(10, 5)) \n",
    "#plt.suptitle('Попарные зависимости площади, цены, кол-ва комнат и высоты потолка друг от друга')\n",
    "#plt.show()\n",
    "# Матрица диаграм рассеивания почему-то стала вылезать с ошибкой, вероятно, потому что некоторые данные стали Int\n",
    "\n",
    "fig, (ax1, ax2) = plt.subplots(nrows=1, ncols=2, figsize = (15,5))\n",
    "spb_data.plot(x = 'cityCenters_nearest', y = 'last_price', kind = 'hexbin', gridsize = 20, grid = True, ax = ax1)\n",
    "spb_data.query('cityCenters_km <= 3').plot(x = 'cityCenters_nearest', y = 'last_price', kind = 'hexbin', gridsize = 20, grid = True, ax = ax2)\n",
    "fig.suptitle('Цена/Расстояние от центра (слева в СПб, справа в центре СПб)')\n",
    "plt.show()\n",
    "\n",
    "\n",
    "fig, (ax1, ax2) = plt.subplots(nrows=1, ncols=2, figsize = (15,5))\n",
    "spb_data.plot(x = 'days_exposition', y = 'last_price', kind = 'hexbin', gridsize = 20, grid = True, ax = ax1)\n",
    "spb_data.query('cityCenters_km <= 3').plot(x = 'days_exposition', y = 'last_price', kind = 'hexbin', gridsize = 20, grid = True, ax = ax2)\n",
    "fig.suptitle('Цена/Кол-во дней размещения объявления (слева в СПб, справа в центре СПб)')\n",
    "plt.show()\n",
    "\n",
    "fig, (ax1, ax2) = plt.subplots(nrows=1, ncols=2, figsize = (15,5))\n",
    "spb_data.pivot_table(index = 'rooms', values = 'last_price').plot(kind = 'bar', grid = True, ax = ax1)\n",
    "spb_data.query('cityCenters_km <= 3').pivot_table(index = 'rooms', values = 'last_price').plot(kind = 'bar', grid = True, ax = ax2)\n",
    "fig.suptitle('Цена/Кол-во комнат (слева в СПб, справа в центре СПб)')\n",
    "plt.show()\n",
    "\n",
    "fig, (ax1, ax2) = plt.subplots(nrows=1, ncols=2, figsize = (15,5))\n",
    "ax1.set_ylim([5000000, 6000000])\n",
    "spb_data.pivot_table(index = 'floors_category', values = 'last_price').plot(kind = 'bar', grid = True, ax = ax1)\n",
    "spb_data.query('cityCenters_km <= 3').pivot_table(index = 'floors_category', values = 'last_price').plot(kind = 'bar', grid = True, ax = ax2)\n",
    "ax2.set_ylim([6000000, 8500000])\n",
    "fig.suptitle('Цена/Этажность (слева в СПб, справа в центре СПб)')\n",
    "plt.show()\n",
    "\n",
    "'Матрица корреляции для СПб в целом'\n",
    "spb_data[['last_price', 'rooms', 'cityCenters_nearest', 'days_exposition', 'total_area', 'ceiling_height', 'sq_meter_price']].corr()\n",
    "\"Матрица корреляции для центра СПб\"\n",
    "spb_data.query('cityCenters_km <= 3')[['last_price', 'rooms', 'cityCenters_nearest', 'days_exposition', 'total_area', 'ceiling_height', 'sq_meter_price']].corr()\n",
    "\"Статистики для центра СПб\"\n",
    "spb_data.query('cityCenters_km <= 3')[['last_price', 'rooms', 'cityCenters_nearest', 'days_exposition', 'total_area', 'ceiling_height', 'sq_meter_price']].describe()\n",
    "\n",
    "\n"
   ]
  },
  {
   "cell_type": "code",
   "execution_count": 9,
   "metadata": {},
   "outputs": [
    {
     "data": {
      "text/plain": [
       "<matplotlib.axes._subplots.AxesSubplot at 0x7f0c2a649f50>"
      ]
     },
     "execution_count": 9,
     "metadata": {},
     "output_type": "execute_result"
    },
    {
     "data": {
      "text/plain": [
       "(4500000, 6500000)"
      ]
     },
     "execution_count": 9,
     "metadata": {},
     "output_type": "execute_result"
    },
    {
     "data": {
      "text/plain": [
       "Text(0.5, 1.0, 'Средние цены за квартиры по дням недели, в которые были опубликованы объявления')"
      ]
     },
     "execution_count": 9,
     "metadata": {},
     "output_type": "execute_result"
    },
    {
     "data": {
      "image/png": "[encoded data removed]",
      "text/plain": [
       "<Figure size 432x288 with 1 Axes>"
      ]
     },
     "metadata": {
      "needs_background": "light"
     },
     "output_type": "display_data"
    },
    {
     "data": {
      "text/plain": [
       "<matplotlib.axes._subplots.AxesSubplot at 0x7f0c28996dd0>"
      ]
     },
     "execution_count": 9,
     "metadata": {},
     "output_type": "execute_result"
    },
    {
     "data": {
      "text/plain": [
       "(4500000, 8500000)"
      ]
     },
     "execution_count": 9,
     "metadata": {},
     "output_type": "execute_result"
    },
    {
     "data": {
      "text/plain": [
       "Text(0.5, 1.0, 'Средние цены за квартиры по дням недели, в которые были опубликованы объявления')"
      ]
     },
     "execution_count": 9,
     "metadata": {},
     "output_type": "execute_result"
    },
    {
     "data": {
      "image/png": "[encoded data removed]",
      "text/plain": [
       "<Figure size 432x288 with 1 Axes>"
      ]
     },
     "metadata": {
      "needs_background": "light"
     },
     "output_type": "display_data"
    },
    {
     "data": {
      "text/plain": [
       "<matplotlib.axes._subplots.AxesSubplot at 0x7f0c2a5fe510>"
      ]
     },
     "execution_count": 9,
     "metadata": {},
     "output_type": "execute_result"
    },
    {
     "data": {
      "text/plain": [
       "(4500000, 6500000)"
      ]
     },
     "execution_count": 9,
     "metadata": {},
     "output_type": "execute_result"
    },
    {
     "data": {
      "text/plain": [
       "Text(0.5, 1.0, 'Средние цены за квартиры по месяцам, в которые были опубликованы объявления')"
      ]
     },
     "execution_count": 9,
     "metadata": {},
     "output_type": "execute_result"
    },
    {
     "data": {
      "image/png": "[encoded data removed]",
      "text/plain": [
       "<Figure size 432x288 with 1 Axes>"
      ]
     },
     "metadata": {
      "needs_background": "light"
     },
     "output_type": "display_data"
    },
    {
     "data": {
      "text/plain": [
       "<matplotlib.axes._subplots.AxesSubplot at 0x7f0c2a469390>"
      ]
     },
     "execution_count": 9,
     "metadata": {},
     "output_type": "execute_result"
    },
    {
     "data": {
      "text/plain": [
       "(4500000, 8500000)"
      ]
     },
     "execution_count": 9,
     "metadata": {},
     "output_type": "execute_result"
    },
    {
     "data": {
      "text/plain": [
       "Text(0.5, 1.0, 'Средние цены за квартиры по месяцам, в которые были опубликованы объявления')"
      ]
     },
     "execution_count": 9,
     "metadata": {},
     "output_type": "execute_result"
    },
    {
     "data": {
      "image/png": "[encoded data removed]",
      "text/plain": [
       "<Figure size 432x288 with 1 Axes>"
      ]
     },
     "metadata": {
      "needs_background": "light"
     },
     "output_type": "display_data"
    },
    {
     "data": {
      "text/plain": [
       "<matplotlib.axes._subplots.AxesSubplot at 0x7f0c2a509910>"
      ]
     },
     "execution_count": 9,
     "metadata": {},
     "output_type": "execute_result"
    },
    {
     "data": {
      "text/plain": [
       "(4500000, 6500000)"
      ]
     },
     "execution_count": 9,
     "metadata": {},
     "output_type": "execute_result"
    },
    {
     "data": {
      "text/plain": [
       "Text(0.5, 1.0, 'Средние цены за квартиры по годам, в которые были опубликованы объявления')"
      ]
     },
     "execution_count": 9,
     "metadata": {},
     "output_type": "execute_result"
    },
    {
     "data": {
      "image/png": "[encoded data removed]",
      "text/plain": [
       "<Figure size 432x288 with 1 Axes>"
      ]
     },
     "metadata": {
      "needs_background": "light"
     },
     "output_type": "display_data"
    },
    {
     "data": {
      "text/plain": [
       "<matplotlib.axes._subplots.AxesSubplot at 0x7f0c2a4a9d10>"
      ]
     },
     "execution_count": 9,
     "metadata": {},
     "output_type": "execute_result"
    },
    {
     "data": {
      "text/plain": [
       "(4500000, 8500000)"
      ]
     },
     "execution_count": 9,
     "metadata": {},
     "output_type": "execute_result"
    },
    {
     "data": {
      "text/plain": [
       "Text(0.5, 1.0, 'Средние цены за квартиры по годам, в которые были опубликованы объявления')"
      ]
     },
     "execution_count": 9,
     "metadata": {},
     "output_type": "execute_result"
    },
    {
     "data": {
      "image/png": "[encoded data removed]",
      "text/plain": [
       "<Figure size 432x288 with 1 Axes>"
      ]
     },
     "metadata": {
      "needs_background": "light"
     },
     "output_type": "display_data"
    }
   ],
   "source": [
    "spb_data.pivot_table(index = 'weekday_exposition', values = 'last_price').plot(kind = 'bar')\n",
    "plt.ylim([4500000, 6500000])\n",
    "plt.title('Средние цены за квартиры по дням недели, в которые были опубликованы объявления')\n",
    "plt.show()\n",
    "# Выводим гистограмму средней цены за квартиру в зависимости от дня недели, когда опубликовали объявление\n",
    "# По оси У сделали срез поверху, чтобы была виднее разница.\n",
    "spb_data.query('cityCenters_km <=3').pivot_table(index = 'weekday_exposition', values = 'last_price').plot(kind = 'bar')\n",
    "plt.ylim([4500000, 8500000])\n",
    "plt.title('Средние цены за квартиры по дням недели, в которые были опубликованы объявления')\n",
    "plt.show()\n",
    "# Выводим гистограмму средней цены за квартиру в зависимости от дня недели, когда опубликовали объявление\n",
    "# По оси У сделали срез поверху, чтобы была виднее разница.\n",
    "\n",
    "spb_data.pivot_table(index = 'month_exposition', values = 'last_price').plot(kind = 'bar')\n",
    "plt.ylim([4500000, 6500000])\n",
    "plt.title('Средние цены за квартиры по месяцам, в которые были опубликованы объявления')\n",
    "plt.show()\n",
    "# Выводим гистограмму средней цены за квартиру в зависимости от месяца, когда опубликовали объявление\n",
    "# По оси У сделали срез поверху, чтобы была виднее разница.\n",
    "spb_data.query('cityCenters_km <=3').pivot_table(index = 'month_exposition', values = 'last_price').plot(kind = 'bar')\n",
    "plt.ylim([4500000, 8500000])\n",
    "plt.title('Средние цены за квартиры по месяцам, в которые были опубликованы объявления')\n",
    "plt.show()\n",
    "# Выводим гистограмму средней цены за квартиру в зависимости от месяца, когда опубликовали объявление\n",
    "# По оси У сделали срез поверху, чтобы была виднее разница.\n",
    "\n",
    "spb_data.pivot_table(index = 'year_exposition', values = 'last_price').plot(kind = 'bar')\n",
    "plt.ylim([4500000, 6500000])\n",
    "plt.title('Средние цены за квартиры по годам, в которые были опубликованы объявления')\n",
    "plt.show()\n",
    "# Выводим гистограмму средней цены за квартиру в зависимости от года, когда опубликовали объявление\n",
    "# По оси У сделали срез поверху, чтобы была виднее разница.\n",
    "spb_data.query('cityCenters_km <=3').pivot_table(index = 'year_exposition', values = 'last_price').plot(kind = 'bar')\n",
    "plt.ylim([4500000, 8500000])\n",
    "plt.title('Средние цены за квартиры по годам, в которые были опубликованы объявления')\n",
    "plt.show()\n",
    "# Выводим гистограмму средней цены за квартиру в зависимости от года, когда опубликовали объявление\n",
    "# По оси У сделали срез поверху, чтобы была виднее разница."
   ]
  },
  {
   "cell_type": "markdown",
   "metadata": {},
   "source": [
    "#### Исследовательский анализ датасета\n",
    "##### Площадь, цена, число комнат, высота потолков. \n",
    "1. Гистограмма по общей площади стремится к нормальному распределению, с некоторым сдвигом пика влево. Это довольно правдоподобно, учитывая, что квартиры в 1 и 2 комнаты продают чаще многокомнатных. Выбросы есть, но их не очень много, среднее довольно близко к медиане.\n",
    "2. Распределение цен на квартиры тоже похоже на нормальное, с длинным хвостом справа. Здесь выбросы сильно влияют на статистические характеристики, что не удивительно, максимальная цена аж 763 миллиона. Основная часть объявлений относится к ценовой категории 4-5 млн, сюда как раз и попадают наиболее продаваемые небольшие квартиры.\n",
    "3. Эта же тенденция потверждается и на гистограмме количеств комнат: 1-2 комнаты - самый популярный тип жилья на рынке недвижимости. \n",
    "4. Для высоты потолка вышло интересное распределение. Есть что-то, похожее на нормальное, но потом идет еще маленький пик на 3 метрах. Отсутствие плавности в правой части можно объяснить тем, что в разные годы строительства были общеприняты те или нормы по высоте потолков, и возможно, высоты 2.9 м просто не было среди этих стандартов, поэтому они - редкость. В целом, выглядит тоже правдоподобно, квартиры с 2.6-метровыми потолками у нас в топе. Есть интересное значение в 100 метров - очевидный и невероятный выброс.\n",
    "\n",
    "\n",
    "##### Время продажи квартиры.\n",
    "Если увеличивать количество корзин и масштаб для пиковых значений, видим выдающиеся столбики, особенно выдаётся столбик в районе 45 дней, таких объявлений почти 900 штук! Единственный вариант, который мог бы как-то объяснить такие аномалии и пришёл мне в голову - что 7,30, 45, 60, 90 дней - это какие-то пределы, после которых цена на квартиру может поменяться в невыгодную сторону. Например, если есть фиксация цены на 45 дней, в последний день старой цены происходят ажиотаж и импульсивные покупки.\n",
    "\n",
    "\n",
    "Если смотреть по медиане, обычно на продажу уходит три месяца. Среднее же время при этом составляет полгода, это очень большая разница, очевидно, что выпадающие значения имеют сильное влияние на среднее. \n",
    "\n",
    "Есть квартира, которую купили за один день - питерская двушка по хорошей цене, почему бы и нет. Вопрос только, реально ли утрясти всю бюрократию продажи за один день. Есть квартира, которую продавали 4 с лишним года, это долговато, но таких квартир довольно много. Возможно эти счастливчики собрали комбо антипродажных причин: завысили цену, продают квартиру на 1 этаже, выложили мало или плохие фото и прочие неприятности. Те же, кто продавал за неделю и быстрее - собрали это же комбо наоборот. Ну, или очень хороший риелтор помог. Посмотрим на ящики с усами, вдруг подскажут что-нибудь.\n",
    "\n",
    "\n",
    "##### Редкие и выбивающиеся значения.\n",
    "\n",
    "Построим для всех числовых данных ящики с усами, отберём те, у которых нужно убрать выбросы и редкие значения, те, которые нам понадобятся для исследования. Уберём выбросы у общей площади, расстояния до центра, этажей, количеств комнат, высот потолков, дней размещения объявления, стоимости квартиры. \n",
    "После обрезания выбросов у всех данных уменьшилась разница между медианой и средним. И во всех колонках с большими числами значительно уменьшилось стандартное отклонение, мы сгладили разброс данных.\n",
    "\n",
    "\n",
    "##### Что влияет на стоимость квартиры?\n",
    "\n",
    "Построив матрицу корреляций, можно выявить самые сильные факторы, влияющие на цену. Надеюсь, ничего нелогичного не заметим. Итак, на цену ожидаемо влияют площади (общая, жилая, кухни, и вытекающая из этого стоимость кв.м.) и количество комнат.\n",
    "\n",
    "\n",
    "У всех картографических данных, обозначающих расстояния до полезных объектов, корреляция со знаком минус, пусть и близкая к нулю: дальше парк - ниже цена.\n",
    "\n",
    "После обработки некоторых выбросов, коэффициенты ожидаемых корреляций немного подросли. Можно осторожно надеяться, что \"обрезание\" было сделано не зря.\n",
    "\n",
    "\n",
    "Посмотрим, играет ли роль расположение квартиры на том или ином этаже. Результат оправдал ожидания: первый этаж любят меньше всего, последний на втором месте, но им обоим предпочитают промежуточные этажи, так как у них отсутствуют такие недостатки, как близость подвала/магазина внизу и возможно протекающей крыши/чердака. Потому и цены выше.\n",
    "\n",
    "\n",
    "Посмотрим теперь, а вдруг цена зависит от того, в какой день недели, месяц или год опубликовали объявление? \n",
    "- Понедельник - день тяжёлый, как и тяжелы бывают кошельки тех, кто начинает продавать квартиру с понедельника. В пятницу же цены спадают, это точно как-то связано с коцном рабочей недели.. Продают недельные остатки подешевле? Или может, там больше предложений перед выходными, и все пытаются продать по привлекательной цене.\n",
    "- Апрель и Сентябрь - самые дорогие месяцы. Возможно, потому что зимой и летом продажей занимаются не очень активно, и к весне-осени остаётся мало предложений, люди готовы покупать и подороже.\n",
    "- 2014 год - год серьёзного экономического кризиса, отсюда и сильное падение цен к 2016 году, к 2019 году ситуация со спросом стабилизовалась, цены подняли.\n",
    "\n",
    "\n",
    "##### Топ-10 населённых пунктов в объявлениях. \n",
    "\n",
    "Мы уже выискивали топ-10 населённых пунктов в самом начале проекта, чтобы понять, нет ли дубликатов этих названий. \n",
    "Теперь посмотрим, дорого ли в них поселиться. Ожидаемый максимум за квадратный метр принадлежит Санкт-Петербургу, далее следует город Пушкин, что интересно, ведь, в отличие от идущих следом за ним посёлков и деревень, он находится в некотором отдалении от города. Там дворец и школа Пушкина, видимо, они там и решают все вопросы недвижимости. Дешевле всех квадратный метр среди этих десяти - в городе Выборге. Он очень далеко от Питера, но является довольно крупным городом, вот и затесался в топ-10 среди ближайших деревень.\n",
    "\n",
    "##### Санкт-Петербург. С чего начинается центр?\n",
    "\n",
    "Посмотрим на среднюю цену за квартиру на каждом километре, удаляясь от центра. Вполне закономерное убывание средней цены с нуля километров и далее, но есть некоторый прирост в районе 20 км от центра. Возможно, это такая экологическая зона с малоэтажным жильём комфорт-класса.\n",
    "\n",
    "Определим, что считать центром. Есть очень явный провал в цене на уровне 3 км от центра, но при этом дальше график прилично вырастает. Питер - очень неоднозначный, несимметричный и растянутый город, придётся опереться на свой здравый смысл и этот переломный момент в графике. Можно было бы выбрать 5-6 км от центра, где цена начинает спадать сильнее, но это слишком далеко с обывательской точки зрения. Там точно расположены даже не околоцентральные районы.\n",
    "Пусть будет 3 км.\n",
    "\n",
    "\n",
    "\n",
    "#####  Каковы особенности жилья в центре Петербурга?\n",
    "\n",
    "Посмотрим на матрицу диаграмм рассеивания для цены, общей площади, числа комнат и высоты потолков.\n",
    "\n",
    "- На матрице площадь-цена видно, что меньшая площадь (50-60 квадратов) менее вариативна по цене, по сравнению с большими (ближе к 100 кв м). Данные более кучные. Много представлено вариантов с большой площадью, центр всё-таки.\n",
    "- Площадь-комнаты. Видно, что двушки бывают всякие. 3 и 4 комнаты примерно одинаково разбросаны по площади. Многокомнатные квартиры ожидаемо на верхушке значений площади.\n",
    "- Площадь-потолки. Вертикальные полосочки подтверджают, что есть некий набор высот потолка, который наиболее распространён в наших домах, и есть самая популярная высота в примерно 2.65 метра, очень много квартир самых разных площадей.\n",
    "- Цена-комнаты. Интересно, что двушки могут догонять многокомнатные квартиры по цене. И даже есть немного таких же дорогих однушек. \n",
    "\n",
    "Сравним некоторые зависимости для центра и для города в целом. Матрицы корреляции.\n",
    "\n",
    "- Цена/количество комнат. Цена растёт с увеличением количества комнат, но не линейно: разница между однушкой и двушкой заметнее разницы между 3-хкомнатной и 4-хкомнатной квартирами. Это верно для всех квартир, не только в СПб. Есть некоторое отличие центра - там 5-комнатные в среднем дороже 6-комнатных. Возможно, это какие-то аномалии вмешались в среднее после обрезания данных до центра.\n",
    "- Цена/этажность. Первый этаж сильно дешевле и в городе и в его центре. А вот последний в центре в среднем стоит столько же, сколько и другие этажи. Может, дело в питерских крышах в центре, они - визитная карточка города, и добавляют к цене.\n",
    "- Цена/удалённость от центра. Странно смотреть на удалённость от центра в центре, наверное, уже замылилась голова у студента-аналитика. На диаграмме всего города видно, что самое большое количество объявлений в районе 12-15 км от центра, по цене 4-5 млн. Возможно, это самые густонаселённые спальные районы, там много многоэтажек с типовыми квартирами. На \"центральной\" же диаграме видно, что объявления в основном с \"окраины\" этого самого центра. Это можно объяснить тем, что в самом центральном центре уже почти не осталось жилья, всё переделывают под отели и офисы.\n",
    "- Цена/кол-во дней размещения объявления. Если смотреть по городу в целом, быстрее (в пределах 1-2 месяцев) продаются эконом-варианты по 4 млн, и таких объявлений больше всего. В центре всё продаётся медленнее, по большей части в течение 3х месяцев - 100 дней. На матрице корреляции видно, что такой фактор, как дата размещения (=длительность размещения) не очень коррелирует с ценой, то есть итоговые цены, когда бы изначально не опубликовали объявление, примерно одни и те же.\n",
    "- Цена за квадратный метр сильнее влияет на питерские цены в целом, в отличие от центра города.\n",
    "- Высота потолков - довольно весомый фактор для общегородских цен, в центре корреляция практически нулевая - там наверное везде высокие потолки)\n",
    "\n",
    "\n",
    "Дни недели, месяцы и годы.\n",
    "\n",
    "- По дням недели в городе в целом разброса не наблюдается, есть интересные пики на вт, чт, сб для центра города..\n",
    "- По месяцам любопытно, что апрельский пик цен почти не выражен у города в целом, и явно наблюдается для центра\n",
    "- По годам у города в целом всё идёт плавно, тогда как центральные квартиры в 2016 году взлетели в цене\n",
    "\n",
    "\n",
    "\n",
    "\n",
    "\n",
    "\n",
    "\n",
    "\n",
    "\n",
    "\n"
   ]
  },
  {
   "cell_type": "code",
   "execution_count": 10,
   "metadata": {},
   "outputs": [
    {
     "data": {
      "text/plain": [
       "Index(['total_images', 'last_price', 'total_area', 'first_day_exposition',\n",
       "       'rooms', 'ceiling_height', 'floors_total', 'living_area', 'floor',\n",
       "       'is_apartment', 'studio', 'open_plan', 'kitchen_area', 'balcony',\n",
       "       'locality_name', 'airports_nearest', 'cityCenters_nearest',\n",
       "       'parks_around3000', 'parks_nearest', 'ponds_around3000',\n",
       "       'ponds_nearest', 'days_exposition', 'sq_meter_price',\n",
       "       'weekday_exposition', 'month_exposition', 'year_exposition',\n",
       "       'floors_category', 'living_area_to_total_ratio',\n",
       "       'kitchen_area_to_total_ratio', 'cityCenters_km'],\n",
       "      dtype='object')"
      ]
     },
     "execution_count": 10,
     "metadata": {},
     "output_type": "execute_result"
    }
   ],
   "source": [
    "spb_data.columns"
   ]
  },
  {
   "cell_type": "markdown",
   "metadata": {},
   "source": [
    "### Шаг 5. Общий вывод"
   ]
  },
  {
   "cell_type": "markdown",
   "metadata": {},
   "source": [
    "Стоимость квартиры - очень сложный многофакторный объект. Главное, что удалось вычленить в качестве очень-очень ценообразующих параметров: количество комнат, площадь квартиры, в качестве параметров, влияющихна цену чуть слабее: высота потолков, тип этажа (в центре это первый или все остальные) и удалённость от центра города.\n"
   ]
  },
  {
   "cell_type": "markdown",
   "metadata": {},
   "source": [
    "### Чек-лист готовности проекта\n",
    "\n",
    "Поставьте 'x' в выполненных пунктах. Далее нажмите Shift+Enter."
   ]
  },
  {
   "cell_type": "markdown",
   "metadata": {},
   "source": [
    "- [x]  открыт файл\n",
    "- [x]  файлы изучены (выведены первые строки, метод info())\n",
    "- [x]  определены пропущенные значения\n",
    "- [x]  заполнены пропущенные значения\n",
    "- [x]  есть пояснение, какие пропущенные значения обнаружены\n",
    "- [x]  изменены типы данных\n",
    "- [x]  есть пояснение, в каких столбцах изменены типы и почему\n",
    "- [x]  посчитано и добавлено в таблицу: цена квадратного метра\n",
    "- [x]  посчитано и добавлено в таблицу: день недели, месяц и год публикации объявления\n",
    "- [x]  посчитано и добавлено в таблицу: этаж квартиры; варианты — первый, последний, другой\n",
    "- [x]  посчитано и добавлено в таблицу: соотношение жилой и общей площади, а также отношение площади кухни к общей\n",
    "- [x]  изучены следующие параметры: площадь, цена, число комнат, высота потолков\n",
    "- [x]  построены гистограммы для каждого параметра\n",
    "- [x]  выполнено задание: \"Изучите время продажи квартиры. Постройте гистограмму. Посчитайте среднее и медиану. Опишите, сколько обычно занимает продажа. Когда можно считать, что продажи прошли очень быстро, а когда необычно долго?\"\n",
    "- [x]  выполнено задание: \"Уберите редкие и выбивающиеся значения. Опишите, какие особенности обнаружили.\"\n",
    "- [x]  выполнено задание: \"Какие факторы больше всего влияют на стоимость квартиры? Изучите, зависит ли цена от квадратного метра, числа комнат, этажа (первого или последнего), удалённости от центра. Также изучите зависимость от даты размещения: дня недели, месяца и года. \"Выберите 10 населённых пунктов с наибольшим числом объявлений. Посчитайте среднюю цену квадратного метра в этих населённых пунктах. Выделите населённые пункты с самой высокой и низкой стоимостью жилья. Эти данные можно найти по имени в столбце '*locality_name'*. \"\n",
    "- [x]  выполнено задание: \"Изучите предложения квартир: для каждой квартиры есть информация о расстоянии до центра. Выделите квартиры в Санкт-Петербурге (*'locality_name'*). Ваша задача — выяснить, какая область входит в центр. Создайте столбец с расстоянием до центра в километрах: округлите до целых значений. После этого посчитайте среднюю цену для каждого километра. Постройте график: он должен показывать, как цена зависит от удалённости от центра. Определите границу, где график сильно меняется — это и будет центральная зона. \"\n",
    "- [x]  выполнено задание: \"Выделите сегмент квартир в центре. Проанализируйте эту территорию и изучите следующие параметры: площадь, цена, число комнат, высота потолков. Также выделите факторы, которые влияют на стоимость квартиры (число комнат, этаж, удалённость от центра, дата размещения объявления). Сделайте выводы. Отличаются ли они от общих выводов по всему городу?\"\n",
    "- [x]  в каждом этапе есть выводы\n",
    "- [x]  есть общий вывод"
   ]
  },
  {
   "cell_type": "code",
   "execution_count": null,
   "metadata": {},
   "outputs": [],
   "source": []
  },
  {
   "cell_type": "code",
   "execution_count": null,
   "metadata": {},
   "outputs": [],
   "source": []
  }
 ],
 "metadata": {
  "ExecuteTimeLog": [
   {
    "duration": 1406,
    "start_time": "2021-06-28T12:24:48.731Z"
   },
   {
    "duration": 376,
    "start_time": "2021-06-28T12:24:50.140Z"
   },
   {
    "duration": 11,
    "start_time": "2021-06-28T12:24:50.519Z"
   },
   {
    "duration": 2474,
    "start_time": "2021-06-28T12:24:50.556Z"
   },
   {
    "duration": 28,
    "start_time": "2021-06-28T12:24:53.032Z"
   },
   {
    "duration": 9522,
    "start_time": "2021-06-28T12:24:53.063Z"
   },
   {
    "duration": 3508,
    "start_time": "2021-06-28T12:25:02.588Z"
   },
   {
    "duration": 7145,
    "start_time": "2021-06-28T12:25:06.100Z"
   },
   {
    "duration": 6166,
    "start_time": "2021-06-28T12:25:13.255Z"
   },
   {
    "duration": 2250,
    "start_time": "2021-06-28T12:25:19.424Z"
   },
   {
    "duration": 6,
    "start_time": "2021-06-28T12:25:21.677Z"
   },
   {
    "duration": 2396,
    "start_time": "2021-06-28T12:25:21.686Z"
   },
   {
    "duration": 437,
    "start_time": "2021-06-28T12:25:24.085Z"
   },
   {
    "duration": 1361,
    "start_time": "2021-12-05T14:44:26.139Z"
   },
   {
    "duration": 367,
    "start_time": "2021-12-05T14:44:27.502Z"
   },
   {
    "duration": 11,
    "start_time": "2021-12-05T14:44:27.872Z"
   },
   {
    "duration": 2657,
    "start_time": "2021-12-05T14:44:27.886Z"
   },
   {
    "duration": 14,
    "start_time": "2021-12-05T14:44:30.546Z"
   },
   {
    "duration": 8278,
    "start_time": "2021-12-05T14:44:30.562Z"
   },
   {
    "duration": 2888,
    "start_time": "2021-12-05T14:44:38.843Z"
   },
   {
    "duration": 8406,
    "start_time": "2021-12-05T14:44:41.735Z"
   },
   {
    "duration": 7601,
    "start_time": "2021-12-05T14:44:50.144Z"
   },
   {
    "duration": 2265,
    "start_time": "2021-12-05T14:44:57.747Z"
   },
   {
    "duration": 5,
    "start_time": "2021-12-05T14:45:00.015Z"
   },
   {
    "duration": 2575,
    "start_time": "2021-12-05T14:45:00.030Z"
   },
   {
    "duration": 451,
    "start_time": "2021-12-05T14:45:02.608Z"
   },
   {
    "duration": 1411,
    "start_time": "2021-12-18T08:34:20.316Z"
   },
   {
    "duration": 280,
    "start_time": "2021-12-18T08:34:21.728Z"
   },
   {
    "duration": 7,
    "start_time": "2021-12-18T08:34:22.010Z"
   },
   {
    "duration": 1680,
    "start_time": "2021-12-18T08:34:22.019Z"
   },
   {
    "duration": 9,
    "start_time": "2021-12-18T08:34:23.701Z"
   },
   {
    "duration": 1679,
    "start_time": "2021-12-18T08:34:23.711Z"
   },
   {
    "duration": 4529,
    "start_time": "2021-12-18T08:34:25.392Z"
   },
   {
    "duration": 3862,
    "start_time": "2021-12-18T08:34:29.924Z"
   },
   {
    "duration": 1225,
    "start_time": "2021-12-18T08:34:33.788Z"
   },
   {
    "duration": 4,
    "start_time": "2021-12-18T08:34:35.015Z"
   },
   {
    "duration": 1015,
    "start_time": "2021-12-18T08:40:14.263Z"
   },
   {
    "duration": 245,
    "start_time": "2021-12-18T08:40:15.279Z"
   },
   {
    "duration": 10,
    "start_time": "2021-12-18T08:40:15.526Z"
   },
   {
    "duration": 1542,
    "start_time": "2021-12-18T08:40:15.538Z"
   },
   {
    "duration": 10,
    "start_time": "2021-12-18T08:40:17.082Z"
   },
   {
    "duration": 2135,
    "start_time": "2021-12-18T08:40:17.095Z"
   },
   {
    "duration": 4664,
    "start_time": "2021-12-18T08:40:19.232Z"
   },
   {
    "duration": 4020,
    "start_time": "2021-12-18T08:40:23.898Z"
   },
   {
    "duration": 1265,
    "start_time": "2021-12-18T08:40:27.920Z"
   },
   {
    "duration": 4,
    "start_time": "2021-12-18T08:40:29.187Z"
   }
  ],
  "kernelspec": {
   "display_name": "Python 3",
   "language": "python",
   "name": "python3"
  },
  "language_info": {
   "codemirror_mode": {
    "name": "ipython",
    "version": 3
   },
   "file_extension": ".py",
   "mimetype": "text/x-python",
   "name": "python",
   "nbconvert_exporter": "python",
   "pygments_lexer": "ipython3",
   "version": "3.7.8"
  },
  "toc": {
   "base_numbering": 1,
   "nav_menu": {},
   "number_sections": true,
   "sideBar": true,
   "skip_h1_title": false,
   "title_cell": "Table of Contents",
   "title_sidebar": "Contents",
   "toc_cell": false,
   "toc_position": {},
   "toc_section_display": true,
   "toc_window_display": true
  }
 },
 "nbformat": 4,
 "nbformat_minor": 2
}
