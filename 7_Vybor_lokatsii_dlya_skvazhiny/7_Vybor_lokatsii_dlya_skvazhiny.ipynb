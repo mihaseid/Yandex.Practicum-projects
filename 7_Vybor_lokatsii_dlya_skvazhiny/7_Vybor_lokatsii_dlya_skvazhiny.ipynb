{
 "cells": [
  {
   "cell_type": "markdown",
   "metadata": {},
   "source": [
    "# Выбор локации для скважины"
   ]
  },
  {
   "cell_type": "markdown",
   "metadata": {
    "toc": true
   },
   "source": [
    "<h1>Содержание<span class=\"tocSkip\"></span></h1>\n",
    "<div class=\"toc\"><ul class=\"toc-item\"><li><span><a href=\"#Загрузка-и-подготовка-данных\" data-toc-modified-id=\"Загрузка-и-подготовка-данных-1\"><span class=\"toc-item-num\">1&nbsp;&nbsp;</span>Загрузка и подготовка данных</a></span><ul class=\"toc-item\"><li><span><a href=\"#Загрузка-и-обзор\" data-toc-modified-id=\"Загрузка-и-обзор-1.1\"><span class=\"toc-item-num\">1.1&nbsp;&nbsp;</span>Загрузка и обзор</a></span></li><li><span><a href=\"#Обработка\" data-toc-modified-id=\"Обработка-1.2\"><span class=\"toc-item-num\">1.2&nbsp;&nbsp;</span>Обработка</a></span><ul class=\"toc-item\"><li><span><a href=\"#Удаление-лишних-данных\" data-toc-modified-id=\"Удаление-лишних-данных-1.2.1\"><span class=\"toc-item-num\">1.2.1&nbsp;&nbsp;</span>Удаление лишних данных</a></span></li><li><span><a href=\"#Корреляция-признаков.-Матрица-корреляций-и-диаграммы-рассеяния\" data-toc-modified-id=\"Корреляция-признаков.-Матрица-корреляций-и-диаграммы-рассеяния-1.2.2\"><span class=\"toc-item-num\">1.2.2&nbsp;&nbsp;</span>Корреляция признаков. Матрица корреляций и диаграммы рассеяния</a></span></li><li><span><a href=\"#Разделение-выборки-и-признаков\" data-toc-modified-id=\"Разделение-выборки-и-признаков-1.2.3\"><span class=\"toc-item-num\">1.2.3&nbsp;&nbsp;</span>Разделение выборки и признаков</a></span></li><li><span><a href=\"#Проверка-распределений-на-&quot;нормальность&quot;.-Масштабирование.\" data-toc-modified-id=\"Проверка-распределений-на-&quot;нормальность&quot;.-Масштабирование.-1.2.4\"><span class=\"toc-item-num\">1.2.4&nbsp;&nbsp;</span>Проверка распределений на \"нормальность\". Масштабирование.</a></span></li></ul></li></ul></li><li><span><a href=\"#Обучение-и-проверка-модели\" data-toc-modified-id=\"Обучение-и-проверка-модели-2\"><span class=\"toc-item-num\">2&nbsp;&nbsp;</span>Обучение и проверка модели</a></span><ul class=\"toc-item\"><li><span><a href=\"#Создание-и-обучение-модели-линейной-регрессии.-Предсказания-на-валидационных-выборках\" data-toc-modified-id=\"Создание-и-обучение-модели-линейной-регрессии.-Предсказания-на-валидационных-выборках-2.1\"><span class=\"toc-item-num\">2.1&nbsp;&nbsp;</span>Создание и обучение модели линейной регрессии. Предсказания на валидационных выборках</a></span></li><li><span><a href=\"#Сравнение-предсказаний-и-правильных-ответов-по-среднему.-RMSE-моделей\" data-toc-modified-id=\"Сравнение-предсказаний-и-правильных-ответов-по-среднему.-RMSE-моделей-2.2\"><span class=\"toc-item-num\">2.2&nbsp;&nbsp;</span>Сравнение предсказаний и правильных ответов по среднему. RMSE моделей</a></span></li></ul></li><li><span><a href=\"#Подготовка-к-расчёту-прибыли\" data-toc-modified-id=\"Подготовка-к-расчёту-прибыли-3\"><span class=\"toc-item-num\">3&nbsp;&nbsp;</span>Подготовка к расчёту прибыли</a></span><ul class=\"toc-item\"><li><span><a href=\"#Расчёт-достаточного-для-безубыточной-разработки-объёма-сырья\" data-toc-modified-id=\"Расчёт-достаточного-для-безубыточной-разработки-объёма-сырья-3.1\"><span class=\"toc-item-num\">3.1&nbsp;&nbsp;</span>Расчёт достаточного для безубыточной разработки объёма сырья</a></span></li><li><span><a href=\"#Методика-расчёта-прибыли\" data-toc-modified-id=\"Методика-расчёта-прибыли-3.2\"><span class=\"toc-item-num\">3.2&nbsp;&nbsp;</span>Методика расчёта прибыли</a></span></li></ul></li><li><span><a href=\"#Расчёт-прибыли-и-рисков\" data-toc-modified-id=\"Расчёт-прибыли-и-рисков-4\"><span class=\"toc-item-num\">4&nbsp;&nbsp;</span>Расчёт прибыли и рисков</a></span><ul class=\"toc-item\"><li><span><a href=\"#Расчёт-прибыли-по-всем-скважинам\" data-toc-modified-id=\"Расчёт-прибыли-по-всем-скважинам-4.1\"><span class=\"toc-item-num\">4.1&nbsp;&nbsp;</span>Расчёт прибыли по всем скважинам</a></span></li><li><span><a href=\"#Bootstrap-анализ-на-1000-случайных-выборок-для-вычисления-прибыли-по-регионам\" data-toc-modified-id=\"Bootstrap-анализ-на-1000-случайных-выборок-для-вычисления-прибыли-по-регионам-4.2\"><span class=\"toc-item-num\">4.2&nbsp;&nbsp;</span>Bootstrap анализ на 1000 случайных выборок для вычисления прибыли по регионам</a></span></li><li><span><a href=\"#Оценка-рисков\" data-toc-modified-id=\"Оценка-рисков-4.3\"><span class=\"toc-item-num\">4.3&nbsp;&nbsp;</span>Оценка рисков</a></span></li><li><span><a href=\"#Расчёт-95%-ных-доверительных-интервалов\" data-toc-modified-id=\"Расчёт-95%-ных-доверительных-интервалов-4.4\"><span class=\"toc-item-num\">4.4&nbsp;&nbsp;</span>Расчёт 95%-ных доверительных интервалов</a></span></li></ul></li><li><span><a href=\"#Выводы\" data-toc-modified-id=\"Выводы-5\"><span class=\"toc-item-num\">5&nbsp;&nbsp;</span>Выводы</a></span></li><li><span><a href=\"#Чек-лист-готовности-проекта\" data-toc-modified-id=\"Чек-лист-готовности-проекта-6\"><span class=\"toc-item-num\">6&nbsp;&nbsp;</span>Чек-лист готовности проекта</a></span></li></ul></div>"
   ]
  },
  {
   "cell_type": "markdown",
   "metadata": {},
   "source": [
    "Допустим, вы работаете в добывающей компании «ГлавРосГосНефть». Нужно решить, где бурить новую скважину.\n",
    "\n",
    "Вам предоставлены пробы нефти в трёх регионах: в каждом 10 000 месторождений, где измерили качество нефти и объём её запасов. Постройте модель машинного обучения, которая поможет определить регион, где добыча принесёт наибольшую прибыль. Проанализируйте возможную прибыль и риски техникой *Bootstrap.*\n",
    "\n",
    "Шаги для выбора локации:\n",
    "\n",
    "- В избранном регионе ищут месторождения, для каждого определяют значения признаков;\n",
    "- Строят модель и оценивают объём запасов;\n",
    "- Выбирают месторождения с самым высокими оценками значений. Количество месторождений зависит от бюджета компании и стоимости разработки одной скважины;\n",
    "- Прибыль равна суммарной прибыли отобранных месторождений."
   ]
  },
  {
   "cell_type": "markdown",
   "metadata": {},
   "source": [
    "## Загрузка и подготовка данных"
   ]
  },
  {
   "cell_type": "code",
   "execution_count": 1,
   "metadata": {},
   "outputs": [],
   "source": [
    "# Загрузка необходимых библиотек:\n",
    "    \n",
    "import pandas as pd\n",
    "import numpy as np\n",
    "from sklearn.model_selection import train_test_split\n",
    "from sklearn.preprocessing import StandardScaler\n",
    "from sklearn.linear_model import LinearRegression\n",
    "from sklearn.metrics import mean_squared_error\n",
    "from numpy.random import RandomState\n",
    "import scipy.stats as st"
   ]
  },
  {
   "cell_type": "markdown",
   "metadata": {},
   "source": [
    "Посмотрим на предоставленные нам данные."
   ]
  },
  {
   "cell_type": "markdown",
   "metadata": {},
   "source": [
    "### Загрузка и обзор"
   ]
  },
  {
   "cell_type": "code",
   "execution_count": 2,
   "metadata": {},
   "outputs": [
    {
     "data": {
      "text/html": [
       "<div>\n",
       "<style scoped>\n",
       "    .dataframe tbody tr th:only-of-type {\n",
       "        vertical-align: middle;\n",
       "    }\n",
       "\n",
       "    .dataframe tbody tr th {\n",
       "        vertical-align: top;\n",
       "    }\n",
       "\n",
       "    .dataframe thead th {\n",
       "        text-align: right;\n",
       "    }\n",
       "</style>\n",
       "<table border=\"1\" class=\"dataframe\">\n",
       "  <thead>\n",
       "    <tr style=\"text-align: right;\">\n",
       "      <th></th>\n",
       "      <th>id</th>\n",
       "      <th>f0</th>\n",
       "      <th>f1</th>\n",
       "      <th>f2</th>\n",
       "      <th>product</th>\n",
       "    </tr>\n",
       "  </thead>\n",
       "  <tbody>\n",
       "    <tr>\n",
       "      <td>0</td>\n",
       "      <td>txEyH</td>\n",
       "      <td>0.705745</td>\n",
       "      <td>-0.497823</td>\n",
       "      <td>1.221170</td>\n",
       "      <td>105.280062</td>\n",
       "    </tr>\n",
       "    <tr>\n",
       "      <td>1</td>\n",
       "      <td>2acmU</td>\n",
       "      <td>1.334711</td>\n",
       "      <td>-0.340164</td>\n",
       "      <td>4.365080</td>\n",
       "      <td>73.037750</td>\n",
       "    </tr>\n",
       "    <tr>\n",
       "      <td>2</td>\n",
       "      <td>409Wp</td>\n",
       "      <td>1.022732</td>\n",
       "      <td>0.151990</td>\n",
       "      <td>1.419926</td>\n",
       "      <td>85.265647</td>\n",
       "    </tr>\n",
       "    <tr>\n",
       "      <td>3</td>\n",
       "      <td>iJLyR</td>\n",
       "      <td>-0.032172</td>\n",
       "      <td>0.139033</td>\n",
       "      <td>2.978566</td>\n",
       "      <td>168.620776</td>\n",
       "    </tr>\n",
       "    <tr>\n",
       "      <td>4</td>\n",
       "      <td>Xdl7t</td>\n",
       "      <td>1.988431</td>\n",
       "      <td>0.155413</td>\n",
       "      <td>4.751769</td>\n",
       "      <td>154.036647</td>\n",
       "    </tr>\n",
       "  </tbody>\n",
       "</table>\n",
       "</div>"
      ],
      "text/plain": [
       "      id        f0        f1        f2     product\n",
       "0  txEyH  0.705745 -0.497823  1.221170  105.280062\n",
       "1  2acmU  1.334711 -0.340164  4.365080   73.037750\n",
       "2  409Wp  1.022732  0.151990  1.419926   85.265647\n",
       "3  iJLyR -0.032172  0.139033  2.978566  168.620776\n",
       "4  Xdl7t  1.988431  0.155413  4.751769  154.036647"
      ]
     },
     "metadata": {},
     "output_type": "display_data"
    },
    {
     "name": "stdout",
     "output_type": "stream",
     "text": [
      "<class 'pandas.core.frame.DataFrame'>\n",
      "RangeIndex: 100000 entries, 0 to 99999\n",
      "Data columns (total 5 columns):\n",
      "id         100000 non-null object\n",
      "f0         100000 non-null float64\n",
      "f1         100000 non-null float64\n",
      "f2         100000 non-null float64\n",
      "product    100000 non-null float64\n",
      "dtypes: float64(4), object(1)\n",
      "memory usage: 3.8+ MB\n"
     ]
    },
    {
     "data": {
      "text/plain": [
       "None"
      ]
     },
     "metadata": {},
     "output_type": "display_data"
    },
    {
     "data": {
      "text/html": [
       "<div>\n",
       "<style scoped>\n",
       "    .dataframe tbody tr th:only-of-type {\n",
       "        vertical-align: middle;\n",
       "    }\n",
       "\n",
       "    .dataframe tbody tr th {\n",
       "        vertical-align: top;\n",
       "    }\n",
       "\n",
       "    .dataframe thead th {\n",
       "        text-align: right;\n",
       "    }\n",
       "</style>\n",
       "<table border=\"1\" class=\"dataframe\">\n",
       "  <thead>\n",
       "    <tr style=\"text-align: right;\">\n",
       "      <th></th>\n",
       "      <th>id</th>\n",
       "      <th>f0</th>\n",
       "      <th>f1</th>\n",
       "      <th>f2</th>\n",
       "      <th>product</th>\n",
       "    </tr>\n",
       "  </thead>\n",
       "  <tbody>\n",
       "    <tr>\n",
       "      <td>0</td>\n",
       "      <td>kBEdx</td>\n",
       "      <td>-15.001348</td>\n",
       "      <td>-8.276000</td>\n",
       "      <td>-0.005876</td>\n",
       "      <td>3.179103</td>\n",
       "    </tr>\n",
       "    <tr>\n",
       "      <td>1</td>\n",
       "      <td>62mP7</td>\n",
       "      <td>14.272088</td>\n",
       "      <td>-3.475083</td>\n",
       "      <td>0.999183</td>\n",
       "      <td>26.953261</td>\n",
       "    </tr>\n",
       "    <tr>\n",
       "      <td>2</td>\n",
       "      <td>vyE1P</td>\n",
       "      <td>6.263187</td>\n",
       "      <td>-5.948386</td>\n",
       "      <td>5.001160</td>\n",
       "      <td>134.766305</td>\n",
       "    </tr>\n",
       "    <tr>\n",
       "      <td>3</td>\n",
       "      <td>KcrkZ</td>\n",
       "      <td>-13.081196</td>\n",
       "      <td>-11.506057</td>\n",
       "      <td>4.999415</td>\n",
       "      <td>137.945408</td>\n",
       "    </tr>\n",
       "    <tr>\n",
       "      <td>4</td>\n",
       "      <td>AHL4O</td>\n",
       "      <td>12.702195</td>\n",
       "      <td>-8.147433</td>\n",
       "      <td>5.004363</td>\n",
       "      <td>134.766305</td>\n",
       "    </tr>\n",
       "  </tbody>\n",
       "</table>\n",
       "</div>"
      ],
      "text/plain": [
       "      id         f0         f1        f2     product\n",
       "0  kBEdx -15.001348  -8.276000 -0.005876    3.179103\n",
       "1  62mP7  14.272088  -3.475083  0.999183   26.953261\n",
       "2  vyE1P   6.263187  -5.948386  5.001160  134.766305\n",
       "3  KcrkZ -13.081196 -11.506057  4.999415  137.945408\n",
       "4  AHL4O  12.702195  -8.147433  5.004363  134.766305"
      ]
     },
     "metadata": {},
     "output_type": "display_data"
    },
    {
     "name": "stdout",
     "output_type": "stream",
     "text": [
      "<class 'pandas.core.frame.DataFrame'>\n",
      "RangeIndex: 100000 entries, 0 to 99999\n",
      "Data columns (total 5 columns):\n",
      "id         100000 non-null object\n",
      "f0         100000 non-null float64\n",
      "f1         100000 non-null float64\n",
      "f2         100000 non-null float64\n",
      "product    100000 non-null float64\n",
      "dtypes: float64(4), object(1)\n",
      "memory usage: 3.8+ MB\n"
     ]
    },
    {
     "data": {
      "text/plain": [
       "None"
      ]
     },
     "metadata": {},
     "output_type": "display_data"
    },
    {
     "data": {
      "text/html": [
       "<div>\n",
       "<style scoped>\n",
       "    .dataframe tbody tr th:only-of-type {\n",
       "        vertical-align: middle;\n",
       "    }\n",
       "\n",
       "    .dataframe tbody tr th {\n",
       "        vertical-align: top;\n",
       "    }\n",
       "\n",
       "    .dataframe thead th {\n",
       "        text-align: right;\n",
       "    }\n",
       "</style>\n",
       "<table border=\"1\" class=\"dataframe\">\n",
       "  <thead>\n",
       "    <tr style=\"text-align: right;\">\n",
       "      <th></th>\n",
       "      <th>id</th>\n",
       "      <th>f0</th>\n",
       "      <th>f1</th>\n",
       "      <th>f2</th>\n",
       "      <th>product</th>\n",
       "    </tr>\n",
       "  </thead>\n",
       "  <tbody>\n",
       "    <tr>\n",
       "      <td>0</td>\n",
       "      <td>fwXo0</td>\n",
       "      <td>-1.146987</td>\n",
       "      <td>0.963328</td>\n",
       "      <td>-0.828965</td>\n",
       "      <td>27.758673</td>\n",
       "    </tr>\n",
       "    <tr>\n",
       "      <td>1</td>\n",
       "      <td>WJtFt</td>\n",
       "      <td>0.262778</td>\n",
       "      <td>0.269839</td>\n",
       "      <td>-2.530187</td>\n",
       "      <td>56.069697</td>\n",
       "    </tr>\n",
       "    <tr>\n",
       "      <td>2</td>\n",
       "      <td>ovLUW</td>\n",
       "      <td>0.194587</td>\n",
       "      <td>0.289035</td>\n",
       "      <td>-5.586433</td>\n",
       "      <td>62.871910</td>\n",
       "    </tr>\n",
       "    <tr>\n",
       "      <td>3</td>\n",
       "      <td>q6cA6</td>\n",
       "      <td>2.236060</td>\n",
       "      <td>-0.553760</td>\n",
       "      <td>0.930038</td>\n",
       "      <td>114.572842</td>\n",
       "    </tr>\n",
       "    <tr>\n",
       "      <td>4</td>\n",
       "      <td>WPMUX</td>\n",
       "      <td>-0.515993</td>\n",
       "      <td>1.716266</td>\n",
       "      <td>5.899011</td>\n",
       "      <td>149.600746</td>\n",
       "    </tr>\n",
       "  </tbody>\n",
       "</table>\n",
       "</div>"
      ],
      "text/plain": [
       "      id        f0        f1        f2     product\n",
       "0  fwXo0 -1.146987  0.963328 -0.828965   27.758673\n",
       "1  WJtFt  0.262778  0.269839 -2.530187   56.069697\n",
       "2  ovLUW  0.194587  0.289035 -5.586433   62.871910\n",
       "3  q6cA6  2.236060 -0.553760  0.930038  114.572842\n",
       "4  WPMUX -0.515993  1.716266  5.899011  149.600746"
      ]
     },
     "metadata": {},
     "output_type": "display_data"
    },
    {
     "name": "stdout",
     "output_type": "stream",
     "text": [
      "<class 'pandas.core.frame.DataFrame'>\n",
      "RangeIndex: 100000 entries, 0 to 99999\n",
      "Data columns (total 5 columns):\n",
      "id         100000 non-null object\n",
      "f0         100000 non-null float64\n",
      "f1         100000 non-null float64\n",
      "f2         100000 non-null float64\n",
      "product    100000 non-null float64\n",
      "dtypes: float64(4), object(1)\n",
      "memory usage: 3.8+ MB\n"
     ]
    },
    {
     "data": {
      "text/plain": [
       "None"
      ]
     },
     "metadata": {},
     "output_type": "display_data"
    }
   ],
   "source": [
    "data0 = pd.read_csv('/datasets/geo_data_0.csv')\n",
    "data1 = pd.read_csv('/datasets/geo_data_1.csv')\n",
    "data2 = pd.read_csv('/datasets/geo_data_2.csv')\n",
    "display(data0.head())\n",
    "display(data0.info())\n",
    "display(data1.head())\n",
    "display(data1.info())\n",
    "display(data2.head())\n",
    "display(data2.info())"
   ]
  },
  {
   "cell_type": "markdown",
   "metadata": {},
   "source": [
    "### Обработка"
   ]
  },
  {
   "cell_type": "markdown",
   "metadata": {},
   "source": [
    "Все три датасета идентичные по своему образу и подобию. Во всех трёх отсутствуют пропуски, и вроде бы всё в порядке с типами данных. Из простейших подготовительных процедур нам остаётся только посмотреть на сами признаки."
   ]
  },
  {
   "cell_type": "markdown",
   "metadata": {},
   "source": [
    "#### Удаление лишних данных"
   ]
  },
  {
   "cell_type": "markdown",
   "metadata": {},
   "source": [
    "Есть колонка с индентификаторами, она вряд ли будет полезна при машинном обучении, ведь у нас остаются индексы, а конкретные имена (а это даже не имена, а шифры) мы вычислять не будем. Поэтому предлагается удалить во всех табличках столбцы с ID."
   ]
  },
  {
   "cell_type": "code",
   "execution_count": 3,
   "metadata": {},
   "outputs": [],
   "source": [
    "data0 = data0.drop('id', axis=1)\n",
    "data1 = data1.drop('id', axis=1)\n",
    "data2 = data2.drop('id', axis=1)"
   ]
  },
  {
   "cell_type": "markdown",
   "metadata": {},
   "source": [
    "#### Корреляция признаков. Матрица корреляций и диаграммы рассеяния"
   ]
  },
  {
   "cell_type": "markdown",
   "metadata": {},
   "source": [
    "Посмотрим ещё на взаимосвязь оставшихся признаков в табличке корреляций и на диаграммах рассеяния"
   ]
  },
  {
   "cell_type": "code",
   "execution_count": 4,
   "metadata": {},
   "outputs": [
    {
     "data": {
      "text/html": [
       "<style  type=\"text/css\" >\n",
       "    #T_62413f38_573b_11ec_a46d_02420a3905b6row0_col0 {\n",
       "            background-color:  #2d004b;\n",
       "            color:  #f1f1f1;\n",
       "        }    #T_62413f38_573b_11ec_a46d_02420a3905b6row0_col1 {\n",
       "            background-color:  #7f3b08;\n",
       "            color:  #f1f1f1;\n",
       "        }    #T_62413f38_573b_11ec_a46d_02420a3905b6row0_col2 {\n",
       "            background-color:  #7f3b08;\n",
       "            color:  #f1f1f1;\n",
       "        }    #T_62413f38_573b_11ec_a46d_02420a3905b6row1_col0 {\n",
       "            background-color:  #7f3b08;\n",
       "            color:  #f1f1f1;\n",
       "        }    #T_62413f38_573b_11ec_a46d_02420a3905b6row1_col1 {\n",
       "            background-color:  #2d004b;\n",
       "            color:  #f1f1f1;\n",
       "        }    #T_62413f38_573b_11ec_a46d_02420a3905b6row1_col2 {\n",
       "            background-color:  #813c08;\n",
       "            color:  #f1f1f1;\n",
       "        }    #T_62413f38_573b_11ec_a46d_02420a3905b6row2_col0 {\n",
       "            background-color:  #fdb965;\n",
       "            color:  #000000;\n",
       "        }    #T_62413f38_573b_11ec_a46d_02420a3905b6row2_col1 {\n",
       "            background-color:  #fdba68;\n",
       "            color:  #000000;\n",
       "        }    #T_62413f38_573b_11ec_a46d_02420a3905b6row2_col2 {\n",
       "            background-color:  #2d004b;\n",
       "            color:  #f1f1f1;\n",
       "        }</style><table id=\"T_62413f38_573b_11ec_a46d_02420a3905b6\" ><thead>    <tr>        <th class=\"blank level0\" ></th>        <th class=\"col_heading level0 col0\" >f0</th>        <th class=\"col_heading level0 col1\" >f1</th>        <th class=\"col_heading level0 col2\" >f2</th>    </tr></thead><tbody>\n",
       "                <tr>\n",
       "                        <th id=\"T_62413f38_573b_11ec_a46d_02420a3905b6level0_row0\" class=\"row_heading level0 row0\" >f0</th>\n",
       "                        <td id=\"T_62413f38_573b_11ec_a46d_02420a3905b6row0_col0\" class=\"data row0 col0\" >1</td>\n",
       "                        <td id=\"T_62413f38_573b_11ec_a46d_02420a3905b6row0_col1\" class=\"data row0 col1\" >-0.440723</td>\n",
       "                        <td id=\"T_62413f38_573b_11ec_a46d_02420a3905b6row0_col2\" class=\"data row0 col2\" >-0.00315334</td>\n",
       "            </tr>\n",
       "            <tr>\n",
       "                        <th id=\"T_62413f38_573b_11ec_a46d_02420a3905b6level0_row1\" class=\"row_heading level0 row1\" >f1</th>\n",
       "                        <td id=\"T_62413f38_573b_11ec_a46d_02420a3905b6row1_col0\" class=\"data row1 col0\" >-0.440723</td>\n",
       "                        <td id=\"T_62413f38_573b_11ec_a46d_02420a3905b6row1_col1\" class=\"data row1 col1\" >1</td>\n",
       "                        <td id=\"T_62413f38_573b_11ec_a46d_02420a3905b6row1_col2\" class=\"data row1 col2\" >0.00172443</td>\n",
       "            </tr>\n",
       "            <tr>\n",
       "                        <th id=\"T_62413f38_573b_11ec_a46d_02420a3905b6level0_row2\" class=\"row_heading level0 row2\" >f2</th>\n",
       "                        <td id=\"T_62413f38_573b_11ec_a46d_02420a3905b6row2_col0\" class=\"data row2 col0\" >-0.00315334</td>\n",
       "                        <td id=\"T_62413f38_573b_11ec_a46d_02420a3905b6row2_col1\" class=\"data row2 col1\" >0.00172443</td>\n",
       "                        <td id=\"T_62413f38_573b_11ec_a46d_02420a3905b6row2_col2\" class=\"data row2 col2\" >1</td>\n",
       "            </tr>\n",
       "    </tbody></table>"
      ],
      "text/plain": [
       "<pandas.io.formats.style.Styler at 0x7efe44169a50>"
      ]
     },
     "metadata": {},
     "output_type": "display_data"
    },
    {
     "data": {
      "text/html": [
       "<style  type=\"text/css\" >\n",
       "    #T_6243db08_573b_11ec_a46d_02420a3905b6row0_col0 {\n",
       "            background-color:  #014636;\n",
       "            color:  #f1f1f1;\n",
       "        }    #T_6243db08_573b_11ec_a46d_02420a3905b6row0_col1 {\n",
       "            background-color:  #dfdaeb;\n",
       "            color:  #000000;\n",
       "        }    #T_6243db08_573b_11ec_a46d_02420a3905b6row0_col2 {\n",
       "            background-color:  #fff7fb;\n",
       "            color:  #000000;\n",
       "        }    #T_6243db08_573b_11ec_a46d_02420a3905b6row1_col0 {\n",
       "            background-color:  #dfdaeb;\n",
       "            color:  #000000;\n",
       "        }    #T_6243db08_573b_11ec_a46d_02420a3905b6row1_col1 {\n",
       "            background-color:  #014636;\n",
       "            color:  #f1f1f1;\n",
       "        }    #T_6243db08_573b_11ec_a46d_02420a3905b6row1_col2 {\n",
       "            background-color:  #fff7fb;\n",
       "            color:  #000000;\n",
       "        }    #T_6243db08_573b_11ec_a46d_02420a3905b6row2_col0 {\n",
       "            background-color:  #fff7fb;\n",
       "            color:  #000000;\n",
       "        }    #T_6243db08_573b_11ec_a46d_02420a3905b6row2_col1 {\n",
       "            background-color:  #fff7fb;\n",
       "            color:  #000000;\n",
       "        }    #T_6243db08_573b_11ec_a46d_02420a3905b6row2_col2 {\n",
       "            background-color:  #014636;\n",
       "            color:  #f1f1f1;\n",
       "        }</style><table id=\"T_6243db08_573b_11ec_a46d_02420a3905b6\" ><thead>    <tr>        <th class=\"blank level0\" ></th>        <th class=\"col_heading level0 col0\" >f0</th>        <th class=\"col_heading level0 col1\" >f1</th>        <th class=\"col_heading level0 col2\" >f2</th>    </tr></thead><tbody>\n",
       "                <tr>\n",
       "                        <th id=\"T_6243db08_573b_11ec_a46d_02420a3905b6level0_row0\" class=\"row_heading level0 row0\" >f0</th>\n",
       "                        <td id=\"T_6243db08_573b_11ec_a46d_02420a3905b6row0_col0\" class=\"data row0 col0\" >1</td>\n",
       "                        <td id=\"T_6243db08_573b_11ec_a46d_02420a3905b6row0_col1\" class=\"data row0 col1\" >0.182287</td>\n",
       "                        <td id=\"T_6243db08_573b_11ec_a46d_02420a3905b6row0_col2\" class=\"data row0 col2\" >-0.00177704</td>\n",
       "            </tr>\n",
       "            <tr>\n",
       "                        <th id=\"T_6243db08_573b_11ec_a46d_02420a3905b6level0_row1\" class=\"row_heading level0 row1\" >f1</th>\n",
       "                        <td id=\"T_6243db08_573b_11ec_a46d_02420a3905b6row1_col0\" class=\"data row1 col0\" >0.182287</td>\n",
       "                        <td id=\"T_6243db08_573b_11ec_a46d_02420a3905b6row1_col1\" class=\"data row1 col1\" >1</td>\n",
       "                        <td id=\"T_6243db08_573b_11ec_a46d_02420a3905b6row1_col2\" class=\"data row1 col2\" >-0.00259532</td>\n",
       "            </tr>\n",
       "            <tr>\n",
       "                        <th id=\"T_6243db08_573b_11ec_a46d_02420a3905b6level0_row2\" class=\"row_heading level0 row2\" >f2</th>\n",
       "                        <td id=\"T_6243db08_573b_11ec_a46d_02420a3905b6row2_col0\" class=\"data row2 col0\" >-0.00177704</td>\n",
       "                        <td id=\"T_6243db08_573b_11ec_a46d_02420a3905b6row2_col1\" class=\"data row2 col1\" >-0.00259532</td>\n",
       "                        <td id=\"T_6243db08_573b_11ec_a46d_02420a3905b6row2_col2\" class=\"data row2 col2\" >1</td>\n",
       "            </tr>\n",
       "    </tbody></table>"
      ],
      "text/plain": [
       "<pandas.io.formats.style.Styler at 0x7efdbfd939d0>"
      ]
     },
     "metadata": {},
     "output_type": "display_data"
    },
    {
     "data": {
      "text/html": [
       "<style  type=\"text/css\" >\n",
       "    #T_6245b2ca_573b_11ec_a46d_02420a3905b6row0_col0 {\n",
       "            background-color:  #800026;\n",
       "            color:  #f1f1f1;\n",
       "        }    #T_6245b2ca_573b_11ec_a46d_02420a3905b6row0_col1 {\n",
       "            background-color:  #ffffcc;\n",
       "            color:  #000000;\n",
       "        }    #T_6245b2ca_573b_11ec_a46d_02420a3905b6row0_col2 {\n",
       "            background-color:  #ffffcc;\n",
       "            color:  #000000;\n",
       "        }    #T_6245b2ca_573b_11ec_a46d_02420a3905b6row1_col0 {\n",
       "            background-color:  #ffffcc;\n",
       "            color:  #000000;\n",
       "        }    #T_6245b2ca_573b_11ec_a46d_02420a3905b6row1_col1 {\n",
       "            background-color:  #800026;\n",
       "            color:  #f1f1f1;\n",
       "        }    #T_6245b2ca_573b_11ec_a46d_02420a3905b6row1_col2 {\n",
       "            background-color:  #ffffcc;\n",
       "            color:  #000000;\n",
       "        }    #T_6245b2ca_573b_11ec_a46d_02420a3905b6row2_col0 {\n",
       "            background-color:  #ffffcc;\n",
       "            color:  #000000;\n",
       "        }    #T_6245b2ca_573b_11ec_a46d_02420a3905b6row2_col1 {\n",
       "            background-color:  #ffffcc;\n",
       "            color:  #000000;\n",
       "        }    #T_6245b2ca_573b_11ec_a46d_02420a3905b6row2_col2 {\n",
       "            background-color:  #800026;\n",
       "            color:  #f1f1f1;\n",
       "        }</style><table id=\"T_6245b2ca_573b_11ec_a46d_02420a3905b6\" ><thead>    <tr>        <th class=\"blank level0\" ></th>        <th class=\"col_heading level0 col0\" >f0</th>        <th class=\"col_heading level0 col1\" >f1</th>        <th class=\"col_heading level0 col2\" >f2</th>    </tr></thead><tbody>\n",
       "                <tr>\n",
       "                        <th id=\"T_6245b2ca_573b_11ec_a46d_02420a3905b6level0_row0\" class=\"row_heading level0 row0\" >f0</th>\n",
       "                        <td id=\"T_6245b2ca_573b_11ec_a46d_02420a3905b6row0_col0\" class=\"data row0 col0\" >1</td>\n",
       "                        <td id=\"T_6245b2ca_573b_11ec_a46d_02420a3905b6row0_col1\" class=\"data row0 col1\" >0.000528283</td>\n",
       "                        <td id=\"T_6245b2ca_573b_11ec_a46d_02420a3905b6row0_col2\" class=\"data row0 col2\" >-0.000448133</td>\n",
       "            </tr>\n",
       "            <tr>\n",
       "                        <th id=\"T_6245b2ca_573b_11ec_a46d_02420a3905b6level0_row1\" class=\"row_heading level0 row1\" >f1</th>\n",
       "                        <td id=\"T_6245b2ca_573b_11ec_a46d_02420a3905b6row1_col0\" class=\"data row1 col0\" >0.000528283</td>\n",
       "                        <td id=\"T_6245b2ca_573b_11ec_a46d_02420a3905b6row1_col1\" class=\"data row1 col1\" >1</td>\n",
       "                        <td id=\"T_6245b2ca_573b_11ec_a46d_02420a3905b6row1_col2\" class=\"data row1 col2\" >0.000778661</td>\n",
       "            </tr>\n",
       "            <tr>\n",
       "                        <th id=\"T_6245b2ca_573b_11ec_a46d_02420a3905b6level0_row2\" class=\"row_heading level0 row2\" >f2</th>\n",
       "                        <td id=\"T_6245b2ca_573b_11ec_a46d_02420a3905b6row2_col0\" class=\"data row2 col0\" >-0.000448133</td>\n",
       "                        <td id=\"T_6245b2ca_573b_11ec_a46d_02420a3905b6row2_col1\" class=\"data row2 col1\" >0.000778661</td>\n",
       "                        <td id=\"T_6245b2ca_573b_11ec_a46d_02420a3905b6row2_col2\" class=\"data row2 col2\" >1</td>\n",
       "            </tr>\n",
       "    </tbody></table>"
      ],
      "text/plain": [
       "<pandas.io.formats.style.Styler at 0x7efdbfc7dd50>"
      ]
     },
     "metadata": {},
     "output_type": "display_data"
    }
   ],
   "source": [
    "corr0 = data0[['f0', 'f1', 'f2']].corr()\n",
    "display(corr0.style.background_gradient(cmap='PuOr'))\n",
    "corr1 = data1[['f0', 'f1', 'f2']].corr()\n",
    "display(corr1.style.background_gradient(cmap='PuBuGn'))\n",
    "corr2 = data2[['f0', 'f1', 'f2']].corr()\n",
    "display(corr2.style.background_gradient(cmap='YlOrRd'))"
   ]
  },
  {
   "cell_type": "markdown",
   "metadata": {},
   "source": [
    "Корреляция практически отсутствует для этих признаков, кроме f0-f1 в первом (нулевом) датасете. Но так как в двух остальных датасетах представлены те же самые признаки, поверим большинству. На всякий случай посмотрим ещё на диаграммы."
   ]
  },
  {
   "cell_type": "code",
   "execution_count": 5,
   "metadata": {},
   "outputs": [
    {
     "data": {
      "text/plain": [
       "array([[<matplotlib.axes._subplots.AxesSubplot object at 0x7efdc06f85d0>,\n",
       "        <matplotlib.axes._subplots.AxesSubplot object at 0x7efe3c978fd0>,\n",
       "        <matplotlib.axes._subplots.AxesSubplot object at 0x7efe3c92bb50>],\n",
       "       [<matplotlib.axes._subplots.AxesSubplot object at 0x7efe3c8e6ed0>,\n",
       "        <matplotlib.axes._subplots.AxesSubplot object at 0x7efe3c917b90>,\n",
       "        <matplotlib.axes._subplots.AxesSubplot object at 0x7efe3c8d7f10>],\n",
       "       [<matplotlib.axes._subplots.AxesSubplot object at 0x7efe3c88bbd0>,\n",
       "        <matplotlib.axes._subplots.AxesSubplot object at 0x7efe3c84bf50>,\n",
       "        <matplotlib.axes._subplots.AxesSubplot object at 0x7efe3c857090>]],\n",
       "      dtype=object)"
      ]
     },
     "execution_count": 5,
     "metadata": {},
     "output_type": "execute_result"
    },
    {
     "data": {
      "image/png": "[encoded data removed]",
      "text/plain": [
       "<Figure size 432x288 with 9 Axes>"
      ]
     },
     "metadata": {
      "needs_background": "light"
     },
     "output_type": "display_data"
    }
   ],
   "source": [
    "pd.plotting.scatter_matrix(data0[['f0', 'f1', 'f2']])"
   ]
  },
  {
   "cell_type": "markdown",
   "metadata": {},
   "source": [
    "Любопытно выгляит график для той самой отрицательной корреляции (-0.44) для Датасета 0, похож на знак параграфа или млечный путь. Как будто значения f0 сгруппированы вокруг двойки, единицы, 0 и -1, при этом f1 не представлен в отрицательных значениях там, где f0 отрицательный, и наоборот - нет единичек там, где большое значение f0. "
   ]
  },
  {
   "cell_type": "code",
   "execution_count": 6,
   "metadata": {},
   "outputs": [
    {
     "data": {
      "text/plain": [
       "array([[<matplotlib.axes._subplots.AxesSubplot object at 0x7efe3c227350>,\n",
       "        <matplotlib.axes._subplots.AxesSubplot object at 0x7efe3c1dd810>,\n",
       "        <matplotlib.axes._subplots.AxesSubplot object at 0x7efe3c205fd0>],\n",
       "       [<matplotlib.axes._subplots.AxesSubplot object at 0x7efddba447d0>,\n",
       "        <matplotlib.axes._subplots.AxesSubplot object at 0x7efddb9f7fd0>,\n",
       "        <matplotlib.axes._subplots.AxesSubplot object at 0x7efddb9b8810>],\n",
       "       [<matplotlib.axes._subplots.AxesSubplot object at 0x7efddb96cc50>,\n",
       "        <matplotlib.axes._subplots.AxesSubplot object at 0x7efddb98cfd0>,\n",
       "        <matplotlib.axes._subplots.AxesSubplot object at 0x7efddb918110>]],\n",
       "      dtype=object)"
      ]
     },
     "execution_count": 6,
     "metadata": {},
     "output_type": "execute_result"
    },
    {
     "data": {
      "image/png": "[encoded data removed]",
      "text/plain": [
       "<Figure size 432x288 with 9 Axes>"
      ]
     },
     "metadata": {
      "needs_background": "light"
     },
     "output_type": "display_data"
    }
   ],
   "source": [
    "pd.plotting.scatter_matrix(data1[['f0', 'f1', 'f2']])"
   ]
  },
  {
   "cell_type": "markdown",
   "metadata": {},
   "source": [
    "Здесь тоже интересно. Полосатые графики показывают, что для признака f2 значения очень близко расположены к целым числам (0, 1, 2, 3, 4, 5)."
   ]
  },
  {
   "cell_type": "code",
   "execution_count": 7,
   "metadata": {},
   "outputs": [
    {
     "data": {
      "text/plain": [
       "array([[<matplotlib.axes._subplots.AxesSubplot object at 0x7efddb840d10>,\n",
       "        <matplotlib.axes._subplots.AxesSubplot object at 0x7efddb7ab990>,\n",
       "        <matplotlib.axes._subplots.AxesSubplot object at 0x7efddb763c50>],\n",
       "       [<matplotlib.axes._subplots.AxesSubplot object at 0x7efddb71a910>,\n",
       "        <matplotlib.axes._subplots.AxesSubplot object at 0x7efddb6d8c90>,\n",
       "        <matplotlib.axes._subplots.AxesSubplot object at 0x7efddb70e950>],\n",
       "       [<matplotlib.axes._subplots.AxesSubplot object at 0x7efddb6ccdd0>,\n",
       "        <matplotlib.axes._subplots.AxesSubplot object at 0x7efddb682990>,\n",
       "        <matplotlib.axes._subplots.AxesSubplot object at 0x7efddb68b510>]],\n",
       "      dtype=object)"
      ]
     },
     "execution_count": 7,
     "metadata": {},
     "output_type": "execute_result"
    },
    {
     "data": {
      "image/png": "[encoded data removed]",
      "text/plain": [
       "<Figure size 432x288 with 9 Axes>"
      ]
     },
     "metadata": {
      "needs_background": "light"
     },
     "output_type": "display_data"
    }
   ],
   "source": [
    "pd.plotting.scatter_matrix(data2[['f0', 'f1', 'f2']])"
   ]
  },
  {
   "cell_type": "markdown",
   "metadata": {},
   "source": [
    " Здесь же не наблюдается каких-то особенностей.\n",
    " \n",
    " Итого: мы видели странности в проявлении признаков f0 и f1 для Датасета 0, и необычное поведение признака f2 в Датасете 2. Так как признаков у нас дефицит, удалять какой-либо из них довольно расточительно, тем более, что они ведут себя странно только в одном датасете из трёх. Во-вторых, такое \"стремление\" к целым числам вполне может быть нормальным явлением для этих признаков (мы этого не знаем из условий задачи). \n",
    " \n",
    " Также мы видим разный разброс данных от датасета к датасету.\n",
    " \n",
    " Предлагается масштабировать эти признаки в рамках каждого датасета, и не считать корреляцию в -0.44 достаточно значимой, чтобы удалять признак."
   ]
  },
  {
   "cell_type": "markdown",
   "metadata": {},
   "source": [
    "#### Разделение выборки и признаков"
   ]
  },
  {
   "cell_type": "markdown",
   "metadata": {},
   "source": [
    "Прежде, чем применять масштабирование, нам нужно отделить мухи от котлет:\n",
    "\n",
    "- Обучающую выборку от валидационной\n",
    "- Целевой признак от характеристик объектов"
   ]
  },
  {
   "cell_type": "code",
   "execution_count": 8,
   "metadata": {},
   "outputs": [
    {
     "name": "stdout",
     "output_type": "stream",
     "text": [
      "Размеры полученных выборок Датасета 0:\n",
      "Обучающая: (75000, 4) \n",
      " Валидационная: (25000, 4) \n",
      "\n",
      "Размеры полученных выборок Датасета 1:\n",
      "Обучающая: (75000, 4) \n",
      " Валидационная: (25000, 4) \n",
      "\n",
      "Размеры полученных выборок Датасета 2:\n",
      "Обучающая: (75000, 4) \n",
      " Валидационная: (25000, 4) \n",
      "\n"
     ]
    }
   ],
   "source": [
    "data0_train, data0_valid = train_test_split(data0, test_size = 0.25, random_state=42)\n",
    "data1_train, data1_valid = train_test_split(data1, test_size = 0.25, random_state=42)\n",
    "data2_train, data2_valid = train_test_split(data2, test_size = 0.25, random_state=42)\n",
    "\n",
    "\n",
    "print(\"Размеры полученных выборок Датасета 0:\")\n",
    "print(\"Обучающая:\", data0_train.shape, '\\n',\n",
    "      \"Валидационная:\", data0_valid.shape, '\\n')\n",
    "print(\"Размеры полученных выборок Датасета 1:\")\n",
    "print(\"Обучающая:\", data1_train.shape, '\\n',\n",
    "      \"Валидационная:\", data1_valid.shape, '\\n')\n",
    "print(\"Размеры полученных выборок Датасета 2:\")\n",
    "print(\"Обучающая:\", data2_train.shape, '\\n',\n",
    "      \"Валидационная:\", data2_valid.shape, '\\n')"
   ]
  },
  {
   "cell_type": "code",
   "execution_count": 9,
   "metadata": {},
   "outputs": [],
   "source": [
    "features0_train = data0_train.drop('product', axis=1)\n",
    "target0_train = data0_train['product']\n",
    "features0_valid = data0_valid.drop('product', axis=1)\n",
    "target0_valid = data0_valid['product']\n",
    "\n",
    "features1_train = data1_train.drop('product', axis=1)\n",
    "target1_train = data1_train['product']\n",
    "features1_valid = data1_valid.drop('product', axis=1)\n",
    "target1_valid = data1_valid['product']\n",
    "\n",
    "features2_train = data2_train.drop('product', axis=1)\n",
    "target2_train = data2_train['product']\n",
    "features2_valid = data2_valid.drop('product', axis=1)\n",
    "target2_valid = data2_valid['product']"
   ]
  },
  {
   "cell_type": "markdown",
   "metadata": {},
   "source": [
    "#### Проверка распределений на \"нормальность\". Масштабирование."
   ]
  },
  {
   "cell_type": "markdown",
   "metadata": {},
   "source": [
    "Для масштабирования мы принимаем допущение, что все признаки распределены нормально, посмотрим на гистограммы."
   ]
  },
  {
   "cell_type": "code",
   "execution_count": 10,
   "metadata": {},
   "outputs": [
    {
     "data": {
      "text/plain": [
       "<matplotlib.axes._subplots.AxesSubplot at 0x7efddb8a0d50>"
      ]
     },
     "execution_count": 10,
     "metadata": {},
     "output_type": "execute_result"
    },
    {
     "data": {
      "image/png": "[encoded data removed]",
      "text/plain": [
       "<Figure size 432x288 with 1 Axes>"
      ]
     },
     "metadata": {
      "needs_background": "light"
     },
     "output_type": "display_data"
    }
   ],
   "source": [
    "features0_train.plot(kind='hist', title='Dataset 0', alpha=0.7, bins=100)"
   ]
  },
  {
   "cell_type": "code",
   "execution_count": 11,
   "metadata": {},
   "outputs": [
    {
     "data": {
      "text/plain": [
       "<matplotlib.axes._subplots.AxesSubplot at 0x7efdd9136650>"
      ]
     },
     "execution_count": 11,
     "metadata": {},
     "output_type": "execute_result"
    },
    {
     "data": {
      "image/png": "[encoded data removed]",
      "text/plain": [
       "<Figure size 432x288 with 1 Axes>"
      ]
     },
     "metadata": {
      "needs_background": "light"
     },
     "output_type": "display_data"
    }
   ],
   "source": [
    "features1_train.plot(kind='hist', title='Dataset 1', alpha=0.7, bins=100)"
   ]
  },
  {
   "cell_type": "code",
   "execution_count": 12,
   "metadata": {},
   "outputs": [
    {
     "data": {
      "text/plain": [
       "<matplotlib.axes._subplots.AxesSubplot at 0x7efdd8dc0290>"
      ]
     },
     "execution_count": 12,
     "metadata": {},
     "output_type": "execute_result"
    },
    {
     "data": {
      "image/png": "[encoded data removed]",
      "text/plain": [
       "<Figure size 432x288 with 1 Axes>"
      ]
     },
     "metadata": {
      "needs_background": "light"
     },
     "output_type": "display_data"
    }
   ],
   "source": [
    "features2_train.plot(kind='hist', title='Dataset 2', alpha=0.7, bins=100)"
   ]
  },
  {
   "cell_type": "markdown",
   "metadata": {},
   "source": [
    "Как и ожидалось, лучше всех \"выступили\" признаки в Датасете 2. Что ж, ЦПТ нам в помощь, как всегда. Попробуем всё это дело стандартизовать, чтобы нивелировать разницу в разбросах данных признаков."
   ]
  },
  {
   "cell_type": "code",
   "execution_count": 13,
   "metadata": {},
   "outputs": [],
   "source": [
    "# Создаём объект структуры данных и настраиваем его на обучающей выборке признаков:\n",
    "scaler0 = StandardScaler()\n",
    "scaler0.fit(features0_train)\n",
    "scaler1 = StandardScaler()\n",
    "scaler1.fit(features1_train)\n",
    "scaler2 = StandardScaler()\n",
    "scaler2.fit(features2_train)\n",
    "\n",
    "# Преобразуем имеющиеся выборки с признаками:\n",
    "features0_train_scaled = scaler0.transform(features0_train)\n",
    "features0_valid_scaled = scaler0.transform(features0_valid)\n",
    "features1_train_scaled = scaler1.transform(features1_train)\n",
    "features1_valid_scaled = scaler1.transform(features1_valid)\n",
    "features2_train_scaled = scaler2.transform(features2_train)\n",
    "features2_valid_scaled = scaler2.transform(features2_valid)"
   ]
  },
  {
   "cell_type": "markdown",
   "metadata": {},
   "source": [
    "Итак, признаки масштабированы, пора учиться."
   ]
  },
  {
   "cell_type": "markdown",
   "metadata": {},
   "source": [
    "## Обучение и проверка модели"
   ]
  },
  {
   "cell_type": "markdown",
   "metadata": {},
   "source": [
    "### Создание и обучение модели линейной регрессии. Предсказания на валидационных выборках"
   ]
  },
  {
   "cell_type": "markdown",
   "metadata": {},
   "source": [
    "По услоивям задачи - поверим им, чтобы не обременять себя проверками - для наших данных подходит модель линейной регрессии. Создаём модель и обучаем."
   ]
  },
  {
   "cell_type": "code",
   "execution_count": 14,
   "metadata": {},
   "outputs": [
    {
     "data": {
      "text/plain": [
       "LinearRegression(copy_X=True, fit_intercept=True, n_jobs=None, normalize=False)"
      ]
     },
     "execution_count": 14,
     "metadata": {},
     "output_type": "execute_result"
    }
   ],
   "source": [
    "model0 = LinearRegression()\n",
    "model1 = LinearRegression()\n",
    "model2 = LinearRegression()\n",
    "\n",
    "model0.fit(features0_train_scaled, target0_train)\n",
    "model1.fit(features1_train_scaled, target1_train)\n",
    "model2.fit(features2_train_scaled, target2_train)"
   ]
  },
  {
   "cell_type": "markdown",
   "metadata": {},
   "source": [
    "Теперь сделаем предсказания на валидационных выборках наших датасетов."
   ]
  },
  {
   "cell_type": "code",
   "execution_count": 15,
   "metadata": {},
   "outputs": [],
   "source": [
    "predictions0 = model0.predict(features0_valid_scaled)\n",
    "predictions1 = model1.predict(features1_valid_scaled)\n",
    "predictions2 = model2.predict(features2_valid_scaled)"
   ]
  },
  {
   "cell_type": "markdown",
   "metadata": {},
   "source": [
    "### Сравнение предсказаний и правильных ответов по среднему. RMSE моделей"
   ]
  },
  {
   "cell_type": "markdown",
   "metadata": {},
   "source": [
    "Для проверки адекватности работы моделей вычислим средние значения объёма запасов в скважинах для предсказанных результатов и для исходных данных."
   ]
  },
  {
   "cell_type": "code",
   "execution_count": 16,
   "metadata": {},
   "outputs": [
    {
     "name": "stdout",
     "output_type": "stream",
     "text": [
      "Dataset 0\n",
      "Средний запас в скважинах: 92.32595637084387\n",
      "Средний запас в скважинах согласно предсказанию: 92.39879990657768\n",
      "Dataset 1\n",
      "Средний запас в скважинах: 68.72538074722745\n",
      "Средний запас в скважинах согласно предсказанию: 68.71287803913762\n",
      "Dataset 2\n",
      "Средний запас в скважинах: 95.15099907171961\n",
      "Средний запас в скважинах согласно предсказанию: 94.77102387765939\n"
     ]
    }
   ],
   "source": [
    "print(\"Dataset 0\")\n",
    "print(\"Средний запас в скважинах:\", target0_valid.mean())\n",
    "print(\"Средний запас в скважинах согласно предсказанию:\", predictions0.mean())\n",
    "\n",
    "print(\"Dataset 1\")\n",
    "print(\"Средний запас в скважинах:\", target1_valid.mean())\n",
    "print(\"Средний запас в скважинах согласно предсказанию:\", predictions1.mean())\n",
    "\n",
    "print(\"Dataset 2\")\n",
    "print(\"Средний запас в скважинах:\", target2_valid.mean())\n",
    "print(\"Средний запас в скважинах согласно предсказанию:\", predictions2.mean())\n"
   ]
  },
  {
   "cell_type": "markdown",
   "metadata": {},
   "source": [
    "Классно! Предсказания почти совпали с ответами. Посмотрим, что там со среднеквадратичным отклонением."
   ]
  },
  {
   "cell_type": "code",
   "execution_count": 17,
   "metadata": {},
   "outputs": [
    {
     "name": "stdout",
     "output_type": "stream",
     "text": [
      "Корень из средней квадратичной ошибки предсказаний для Датасета 0: 37.75660035026169\n",
      "Корень из средней квадратичной ошибки предсказаний для Датасета 1: 0.8902801001028834\n",
      "Корень из средней квадратичной ошибки предсказаний для Датасета 2: 50.704196296760536\n",
      "Red - Dataset 0\n",
      "Yellow - Dataset 1\n",
      "Green - Dataset 2\n"
     ]
    },
    {
     "data": {
      "image/png": "[encoded data removed]",
      "text/plain": [
       "<Figure size 432x288 with 1 Axes>"
      ]
     },
     "metadata": {
      "needs_background": "light"
     },
     "output_type": "display_data"
    }
   ],
   "source": [
    "rmse0 = mean_squared_error(target0_valid, predictions0)**(0.5)\n",
    "print(\"Корень из средней квадратичной ошибки предсказаний для Датасета 0:\", rmse0)\n",
    "rmse1 = mean_squared_error(target1_valid, predictions1)**(0.5)\n",
    "print(\"Корень из средней квадратичной ошибки предсказаний для Датасета 1:\", rmse1)\n",
    "rmse2 = mean_squared_error(target2_valid, predictions0)**(0.5)\n",
    "print(\"Корень из средней квадратичной ошибки предсказаний для Датасета 2:\", rmse2)\n",
    "\n",
    "# построим гистограммы для правильных ответов валидационных выборок:\n",
    "target0_valid.plot(kind='hist', color='red', alpha=0.7, bins=100)\n",
    "target1_valid.plot(kind='hist', color='yellow', alpha=0.7, bins=100)\n",
    "target2_valid.plot(kind='hist', color='green', alpha=0.7, bins=100)\n",
    "print(\"Red - Dataset 0\")\n",
    "print(\"Yellow - Dataset 1\")\n",
    "print(\"Green - Dataset 2\")"
   ]
  },
  {
   "cell_type": "markdown",
   "metadata": {},
   "source": [
    "На данных Датасета 1 модель сработала качественнее всего - отклонение даже меньше 1 тыс. баррелей. Но и распределение выглядит максимально странно, как будто в Локации 1 очень приблизительно оценивали запасы, подгоняя значения к какой-нибудь \"категории\" значений (0б 25б 60 и т.д) Довольно крупные отклонения у Датасетов 0 и 2, при разбросе данных примерно до 200 тыс. баррелей, качество модели не самое лучшее. Но будем следовать условиям задачи, используя эту модель в дальнейшей работе."
   ]
  },
  {
   "cell_type": "markdown",
   "metadata": {},
   "source": [
    "## Подготовка к расчёту прибыли"
   ]
  },
  {
   "cell_type": "markdown",
   "metadata": {},
   "source": [
    "### Расчёт достаточного для безубыточной разработки объёма сырья"
   ]
  },
  {
   "cell_type": "markdown",
   "metadata": {},
   "source": [
    "Нам дано по условиям задачи:\n",
    "\n",
    "1. Бюджет на разработку скважин в регионе — 10 млрд рублей.\n",
    "2. При нынешних ценах один баррель сырья приносит 450 рублей дохода. Доход с каждой единицы продукта составляет 450 тыс. рублей, поскольку объём указан в тысячах баррелей.\n",
    "3. Разработка будет вестись в 200 лучших скважинах выбранного региона.\n",
    "\n",
    "Из этого можно рассчитать объём запасов в тыс. баррелей на одну скважину, который необходим (но не обязательно достаточен), чтобы не уйти в минус при вложении в эту скважину инвестиций. Мы можем разделить предполагаемый бюджет в 10 млн. на количество скважин (200) и затем поделить на доход от одной тысячи баррелей (450 тыс.), в итоге получим значение, при котором прибыль равна 0, что является минимальным безубыточным значением."
   ]
  },
  {
   "cell_type": "code",
   "execution_count": 18,
   "metadata": {},
   "outputs": [
    {
     "name": "stdout",
     "output_type": "stream",
     "text": [
      "Точка безубыточности равна: 111.11111111111111 тыс. баррелей\n"
     ]
    }
   ],
   "source": [
    "budget = 10000000000\n",
    "barrel1000price = 450000\n",
    "best_well_count = 200\n",
    "break_even = budget/(barrel1000price*best_well_count)\n",
    "print('Точка безубыточности равна:', break_even, \"тыс. баррелей\")"
   ]
  },
  {
   "cell_type": "markdown",
   "metadata": {},
   "source": [
    "Значение точки безубыточности выше средних значений запасов по регионам. Ближе всех оказался Датасет 2, где средний запас в скважинах: 95.15099907171961; недалеко от него Датасет 0, где запас равен 92.32595637084387; дальше всех Датасет 1 со средним запасом в 68.72538074722745 тыс. баррелей. Посмотрим, что покажет расчёт прибыли."
   ]
  },
  {
   "cell_type": "markdown",
   "metadata": {},
   "source": [
    "### Методика расчёта прибыли"
   ]
  },
  {
   "cell_type": "markdown",
   "metadata": {},
   "source": [
    "Создадим функцию для расчёта прибыли в регионе по 200 лучшим скважинам с учётом вложений в 10 млрд. Она будет брать предсказанные объёмы скважин, сортировать от большего объёма к меньшему вычленять соответствующие им истинные объёмы. Затем функция суммирует первые (и лучшие) 200 объёмов скважин и умножает результат на выручку с одной тысячи баррелей. Из полученного произведения вычитается заложенный бюджет в 10 млрд."
   ]
  },
  {
   "cell_type": "code",
   "execution_count": 19,
   "metadata": {},
   "outputs": [],
   "source": [
    "def revenue(target, predictions):\n",
    "    preds_sorted = predictions.sort_values(ascending=False)\n",
    "    selected = target[preds_sorted.index][:200]\n",
    "    return ((barrel1000price * selected.sum()) - budget)"
   ]
  },
  {
   "cell_type": "markdown",
   "metadata": {},
   "source": [
    "Преобразуем предсказания в серии, а также сбросим индексы ответов, так как функция выше и следующая функция будут использовать соответствие по индексу:"
   ]
  },
  {
   "cell_type": "code",
   "execution_count": 20,
   "metadata": {},
   "outputs": [],
   "source": [
    "predictions0 = pd.Series(predictions0)\n",
    "predictions1 = pd.Series(predictions1)\n",
    "predictions2 = pd.Series(predictions2)\n",
    "target0_valid = target0_valid.reset_index(drop=True)\n",
    "target1_valid = target1_valid.reset_index(drop=True)\n",
    "target2_valid = target2_valid.reset_index(drop=True)"
   ]
  },
  {
   "cell_type": "markdown",
   "metadata": {},
   "source": [
    "## Расчёт прибыли и рисков "
   ]
  },
  {
   "cell_type": "markdown",
   "metadata": {},
   "source": [
    "### Расчёт прибыли по всем скважинам"
   ]
  },
  {
   "cell_type": "markdown",
   "metadata": {},
   "source": [
    "Посчитаем предварительную прибыль по регионам по всем имеющимся в регионе скважинам:"
   ]
  },
  {
   "cell_type": "code",
   "execution_count": 21,
   "metadata": {},
   "outputs": [
    {
     "name": "stdout",
     "output_type": "stream",
     "text": [
      "Прибыль Региона 0: 3359141114.462179\n",
      "Прибыль Региона 1: 2415086696.681511\n",
      "Прибыль Региона 2: 2598571759.374111\n"
     ]
    }
   ],
   "source": [
    "print('Прибыль Региона 0:', revenue(target0_valid, predictions0))\n",
    "print('Прибыль Региона 1:', revenue(target1_valid, predictions1))\n",
    "print('Прибыль Региона 2:', revenue(target2_valid, predictions2))"
   ]
  },
  {
   "cell_type": "markdown",
   "metadata": {},
   "source": [
    "Если брать топ-200 скважин из всех наличествующих, то побеждает Регион 0. Посмотрим, как рассудит нас бутстреп."
   ]
  },
  {
   "cell_type": "markdown",
   "metadata": {},
   "source": [
    "### Bootstrap анализ на 1000 случайных выборок для вычисления прибыли по регионам"
   ]
  },
  {
   "cell_type": "markdown",
   "metadata": {},
   "source": [
    "Теперь применим bootstrap анализ для вычисления прибыли в каждом регионе, а точнее - для получения распределения прибыли по каждому региону. Для этого мы в каждом регионе 1000 раз возьмём 500 рандомных скважин, посчитаем созданной ранее функцией прибыль 1000 раз и получим распределение.\n",
    "Для сокращения объёма кода напишем соответствующую функцию и применим её к нашим датасетам. Также добавим в функцию счётчик отрицательных значений прибыли."
   ]
  },
  {
   "cell_type": "code",
   "execution_count": 22,
   "metadata": {},
   "outputs": [
    {
     "name": "stdout",
     "output_type": "stream",
     "text": [
      "Средняя прибыль в Регионе 0 согласно данным бутстреп-анализа: 0    4.278476e+08\n",
      "dtype: float64\n",
      "Средняя прибыль в Регионе 1 согласно данным бутстреп-анализа: 0    5.113628e+08\n",
      "dtype: float64\n",
      "Средняя прибыль в Регионе 2 согласно данным бутстреп-анализа: 0    4.025756e+08\n",
      "dtype: float64\n"
     ]
    }
   ],
   "source": [
    "# функция бустрепа: 1000 раз берет по 500 скважин, из них по предсказаниям сортирует 200 лучших, а значения берёт из таргета\n",
    "# рассчитывает прибыль по функции revenue, добавляет в список, и преобразует этот список в конце в датафрейм\n",
    "# на выходе датафрейм с 1000 значений прибыли и количество отрицательных значений прибыли\n",
    "def bootstrap(target, predictions):\n",
    "    # впадаем в состояние рандома:\n",
    "    state = np.random.RandomState(42)\n",
    "    values = []\n",
    "    loss_count = 0\n",
    "    for i in range(1000):\n",
    "        target_subsample = target.sample(n=500, replace=True, random_state=state)\n",
    "        preds_subsample = predictions[target_subsample.index]\n",
    "        values.append(revenue(target_subsample, preds_subsample))\n",
    "        if revenue(target_subsample, preds_subsample) < 0:\n",
    "            loss_count +=1\n",
    "    return pd.DataFrame(values), loss_count\n",
    "\n",
    "# Считаем средние значения прибыли после бутстрепа для каждого региона.\n",
    "revenue0, loss_count0 = bootstrap(target0_valid, predictions0)\n",
    "print(\"Средняя прибыль в Регионе 0 согласно данным бутстреп-анализа:\", revenue0.mean())\n",
    "revenue1, loss_count1 = bootstrap(target1_valid, predictions1)\n",
    "print(\"Средняя прибыль в Регионе 1 согласно данным бутстреп-анализа:\", revenue1.mean())\n",
    "revenue2, loss_count2 = bootstrap(target2_valid, predictions2)\n",
    "print(\"Средняя прибыль в Регионе 2 согласно данным бутстреп-анализа:\", revenue2.mean())"
   ]
  },
  {
   "cell_type": "markdown",
   "metadata": {},
   "source": [
    "А вот после бутстрепа мы видим, что лидирует Регион 1 с большим отрывом. На втором месте экс-лидер Регион 0."
   ]
  },
  {
   "cell_type": "markdown",
   "metadata": {},
   "source": [
    "### Оценка рисков"
   ]
  },
  {
   "cell_type": "markdown",
   "metadata": {},
   "source": [
    "Посмотрим, какова вероятность убытков в каждом из регионов. Посчитаем её из результатов работы функции в предыдущем разделе: количество убыточных (отрицательных) значений прибыли поделим на число итераций бустреп-анализа, то есть на 1000:"
   ]
  },
  {
   "cell_type": "code",
   "execution_count": 23,
   "metadata": {},
   "outputs": [
    {
     "name": "stdout",
     "output_type": "stream",
     "text": [
      "Вероятность убытков в Регионе 0: 0.055\n",
      "Вероятность убытков в Регионе 1: 0.009\n",
      "Вероятность убытков в Регионе 2: 0.074\n"
     ]
    }
   ],
   "source": [
    "print(\"Вероятность убытков в Регионе 0:\", (loss_count0/1000))\n",
    "print(\"Вероятность убытков в Регионе 1:\", (loss_count1/1000))\n",
    "print(\"Вероятность убытков в Регионе 2:\", (loss_count2/1000))"
   ]
  },
  {
   "cell_type": "markdown",
   "metadata": {},
   "source": [
    "Только один регион проходит порог 2,5% вероятности убытков - это тот же Регион 1, у которого наибольшая средняя прибыль."
   ]
  },
  {
   "cell_type": "markdown",
   "metadata": {},
   "source": [
    "### Расчёт 95%-ных доверительных интервалов"
   ]
  },
  {
   "cell_type": "code",
   "execution_count": 24,
   "metadata": {},
   "outputs": [
    {
     "name": "stdout",
     "output_type": "stream",
     "text": [
      "Нижний квантиль в Регионе 0: 0   -9.724983e+07\n",
      "Name: 0.025, dtype: float64\n",
      "Верхний квантиль в Регионе 0: 0    9.542152e+08\n",
      "Name: 0.975, dtype: float64\n",
      "Нижний квантиль в Регионе 1: 0    9.887065e+07\n",
      "Name: 0.025, dtype: float64\n",
      "Верхний квантиль в Регионе 1: 0    9.407205e+08\n",
      "Name: 0.975, dtype: float64\n",
      "Нижний квантиль в Регионе 2: 0   -1.371622e+08\n",
      "Name: 0.025, dtype: float64\n",
      "Верхний квантиль в Регионе 2: 0    9.298875e+08\n",
      "Name: 0.975, dtype: float64\n"
     ]
    }
   ],
   "source": [
    "print('Нижний квантиль в Регионе 0:', revenue0.quantile(0.025))\n",
    "print('Верхний квантиль в Регионе 0:', revenue0.quantile(0.975))\n",
    "\n",
    "print('Нижний квантиль в Регионе 1:', revenue1.quantile(0.025))\n",
    "print('Верхний квантиль в Регионе 1:', revenue1.quantile(0.975))\n",
    "\n",
    "print('Нижний квантиль в Регионе 2:', revenue2.quantile(0.025))\n",
    "print('Верхний квантиль в Регионе 2:', revenue2.quantile(0.975))"
   ]
  },
  {
   "cell_type": "markdown",
   "metadata": {},
   "source": [
    "Нижний квантиль у регионов 0 и 2 отрицательный, что опять же говорит не в их пользу."
   ]
  },
  {
   "cell_type": "markdown",
   "metadata": {},
   "source": [
    "## Выводы"
   ]
  },
  {
   "cell_type": "markdown",
   "metadata": {},
   "source": [
    "С большим отрывом по средней прибыли и с низкой вероятностью убытков лидирует Регион 1 (второй по порядку из предложенных датасетов). Модель машинного обучения и бутстреп-анализ предлагают для разработки данный регион."
   ]
  },
  {
   "cell_type": "markdown",
   "metadata": {},
   "source": [
    "## Чек-лист готовности проекта"
   ]
  },
  {
   "cell_type": "markdown",
   "metadata": {},
   "source": [
    "Поставьте 'x' в выполненных пунктах. Далее нажмите Shift+Enter."
   ]
  },
  {
   "cell_type": "markdown",
   "metadata": {},
   "source": [
    "- [x]  Jupyter Notebook открыт\n",
    "- [x]  Весь код выполняется без ошибок\n",
    "- [x]  Ячейки с кодом расположены в порядке исполнения\n",
    "- [x]  Выполнен шаг 1: данные подготовлены\n",
    "- [x]  Выполнен шаг 2: модели обучены и проверены\n",
    "    - [x]  Данные корректно разбиты на обучающую и валидационную выборки\n",
    "    - [x]  Модели обучены, предсказания сделаны\n",
    "    - [x]  Предсказания и правильные ответы на валидационной выборке сохранены\n",
    "    - [x]  На экране напечатаны результаты\n",
    "    - [x]  Сделаны выводы\n",
    "- [x]  Выполнен шаг 3: проведена подготовка к расчёту прибыли\n",
    "    - [x]  Для всех ключевых значений созданы константы Python\n",
    "    - [x]  Посчитано минимальное среднее количество продукта в месторождениях региона, достаточное для разработки\n",
    "    - [x]  По предыдущему пункту сделаны выводы\n",
    "    - [x]  Написана функция расчёта прибыли\n",
    "- [x]  Выполнен шаг 4: посчитаны риски и прибыль\n",
    "    - [x]  Проведена процедура *Bootstrap*\n",
    "    - [x]  Все параметры бутстрепа соответствуют условию\n",
    "    - [x]  Найдены все нужные величины\n",
    "    - [x]  Предложен регион для разработки месторождения\n",
    "    - [x]  Выбор региона обоснован"
   ]
  },
  {
   "cell_type": "code",
   "execution_count": null,
   "metadata": {},
   "outputs": [],
   "source": []
  }
 ],
 "metadata": {
  "ExecuteTimeLog": [
   {
    "duration": 1090,
    "start_time": "2021-12-07T08:55:08.262Z"
   },
   {
    "duration": 404,
    "start_time": "2021-12-07T08:55:09.354Z"
   },
   {
    "duration": 16,
    "start_time": "2021-12-07T08:55:09.760Z"
   },
   {
    "duration": 732,
    "start_time": "2021-12-07T08:55:09.778Z"
   },
   {
    "duration": 8648,
    "start_time": "2021-12-07T08:55:10.511Z"
   },
   {
    "duration": 8766,
    "start_time": "2021-12-07T08:55:19.161Z"
   },
   {
    "duration": 8702,
    "start_time": "2021-12-07T08:55:27.929Z"
   },
   {
    "duration": 39,
    "start_time": "2021-12-07T08:55:36.632Z"
   },
   {
    "duration": 12,
    "start_time": "2021-12-07T08:55:36.674Z"
   },
   {
    "duration": 759,
    "start_time": "2021-12-07T08:55:36.688Z"
   },
   {
    "duration": 826,
    "start_time": "2021-12-07T08:55:37.448Z"
   },
   {
    "duration": 746,
    "start_time": "2021-12-07T08:55:38.276Z"
   },
   {
    "duration": 27,
    "start_time": "2021-12-07T08:55:39.024Z"
   },
   {
    "duration": 98,
    "start_time": "2021-12-07T08:55:39.052Z"
   },
   {
    "duration": 94,
    "start_time": "2021-12-07T08:55:39.152Z"
   },
   {
    "duration": 8,
    "start_time": "2021-12-07T08:55:39.249Z"
   },
   {
    "duration": 812,
    "start_time": "2021-12-07T08:55:39.343Z"
   },
   {
    "duration": 4,
    "start_time": "2021-12-07T08:55:40.157Z"
   },
   {
    "duration": 18,
    "start_time": "2021-12-07T08:55:40.162Z"
   },
   {
    "duration": 11,
    "start_time": "2021-12-07T08:55:40.182Z"
   },
   {
    "duration": 34,
    "start_time": "2021-12-07T08:55:40.195Z"
   },
   {
    "duration": 15513,
    "start_time": "2021-12-07T08:55:40.231Z"
   },
   {
    "duration": 4,
    "start_time": "2021-12-07T08:55:55.746Z"
   },
   {
    "duration": 18,
    "start_time": "2021-12-07T08:55:55.752Z"
   }
  ],
  "kernelspec": {
   "display_name": "Python 3",
   "language": "python",
   "name": "python3"
  },
  "language_info": {
   "codemirror_mode": {
    "name": "ipython",
    "version": 3
   },
   "file_extension": ".py",
   "mimetype": "text/x-python",
   "name": "python",
   "nbconvert_exporter": "python",
   "pygments_lexer": "ipython3",
   "version": "3.7.8"
  },
  "toc": {
   "base_numbering": 1,
   "nav_menu": {},
   "number_sections": true,
   "sideBar": true,
   "skip_h1_title": true,
   "title_cell": "Содержание",
   "title_sidebar": "Содержание",
   "toc_cell": true,
   "toc_position": {},
   "toc_section_display": true,
   "toc_window_display": true
  }
 },
 "nbformat": 4,
 "nbformat_minor": 2
}
