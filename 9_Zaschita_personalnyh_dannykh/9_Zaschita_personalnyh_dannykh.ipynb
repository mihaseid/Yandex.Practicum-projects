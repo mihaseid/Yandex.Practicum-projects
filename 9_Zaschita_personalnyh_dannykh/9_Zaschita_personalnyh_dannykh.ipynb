{
 "cells": [
  {
   "cell_type": "markdown",
   "metadata": {
    "toc": true
   },
   "source": [
    "<h1>Содержание<span class=\"tocSkip\"></span></h1>\n",
    "<div class=\"toc\"><ul class=\"toc-item\"><li><span><a href=\"#Загрузка-данных\" data-toc-modified-id=\"Загрузка-данных-1\"><span class=\"toc-item-num\">1&nbsp;&nbsp;</span>Загрузка данных</a></span></li><li><span><a href=\"#Умножение-матриц\" data-toc-modified-id=\"Умножение-матриц-2\"><span class=\"toc-item-num\">2&nbsp;&nbsp;</span>Умножение матриц</a></span></li><li><span><a href=\"#Алгоритм-преобразования\" data-toc-modified-id=\"Алгоритм-преобразования-3\"><span class=\"toc-item-num\">3&nbsp;&nbsp;</span>Алгоритм преобразования</a></span><ul class=\"toc-item\"><li><span><a href=\"#Подготовка.-Разделение-признаков,-автоматизация-обучения.\" data-toc-modified-id=\"Подготовка.-Разделение-признаков,-автоматизация-обучения.-3.1\"><span class=\"toc-item-num\">3.1&nbsp;&nbsp;</span>Подготовка. Разделение признаков, автоматизация обучения.</a></span></li><li><span><a href=\"#Обучение-модели-линейной-регрессии-на-исходной-выборке.\" data-toc-modified-id=\"Обучение-модели-линейной-регрессии-на-исходной-выборке.-3.2\"><span class=\"toc-item-num\">3.2&nbsp;&nbsp;</span>Обучение модели линейной регрессии на исходной выборке.</a></span></li><li><span><a href=\"#Обучение-модели-линейной-регрессии-после-умножения-признаков-на-обратимую-матрицу\" data-toc-modified-id=\"Обучение-модели-линейной-регрессии-после-умножения-признаков-на-обратимую-матрицу-3.3\"><span class=\"toc-item-num\">3.3&nbsp;&nbsp;</span>Обучение модели линейной регрессии после умножения признаков на обратимую матрицу</a></span></li></ul></li><li><span><a href=\"#Чек-лист-проверки\" data-toc-modified-id=\"Чек-лист-проверки-4\"><span class=\"toc-item-num\">4&nbsp;&nbsp;</span>Чек-лист проверки</a></span></li></ul></div>"
   ]
  },
  {
   "cell_type": "markdown",
   "metadata": {},
   "source": [
    "# Защита персональных данных клиентов"
   ]
  },
  {
   "cell_type": "markdown",
   "metadata": {},
   "source": [
    "Вам нужно защитить данные клиентов страховой компании «Хоть потоп». Разработайте такой метод преобразования данных, чтобы по ним было сложно восстановить персональную информацию. Обоснуйте корректность его работы.\n",
    "\n",
    "Нужно защитить данные, чтобы при преобразовании качество моделей машинного обучения не ухудшилось. Подбирать наилучшую модель не требуется."
   ]
  },
  {
   "cell_type": "markdown",
   "metadata": {},
   "source": [
    "## Загрузка данных"
   ]
  },
  {
   "cell_type": "code",
   "execution_count": 1,
   "metadata": {},
   "outputs": [],
   "source": [
    "import pandas as pd\n",
    "import numpy as np\n",
    "from sklearn.model_selection import train_test_split\n",
    "from sklearn.linear_model import LinearRegression\n",
    "from sklearn.metrics import r2_score"
   ]
  },
  {
   "cell_type": "code",
   "execution_count": 2,
   "metadata": {},
   "outputs": [
    {
     "data": {
      "text/html": [
       "<div>\n",
       "<style scoped>\n",
       "    .dataframe tbody tr th:only-of-type {\n",
       "        vertical-align: middle;\n",
       "    }\n",
       "\n",
       "    .dataframe tbody tr th {\n",
       "        vertical-align: top;\n",
       "    }\n",
       "\n",
       "    .dataframe thead th {\n",
       "        text-align: right;\n",
       "    }\n",
       "</style>\n",
       "<table border=\"1\" class=\"dataframe\">\n",
       "  <thead>\n",
       "    <tr style=\"text-align: right;\">\n",
       "      <th></th>\n",
       "      <th>Пол</th>\n",
       "      <th>Возраст</th>\n",
       "      <th>Зарплата</th>\n",
       "      <th>Члены семьи</th>\n",
       "      <th>Страховые выплаты</th>\n",
       "    </tr>\n",
       "  </thead>\n",
       "  <tbody>\n",
       "    <tr>\n",
       "      <td>0</td>\n",
       "      <td>1</td>\n",
       "      <td>41.0</td>\n",
       "      <td>49600.0</td>\n",
       "      <td>1</td>\n",
       "      <td>0</td>\n",
       "    </tr>\n",
       "    <tr>\n",
       "      <td>1</td>\n",
       "      <td>0</td>\n",
       "      <td>46.0</td>\n",
       "      <td>38000.0</td>\n",
       "      <td>1</td>\n",
       "      <td>1</td>\n",
       "    </tr>\n",
       "    <tr>\n",
       "      <td>2</td>\n",
       "      <td>0</td>\n",
       "      <td>29.0</td>\n",
       "      <td>21000.0</td>\n",
       "      <td>0</td>\n",
       "      <td>0</td>\n",
       "    </tr>\n",
       "    <tr>\n",
       "      <td>3</td>\n",
       "      <td>0</td>\n",
       "      <td>21.0</td>\n",
       "      <td>41700.0</td>\n",
       "      <td>2</td>\n",
       "      <td>0</td>\n",
       "    </tr>\n",
       "    <tr>\n",
       "      <td>4</td>\n",
       "      <td>1</td>\n",
       "      <td>28.0</td>\n",
       "      <td>26100.0</td>\n",
       "      <td>0</td>\n",
       "      <td>0</td>\n",
       "    </tr>\n",
       "  </tbody>\n",
       "</table>\n",
       "</div>"
      ],
      "text/plain": [
       "   Пол  Возраст  Зарплата  Члены семьи  Страховые выплаты\n",
       "0    1     41.0   49600.0            1                  0\n",
       "1    0     46.0   38000.0            1                  1\n",
       "2    0     29.0   21000.0            0                  0\n",
       "3    0     21.0   41700.0            2                  0\n",
       "4    1     28.0   26100.0            0                  0"
      ]
     },
     "execution_count": 2,
     "metadata": {},
     "output_type": "execute_result"
    }
   ],
   "source": [
    "df = pd.read_csv('/datasets/insurance.csv')\n",
    "df.head()"
   ]
  },
  {
   "cell_type": "markdown",
   "metadata": {},
   "source": [
    "Так, ок. Пока совсем-совсем ничего не понятно, поэтому переименую столбцы, пока думаю над заданиями проекта."
   ]
  },
  {
   "cell_type": "code",
   "execution_count": 3,
   "metadata": {},
   "outputs": [
    {
     "data": {
      "text/html": [
       "<div>\n",
       "<style scoped>\n",
       "    .dataframe tbody tr th:only-of-type {\n",
       "        vertical-align: middle;\n",
       "    }\n",
       "\n",
       "    .dataframe tbody tr th {\n",
       "        vertical-align: top;\n",
       "    }\n",
       "\n",
       "    .dataframe thead th {\n",
       "        text-align: right;\n",
       "    }\n",
       "</style>\n",
       "<table border=\"1\" class=\"dataframe\">\n",
       "  <thead>\n",
       "    <tr style=\"text-align: right;\">\n",
       "      <th></th>\n",
       "      <th>gender</th>\n",
       "      <th>age</th>\n",
       "      <th>salary</th>\n",
       "      <th>relatives</th>\n",
       "      <th>insurance_payment</th>\n",
       "    </tr>\n",
       "  </thead>\n",
       "  <tbody>\n",
       "    <tr>\n",
       "      <td>0</td>\n",
       "      <td>1</td>\n",
       "      <td>41.0</td>\n",
       "      <td>49600.0</td>\n",
       "      <td>1</td>\n",
       "      <td>0</td>\n",
       "    </tr>\n",
       "    <tr>\n",
       "      <td>1</td>\n",
       "      <td>0</td>\n",
       "      <td>46.0</td>\n",
       "      <td>38000.0</td>\n",
       "      <td>1</td>\n",
       "      <td>1</td>\n",
       "    </tr>\n",
       "    <tr>\n",
       "      <td>2</td>\n",
       "      <td>0</td>\n",
       "      <td>29.0</td>\n",
       "      <td>21000.0</td>\n",
       "      <td>0</td>\n",
       "      <td>0</td>\n",
       "    </tr>\n",
       "    <tr>\n",
       "      <td>3</td>\n",
       "      <td>0</td>\n",
       "      <td>21.0</td>\n",
       "      <td>41700.0</td>\n",
       "      <td>2</td>\n",
       "      <td>0</td>\n",
       "    </tr>\n",
       "    <tr>\n",
       "      <td>4</td>\n",
       "      <td>1</td>\n",
       "      <td>28.0</td>\n",
       "      <td>26100.0</td>\n",
       "      <td>0</td>\n",
       "      <td>0</td>\n",
       "    </tr>\n",
       "  </tbody>\n",
       "</table>\n",
       "</div>"
      ],
      "text/plain": [
       "   gender   age   salary  relatives  insurance_payment\n",
       "0       1  41.0  49600.0          1                  0\n",
       "1       0  46.0  38000.0          1                  1\n",
       "2       0  29.0  21000.0          0                  0\n",
       "3       0  21.0  41700.0          2                  0\n",
       "4       1  28.0  26100.0          0                  0"
      ]
     },
     "execution_count": 3,
     "metadata": {},
     "output_type": "execute_result"
    }
   ],
   "source": [
    "df.columns = ['gender', 'age', 'salary', 'relatives', 'insurance_payment']\n",
    "df.head()"
   ]
  },
  {
   "cell_type": "markdown",
   "metadata": {},
   "source": [
    "Отлично, теперь посмотрим инфо по датасету."
   ]
  },
  {
   "cell_type": "code",
   "execution_count": 4,
   "metadata": {},
   "outputs": [
    {
     "name": "stdout",
     "output_type": "stream",
     "text": [
      "<class 'pandas.core.frame.DataFrame'>\n",
      "RangeIndex: 5000 entries, 0 to 4999\n",
      "Data columns (total 5 columns):\n",
      "gender               5000 non-null int64\n",
      "age                  5000 non-null float64\n",
      "salary               5000 non-null float64\n",
      "relatives            5000 non-null int64\n",
      "insurance_payment    5000 non-null int64\n",
      "dtypes: float64(2), int64(3)\n",
      "memory usage: 195.4 KB\n"
     ]
    }
   ],
   "source": [
    "df.info()"
   ]
  },
  {
   "cell_type": "markdown",
   "metadata": {},
   "source": [
    "Пропусков нет, типы данных соответствуют. Отступать некуда, линал зовёт."
   ]
  },
  {
   "cell_type": "markdown",
   "metadata": {},
   "source": [
    "Ну ладно, посмотрю ещё на корреляции признаков (прокрастинируем матричные работы)."
   ]
  },
  {
   "cell_type": "code",
   "execution_count": 5,
   "metadata": {},
   "outputs": [
    {
     "data": {
      "text/html": [
       "<div>\n",
       "<style scoped>\n",
       "    .dataframe tbody tr th:only-of-type {\n",
       "        vertical-align: middle;\n",
       "    }\n",
       "\n",
       "    .dataframe tbody tr th {\n",
       "        vertical-align: top;\n",
       "    }\n",
       "\n",
       "    .dataframe thead th {\n",
       "        text-align: right;\n",
       "    }\n",
       "</style>\n",
       "<table border=\"1\" class=\"dataframe\">\n",
       "  <thead>\n",
       "    <tr style=\"text-align: right;\">\n",
       "      <th></th>\n",
       "      <th>gender</th>\n",
       "      <th>age</th>\n",
       "      <th>salary</th>\n",
       "      <th>relatives</th>\n",
       "      <th>insurance_payment</th>\n",
       "    </tr>\n",
       "  </thead>\n",
       "  <tbody>\n",
       "    <tr>\n",
       "      <td>gender</td>\n",
       "      <td>1.000000</td>\n",
       "      <td>0.002074</td>\n",
       "      <td>0.014910</td>\n",
       "      <td>-0.008991</td>\n",
       "      <td>0.010140</td>\n",
       "    </tr>\n",
       "    <tr>\n",
       "      <td>age</td>\n",
       "      <td>0.002074</td>\n",
       "      <td>1.000000</td>\n",
       "      <td>-0.019093</td>\n",
       "      <td>-0.006692</td>\n",
       "      <td>0.651030</td>\n",
       "    </tr>\n",
       "    <tr>\n",
       "      <td>salary</td>\n",
       "      <td>0.014910</td>\n",
       "      <td>-0.019093</td>\n",
       "      <td>1.000000</td>\n",
       "      <td>-0.030296</td>\n",
       "      <td>-0.014963</td>\n",
       "    </tr>\n",
       "    <tr>\n",
       "      <td>relatives</td>\n",
       "      <td>-0.008991</td>\n",
       "      <td>-0.006692</td>\n",
       "      <td>-0.030296</td>\n",
       "      <td>1.000000</td>\n",
       "      <td>-0.036290</td>\n",
       "    </tr>\n",
       "    <tr>\n",
       "      <td>insurance_payment</td>\n",
       "      <td>0.010140</td>\n",
       "      <td>0.651030</td>\n",
       "      <td>-0.014963</td>\n",
       "      <td>-0.036290</td>\n",
       "      <td>1.000000</td>\n",
       "    </tr>\n",
       "  </tbody>\n",
       "</table>\n",
       "</div>"
      ],
      "text/plain": [
       "                     gender       age    salary  relatives  insurance_payment\n",
       "gender             1.000000  0.002074  0.014910  -0.008991           0.010140\n",
       "age                0.002074  1.000000 -0.019093  -0.006692           0.651030\n",
       "salary             0.014910 -0.019093  1.000000  -0.030296          -0.014963\n",
       "relatives         -0.008991 -0.006692 -0.030296   1.000000          -0.036290\n",
       "insurance_payment  0.010140  0.651030 -0.014963  -0.036290           1.000000"
      ]
     },
     "execution_count": 5,
     "metadata": {},
     "output_type": "execute_result"
    }
   ],
   "source": [
    "df.corr()"
   ]
  },
  {
   "cell_type": "markdown",
   "metadata": {},
   "source": [
    "Логичная корреляция возраста и выплат: чем дольше живет человек, тем больше вероятности произойти чему угодно и возникнуть страховой выплате, соответственно."
   ]
  },
  {
   "cell_type": "markdown",
   "metadata": {},
   "source": [
    "Ну вот, пока я всматривалась в датасет, кажется, пришло глобальное понимание задачи. \n",
    "\n",
    "Итак, у нас есть датасет с данными (ваш кэп), по которому можно легко изучить личную жизни каждого из застрахованных, что, возможно, мешало бы каким-то объективным действиям со стороны страховой компании. А также могло бы навредить самим клиентам в случае утечки данных. \n",
    "Грубо говоря, нам нужно, чтобы в этой табличке тоже были числа, но они были бы не похожи на возраст и зарплату, например. Для этого нужно как-то преобразовать исходники: умножить на что-то или вычесть миллион. При этом качество предсказания целевого признака не должно измениться. \n",
    "\n",
    "\n",
    "Для начала вглянем на теоретическую сторону вопроса, и посмотрим, как пример одного из преобразований признаков влияет на качество линейной регрессии."
   ]
  },
  {
   "cell_type": "markdown",
   "metadata": {},
   "source": [
    "## Умножение матриц"
   ]
  },
  {
   "cell_type": "markdown",
   "metadata": {},
   "source": [
    "<b> Итак, ответим на вопрос: Признаки умножают на обратимую матрицу. Изменится ли качество линейной регрессии?  </b>"
   ]
  },
  {
   "cell_type": "markdown",
   "metadata": {},
   "source": [
    "**Ответ:** нет, не изменится\n",
    "\n",
    "\n"
   ]
  },
  {
   "cell_type": "markdown",
   "metadata": {},
   "source": [
    "**Обоснование:** "
   ]
  },
  {
   "cell_type": "markdown",
   "metadata": {},
   "source": [
    "Обозначения:\n",
    "\n",
    "- $X$ — матрица признаков (нулевой столбец состоит из единиц)\n",
    "\n",
    "- $y$ — вектор целевого признака\n",
    "\n",
    "- $P$ — матрица, на которую умножаются признаки\n",
    "\n",
    "- $w$ — вектор весов линейной регрессии (нулевой элемент равен сдвигу)"
   ]
  },
  {
   "cell_type": "markdown",
   "metadata": {},
   "source": [
    "Используемые в доказательстве формулы: \n",
    "\n",
    "Предсказания:\n",
    "\n",
    "$$\n",
    "a = Xw\n",
    "$$\n",
    "\n",
    "Формула обучения:\n",
    "\n",
    "$$\n",
    "w = (X^T X)^{-1} X^T y\n",
    "$$"
   ]
  },
  {
   "cell_type": "markdown",
   "metadata": {},
   "source": [
    "Распишем формулу для весов для исходной матрицы и для умноженной на обратимую матрицу P:\n",
    "\n",
    "$$\n",
    "w1 = (X^T X)^{-1} X^T y\n",
    "$$\n",
    "\n",
    "$$\n",
    "w2 = ((XP)^T (XP))^{-1} (XP)^T y\n",
    "$$\n",
    "\n",
    "Кое-что попереносим в другие части уравнений и кое-что посокращаем:\n",
    "\n",
    "\n",
    "\n",
    "$$\n",
    "w1 X^T X = X^T y\n",
    "$$\n",
    "\n",
    "$$\n",
    "w1 X = y\n",
    "$$\n",
    "\n",
    "$$\n",
    "w2 (XP)^T (XP) = (XP)^T y\n",
    "$$\n",
    "\n",
    "$$\n",
    "w2 X P = y\n",
    "$$\n",
    "\n",
    "Можем приравнять первое уравнение со вторым через целевой признак y, а затем вывести расчёт весов w2 через w1:\n",
    "\n",
    "$$\n",
    "w1 X = w2 X P\n",
    "$$\n",
    "\n",
    "$$\n",
    "w2 = w1 / P\n",
    "$$\n",
    "\n",
    "Теперь подставим это в формулу для предказаний преобразованных признаков:\n",
    "\n",
    "$$\n",
    "a2 = X P w2 = X P w1 / P = X w1 = a1\n",
    "$$\n",
    "\n",
    "ЧТД. Предсказания идентичны, соответственно, и качество тоже."
   ]
  },
  {
   "cell_type": "markdown",
   "metadata": {},
   "source": [
    "## Алгоритм преобразования"
   ]
  },
  {
   "cell_type": "markdown",
   "metadata": {},
   "source": [
    "Так как вариант умножения признаков на матрицу (причём любую) работает, и качество обучения при этом не меняется, то используем это же преобразование в нашем датасете.\n",
    "\n",
    "**Алгоритм:**\n",
    "\n",
    "1. Делим датасет на признаки и целевой признак. \n",
    "2. Признаки умножаем на случайно созданную обратимую матрицу размером 4 на 4.\n",
    "3. Обучаем модель линейной регрессии на преобразованных признаках.\n",
    "4. Считаем метрику R2 и сравниваем её с аналогичной метрикой для исходных данных.\n",
    "\n",
    "**Обоснование:**\n",
    "\n",
    "Мы применяем умножение на матрицу потому, что в разделе 2 доказано, что умножение признаков на любую матрицу не меняет результата предсказания. \n",
    "\n",
    "Размер 4 на 4 выбран потому, что при умножении матриц ширина одной должна быть равна длине другой матрицы, при этом совпадающее число \"схлопывается\". И, чтобы результат умножения тоже содержал 4 столбца, второе измерение для матрицы тоже задаем числом 4. Обратимой эта матрица должна быть, очевидно потому, что в формуле вычисления весов линейной регрессии понадобится обратная нашей матрица.\n",
    "\n",
    "Перейдём к практике."
   ]
  },
  {
   "cell_type": "markdown",
   "metadata": {},
   "source": [
    "### Подготовка. Разделение признаков, автоматизация обучения."
   ]
  },
  {
   "cell_type": "markdown",
   "metadata": {},
   "source": [
    "Для начала нужно отделить целевой признак от остальных."
   ]
  },
  {
   "cell_type": "code",
   "execution_count": 6,
   "metadata": {},
   "outputs": [],
   "source": [
    "features_source = df.drop('insurance_payment', axis=1)\n",
    "target = df['insurance_payment']"
   ]
  },
  {
   "cell_type": "markdown",
   "metadata": {},
   "source": [
    "Так как нам предстоит экспериментировать с матрицами, а затем проверять качество обучения, неплохо бы иметь функцию, которая быстро сделает предсказания и посчитает метрику качества R2. Это позволит не проходить каждый раз шаги отделения тестовой выборки, создания модели линейной регрессии, обучения, предсказания и оценки. "
   ]
  },
  {
   "cell_type": "code",
   "execution_count": 7,
   "metadata": {},
   "outputs": [],
   "source": [
    "# ф-я делит выборку на тест (20%) и обучающую, предсказывает линейной регрессией целевой признак, выдаёт предсказание и метрику R2:\n",
    "def predict_and_R2(features, target):\n",
    "    features_train, features_test, target_train, target_test = train_test_split(features, \n",
    "                                                                                target, \n",
    "                                                                                test_size=0.2, \n",
    "                                                                                random_state=42)\n",
    "    model = LinearRegression()\n",
    "    model.fit(features_train, target_train)\n",
    "    predictions = model.predict(features_test)\n",
    "    r2 = r2_score(target_test, predictions)\n",
    "    return predictions, r2"
   ]
  },
  {
   "cell_type": "markdown",
   "metadata": {},
   "source": [
    "### Обучение модели линейной регрессии на исходной выборке."
   ]
  },
  {
   "cell_type": "markdown",
   "metadata": {},
   "source": [
    "Испробуем нашу функцию на исходных данных и посмотрим на R2."
   ]
  },
  {
   "cell_type": "code",
   "execution_count": 8,
   "metadata": {},
   "outputs": [
    {
     "name": "stdout",
     "output_type": "stream",
     "text": [
      "R2 на исходной выборке равно: 0.4368694923137991\n"
     ]
    }
   ],
   "source": [
    "predictions_source, r2_source = predict_and_R2(features_source, target)\n",
    "print(\"R2 на исходной выборке равно:\", r2_source)"
   ]
  },
  {
   "cell_type": "markdown",
   "metadata": {},
   "source": [
    "Метрика не отрицательная и не ноль. Неплохо. Посмотрим, что будет, если умножить матрицу с признаками на обратимую матрицу."
   ]
  },
  {
   "cell_type": "markdown",
   "metadata": {},
   "source": [
    "### Обучение модели линейной регрессии после умножения признаков на обратимую матрицу"
   ]
  },
  {
   "cell_type": "markdown",
   "metadata": {},
   "source": [
    "Так как наша матрица с признаками совсем не квадратная, умножить на обратную ей не получится. Нам нужен квадратик, сторона которого равна числу признаков. Вызовем случайную обратимую матрицу и умножим на неё признаки."
   ]
  },
  {
   "cell_type": "code",
   "execution_count": 9,
   "metadata": {},
   "outputs": [
    {
     "name": "stdout",
     "output_type": "stream",
     "text": [
      "\n",
      "Признаки после преобразвания:\n",
      "              0             1             2             3\n",
      "0  26934.445155  26443.798561  27017.816385  29858.588291\n",
      "1  20646.180686  20269.775601  20712.100341  22889.850409\n",
      "2  11411.918398  11203.848603  11448.982743  12652.732750\n",
      "3  22635.035301  22222.539896  22702.692699  25090.182675\n",
      "4  14177.728323  13919.562924  14222.772446  15717.990068\n"
     ]
    }
   ],
   "source": [
    "# создаём рандомную матрицу 4 на 4, потому что у нас 4 признака, иначе нельзя будет перемножить матрицы\n",
    "random_matrix = np.random.rand(4,4)\n",
    "# проверяем, создаётся ли обратная матрица без ошибок (если да, то наша матрица обратима)\n",
    "np.linalg.inv(random_matrix)\n",
    "\n",
    "# умножаем матрицу с признаками на матрицу случайную\n",
    "features_processed = features_source @ random_matrix\n",
    "print(\"\\nПризнаки после преобразвания:\")\n",
    "print(features_processed.head())"
   ]
  },
  {
   "cell_type": "markdown",
   "metadata": {},
   "source": [
    "15254 члена семьи у 34230-летнего клиента. Данные спрятаны неплохо. \n",
    "\n",
    "Теперь посмотрим, как выглядит метрика для признаков, умноженных на случайную матрицу."
   ]
  },
  {
   "cell_type": "code",
   "execution_count": 10,
   "metadata": {},
   "outputs": [
    {
     "name": "stdout",
     "output_type": "stream",
     "text": [
      "R2 на исходной выборке равно: 0.4368694922938444\n"
     ]
    }
   ],
   "source": [
    "predictions_processed, r2_processed = predict_and_R2(features_processed, target)\n",
    "print(\"R2 на исходной выборке равно:\", r2_processed)"
   ]
  },
  {
   "cell_type": "markdown",
   "metadata": {},
   "source": [
    "Если прогнать две последние ячейки кода несколько раз (таким образом создавая новую случайную матрицу каждый раз), можно количественно убедиться, что метрика R2 практически идентична той, что мы получили на исходных данных, значение совпадает до 11го знака после запятой. \n",
    "\n",
    "Возрадуемся!"
   ]
  },
  {
   "cell_type": "markdown",
   "metadata": {},
   "source": [
    "## Чек-лист проверки"
   ]
  },
  {
   "cell_type": "markdown",
   "metadata": {},
   "source": [
    "Поставьте 'x' в выполненных пунктах. Далее нажмите Shift+Enter."
   ]
  },
  {
   "cell_type": "markdown",
   "metadata": {},
   "source": [
    "- [x]  Jupyter Notebook открыт\n",
    "- [x]  Весь код выполняется без ошибок\n",
    "- [x]  Ячейки с кодом расположены в порядке исполнения\n",
    "- [x]  Выполнен шаг 1: данные загружены\n",
    "- [x]  Выполнен шаг 2: получен ответ на вопрос об умножении матриц\n",
    "    - [x]  Указан правильный вариант ответа\n",
    "    - [x]  Вариант обоснован\n",
    "- [x]  Выполнен шаг 3: предложен алгоритм преобразования\n",
    "    - [x]  Алгоритм описан\n",
    "    - [x]  Алгоритм обоснован\n",
    "- [x]  Выполнен шаг 4: алгоритм проверен\n",
    "    - [x]  Алгоритм реализован\n",
    "    - [x]  Проведено сравнение качества моделей до и после преобразования"
   ]
  },
  {
   "cell_type": "code",
   "execution_count": null,
   "metadata": {},
   "outputs": [],
   "source": []
  }
 ],
 "metadata": {
  "ExecuteTimeLog": [
   {
    "duration": 1428,
    "start_time": "2021-12-07T14:49:44.108Z"
   },
   {
    "duration": 38,
    "start_time": "2021-12-07T14:49:45.539Z"
   },
   {
    "duration": 12,
    "start_time": "2021-12-07T14:49:45.580Z"
   },
   {
    "duration": 24,
    "start_time": "2021-12-07T14:49:45.595Z"
   },
   {
    "duration": 19,
    "start_time": "2021-12-07T14:49:45.621Z"
   },
   {
    "duration": 8,
    "start_time": "2021-12-07T14:49:45.642Z"
   },
   {
    "duration": 14,
    "start_time": "2021-12-07T14:49:45.652Z"
   },
   {
    "duration": 23,
    "start_time": "2021-12-07T14:49:45.669Z"
   },
   {
    "duration": 33,
    "start_time": "2021-12-07T14:49:45.695Z"
   },
   {
    "duration": 97,
    "start_time": "2021-12-07T14:49:45.733Z"
   }
  ],
  "kernelspec": {
   "display_name": "Python 3",
   "language": "python",
   "name": "python3"
  },
  "language_info": {
   "codemirror_mode": {
    "name": "ipython",
    "version": 3
   },
   "file_extension": ".py",
   "mimetype": "text/x-python",
   "name": "python",
   "nbconvert_exporter": "python",
   "pygments_lexer": "ipython3",
   "version": "3.7.8"
  },
  "toc": {
   "base_numbering": 1,
   "nav_menu": {},
   "number_sections": true,
   "sideBar": true,
   "skip_h1_title": true,
   "title_cell": "Содержание",
   "title_sidebar": "Contents",
   "toc_cell": true,
   "toc_position": {
    "height": "calc(100% - 180px)",
    "left": "10px",
    "top": "150px",
    "width": "165.391px"
   },
   "toc_section_display": true,
   "toc_window_display": false
  }
 },
 "nbformat": 4,
 "nbformat_minor": 2
}
